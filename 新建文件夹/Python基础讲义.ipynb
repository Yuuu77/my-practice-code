{
 "cells": [
  {
   "cell_type": "markdown",
   "metadata": {
    "hide_input": true
   },
   "source": [
    "# Variables, Data Types, Expressions and Statements"
   ]
  },
  {
   "cell_type": "markdown",
   "metadata": {},
   "source": [
    "## Variables"
   ]
  },
  {
   "cell_type": "markdown",
   "metadata": {},
   "source": [
    "Variables are nothing but reserved memory locations to store values. When you create a variable you reserve some space in memory. Based on the data type of a variable, the interpreter allocates memory and decides what can be stored in the reserved memory.Python variables do not need explicit declaration to reserve memory space. The declaration happens automatically when you assign a value to a variable. The equal sign (=) is used to assign values to variables."
   ]
  },
  {
   "cell_type": "markdown",
   "metadata": {},
   "source": [
    "### Assigning Values to Variables"
   ]
  },
  {
   "cell_type": "code",
   "execution_count": 22,
   "metadata": {
    "ExecuteTime": {
     "end_time": "2021-03-26T08:42:06.162791Z",
     "start_time": "2021-03-26T08:42:06.152818Z"
    }
   },
   "outputs": [
    {
     "name": "stdout",
     "output_type": "stream",
     "text": [
      "2021 3.14 sztu 中国 sztu\n"
     ]
    }
   ],
   "source": [
    "a=2021   #An integer assignment\n",
    "b=3.14   #A floating point assignment\n",
    "c='sztu' # A string assignment\n",
    "d='中国' # A string assignment\n",
    "#This is comment line.Output print need the parenthesis\n",
    "print(a,b,c,d,c)"
   ]
  },
  {
   "cell_type": "markdown",
   "metadata": {},
   "source": [
    "### Multiple Assignment"
   ]
  },
  {
   "cell_type": "code",
   "execution_count": 23,
   "metadata": {
    "ExecuteTime": {
     "end_time": "2021-03-26T08:48:29.048943Z",
     "start_time": "2021-03-26T08:48:29.042954Z"
    }
   },
   "outputs": [],
   "source": [
    "a = b = c = 10\n",
    "x, y, z = 10, 3.14, \"sztu\"\n",
    "#Guess -- what is the output of the below code\n",
    "aa = bb = cc= 10, 3.14, \"sztu\""
   ]
  },
  {
   "cell_type": "code",
   "execution_count": 33,
   "metadata": {
    "ExecuteTime": {
     "end_time": "2021-03-26T09:22:37.164353Z",
     "start_time": "2021-03-26T09:22:37.157373Z"
    }
   },
   "outputs": [
    {
     "name": "stdout",
     "output_type": "stream",
     "text": [
      "<class 'int'> <class 'float'> <class 'str'> <class 'tuple'>\n"
     ]
    }
   ],
   "source": [
    "print(type(a),type(y),type(z),type(aa))"
   ]
  },
  {
   "cell_type": "markdown",
   "metadata": {},
   "source": [
    "## Standard Data Types\n",
    "Python has six standard data types:  \n",
    "a) Numbers  \n",
    "b) String  \n",
    "c) List  \n",
    "d) Tuple  \n",
    "e) Set  \n",
    "f) Dictionary"
   ]
  },
  {
   "cell_type": "markdown",
   "metadata": {},
   "source": [
    "### Numbers\n",
    "Python supports three different numerical types:  \n",
    "- int:signed integers.\n",
    "- float:floating point real values\n",
    "- complex:A complex number consists of an ordered pair of real floating-point numbersdenoted by x + yj, where x is the real part and y is the imaginary part of the complex number."
   ]
  },
  {
   "cell_type": "code",
   "execution_count": 27,
   "metadata": {
    "ExecuteTime": {
     "end_time": "2021-03-26T09:14:52.862835Z",
     "start_time": "2021-03-26T09:14:52.855853Z"
    }
   },
   "outputs": [
    {
     "name": "stdout",
     "output_type": "stream",
     "text": [
      "10 3.14 (2+3j)\n"
     ]
    }
   ],
   "source": [
    "a,b,c=10,3.14,2+3j\n",
    "print(a,b,c)"
   ]
  },
  {
   "cell_type": "markdown",
   "metadata": {},
   "source": [
    "### Strings\n",
    "- Strings in Python are identified as a contiguous set of characters represented in the quotation marks. Python allows for either pairs of single or double quotes. \n",
    "- Subsets of strings can be taken using the slice operator ([ ] and [:] ) with indexes starting at 0 in the beginning of the string\n",
    "and working their way from -1 at the end. \n",
    "- The plus (+) sign is the string concatenation operator and the asterisk (*) is the repetition operator in python if used with strings."
   ]
  },
  {
   "cell_type": "code",
   "execution_count": 28,
   "metadata": {
    "ExecuteTime": {
     "end_time": "2021-03-26T09:16:43.435421Z",
     "start_time": "2021-03-26T09:16:43.425447Z"
    }
   },
   "outputs": [
    {
     "name": "stdout",
     "output_type": "stream",
     "text": [
      "Hello Python!\n",
      "H\n",
      "llo\n",
      "llo Python!\n",
      "Hello Python!Hello Python!\n",
      "Hello Python!Guys\n"
     ]
    }
   ],
   "source": [
    "str = 'Hello Python!'\n",
    "print(str) # Prints complete string\n",
    "print(str[0]) # Prints first character of the string\n",
    "print(str[2:5]) # Prints characters starting from 3rd to 5th\n",
    "print(str[2:]) # Prints string starting from 3rd character\n",
    "print(str * 2) # Prints string two times\n",
    "print(str + \"Guys\") # Prints concatenated string"
   ]
  },
  {
   "cell_type": "markdown",
   "metadata": {},
   "source": [
    "### Lists"
   ]
  },
  {
   "cell_type": "markdown",
   "metadata": {
    "ExecuteTime": {
     "end_time": "2021-03-26T09:20:53.953047Z",
     "start_time": "2021-03-26T09:20:53.943074Z"
    }
   },
   "source": [
    "Lists are the most versatile of Python's compound data types. A list contains items separated by commas and enclosed within square brackets ([]). To some extent,lists are similar to arrays in C. One difference between them is that all the items mbelonging to a list can be of different data type.\n",
    "The values stored in a list can be accessed using the slice operator ([ ] and [:]) with indexes starting at 0 in the beginning of the list and working their way to end -1. The plus (+) sign is the list concatenation operator, and the asterisk (*) is the repetition operator."
   ]
  },
  {
   "cell_type": "code",
   "execution_count": 1,
   "metadata": {
    "ExecuteTime": {
     "end_time": "2021-09-02T11:26:30.614881Z",
     "start_time": "2021-09-02T11:26:30.591470Z"
    }
   },
   "outputs": [
    {
     "name": "stdout",
     "output_type": "stream",
     "text": [
      "['mainu', 'shainu', 86, 3.14, 50.2]\n",
      "mainu\n",
      "['shainu', 86]\n",
      "[86, 3.14, 50.2]\n",
      "[123, 'arun', 123, 'arun']\n",
      "['mainu', 'shainu', 86, 3.14, 50.2, 123, 'arun']\n"
     ]
    }
   ],
   "source": [
    "L = [ 'mainu', 'shainu', 86 , 3.14, 50.2 ]\n",
    "tinylist = [123, 'arun']\n",
    "print(L) # Prints complete list\n",
    "print(L[0]) # Prints first element of the list\n",
    "print(L[1:3]) # Prints elements starting from 2nd till 3rd\n",
    "print(L[2:]) # Prints elements starting from 3rd element\n",
    "print(tinylist * 2) # Prints list two times\n",
    "print(L + tinylist) # Prints concatenated lists"
   ]
  },
  {
   "cell_type": "markdown",
   "metadata": {},
   "source": [
    "### Tuples\n",
    "A tuple is another sequence data type that is similar to the list. A tuple consists of a number of values separated by commas. Tuples are enclosed within parentheses.\n",
    "\n",
    "The main differences between lists and tuples are: Lists are enclosed in brackets ( [] ) and their elements and size can be changed, while tuples are enclosed in parentheses ( ( ) ) and cannot be updated. Tuples can be thought of as read-only\n",
    "lists."
   ]
  },
  {
   "cell_type": "code",
   "execution_count": 35,
   "metadata": {
    "ExecuteTime": {
     "end_time": "2021-03-26T09:28:24.367895Z",
     "start_time": "2021-03-26T09:28:24.358918Z"
    }
   },
   "outputs": [
    {
     "name": "stdout",
     "output_type": "stream",
     "text": [
      "('mainu', 'shainu', 86, 3.14, 50.2)\n",
      "mainu\n",
      "('shainu', 86)\n",
      "(86, 3.14, 50.2)\n",
      "(123, 'arun', 123, 'arun')\n",
      "('mainu', 'shainu', 86, 3.14, 50.2, 123, 'arun')\n"
     ]
    }
   ],
   "source": [
    "tuple = ( 'mainu', 'shainu', 86 , 3.14, 50.2 )\n",
    "tinytuple = (123, 'arun')\n",
    "print(tuple) # Prints complete tuple\n",
    "print(tuple[0]) # Prints first element of the tuple\n",
    "print(tuple[1:3]) # Prints elements starting from 2nd till 3rd\n",
    "print(tuple[2:]) # Prints elements starting from 3rd element\n",
    "print(tinytuple * 2) # Prints tuple two times\n",
    "print(tuple + tinytuple) # Prints concatenated tuples"
   ]
  },
  {
   "cell_type": "code",
   "execution_count": 3,
   "metadata": {
    "ExecuteTime": {
     "end_time": "2021-09-02T11:30:24.145187Z",
     "start_time": "2021-09-02T11:30:23.864532Z"
    }
   },
   "outputs": [
    {
     "ename": "TypeError",
     "evalue": "'tuple' object does not support item assignment",
     "output_type": "error",
     "traceback": [
      "\u001b[1;31m---------------------------------------------------------------------------\u001b[0m",
      "\u001b[1;31mTypeError\u001b[0m                                 Traceback (most recent call last)",
      "\u001b[1;32m<ipython-input-3-e7421962dd7b>\u001b[0m in \u001b[0;36m<module>\u001b[1;34m\u001b[0m\n\u001b[0;32m      2\u001b[0m \u001b[0ml\u001b[0m \u001b[1;33m=\u001b[0m \u001b[1;33m[\u001b[0m \u001b[1;34m'mainu'\u001b[0m\u001b[1;33m,\u001b[0m \u001b[1;36m44\u001b[0m \u001b[1;33m,\u001b[0m \u001b[1;36m3.14\u001b[0m\u001b[1;33m,\u001b[0m \u001b[1;34m'shainu'\u001b[0m\u001b[1;33m,\u001b[0m \u001b[1;36m33.33\u001b[0m \u001b[1;33m]\u001b[0m\u001b[1;33m\u001b[0m\u001b[1;33m\u001b[0m\u001b[0m\n\u001b[0;32m      3\u001b[0m \u001b[0ml\u001b[0m\u001b[1;33m[\u001b[0m\u001b[1;36m2\u001b[0m\u001b[1;33m]\u001b[0m \u001b[1;33m=\u001b[0m \u001b[1;36m88\u001b[0m \u001b[1;31m# Valid syntax with list\u001b[0m\u001b[1;33m\u001b[0m\u001b[1;33m\u001b[0m\u001b[0m\n\u001b[1;32m----> 4\u001b[1;33m \u001b[0mt\u001b[0m\u001b[1;33m[\u001b[0m\u001b[1;36m2\u001b[0m\u001b[1;33m]\u001b[0m \u001b[1;33m=\u001b[0m \u001b[1;36m88\u001b[0m \u001b[1;31m# Invalid syntax with tuple\u001b[0m\u001b[1;33m\u001b[0m\u001b[1;33m\u001b[0m\u001b[0m\n\u001b[0m",
      "\u001b[1;31mTypeError\u001b[0m: 'tuple' object does not support item assignment"
     ]
    }
   ],
   "source": [
    "t = ( 'mainu', 44 , 3.14, 'shainu', 33.33 )\n",
    "l = [ 'mainu', 44 , 3.14, 'shainu', 33.33 ]\n",
    "l[2] = 88 # Valid syntax with list\n",
    "t[2] = 88 # Invalid syntax with tuple"
   ]
  },
  {
   "cell_type": "markdown",
   "metadata": {},
   "source": [
    "### set"
   ]
  },
  {
   "cell_type": "markdown",
   "metadata": {
    "ExecuteTime": {
     "end_time": "2021-03-26T09:30:20.695817Z",
     "start_time": "2021-03-26T09:30:20.688836Z"
    }
   },
   "source": [
    "集合（set）是一个无序的不重复元素序列。可以使用大括号 { } 或者 set() 函数创建集合，注意：创建一个空集合必须用 set() 而不是 { }，因为 { } 是用来创建一个空字典"
   ]
  },
  {
   "cell_type": "code",
   "execution_count": 1,
   "metadata": {
    "ExecuteTime": {
     "end_time": "2021-09-16T10:51:56.242321Z",
     "start_time": "2021-09-16T10:51:56.223248Z"
    }
   },
   "outputs": [
    {
     "name": "stdout",
     "output_type": "stream",
     "text": [
      "{'banana', 'orange', 'apple', 'pear'}\n"
     ]
    }
   ],
   "source": [
    "basket = {'apple', 'orange', 'apple', 'pear', 'orange', 'banana'}\n",
    "print(basket)                      # 这里演示的是去重功能"
   ]
  },
  {
   "cell_type": "code",
   "execution_count": 2,
   "metadata": {
    "ExecuteTime": {
     "end_time": "2021-09-16T10:52:05.388524Z",
     "start_time": "2021-09-16T10:52:05.373442Z"
    }
   },
   "outputs": [
    {
     "data": {
      "text/plain": [
       "True"
      ]
     },
     "execution_count": 2,
     "metadata": {},
     "output_type": "execute_result"
    }
   ],
   "source": [
    "'orange' in basket                 # 快速判断元素是否在集合内"
   ]
  },
  {
   "cell_type": "code",
   "execution_count": 41,
   "metadata": {
    "ExecuteTime": {
     "end_time": "2021-03-26T09:33:51.861214Z",
     "start_time": "2021-03-26T09:33:51.855225Z"
    }
   },
   "outputs": [
    {
     "data": {
      "text/plain": [
       "False"
      ]
     },
     "execution_count": 41,
     "metadata": {},
     "output_type": "execute_result"
    }
   ],
   "source": [
    "'crabgrass' in basket"
   ]
  },
  {
   "cell_type": "code",
   "execution_count": 3,
   "metadata": {
    "ExecuteTime": {
     "end_time": "2021-09-16T10:52:10.863900Z",
     "start_time": "2021-09-16T10:52:10.851834Z"
    }
   },
   "outputs": [
    {
     "name": "stdout",
     "output_type": "stream",
     "text": [
      "{'a', 'c', 'r', 'd', 'b'}\n",
      "集合a中包含而集合b中不包含的元素:{'r', 'b', 'd'}\n",
      "集合a或b中包含的所有元素:{'z', 'l', 'm', 'a', 'c', 'r', 'd', 'b'}\n",
      "集合a和b中都包含了的元素:{'a', 'c'}\n",
      "不同时包含于a和b的元素:{'z', 'l', 'r', 'm', 'd', 'b'}\n"
     ]
    }
   ],
   "source": [
    "# 下面展示两个集合间的运算.\n",
    "a = set('abracadabra')\n",
    "b = set('alacazam')\n",
    "print(a)                                  \n",
    "print(f'集合a中包含而集合b中不包含的元素:{a - b}') \n",
    "print(f'集合a或b中包含的所有元素:{a | b}')\n",
    "print(f'集合a和b中都包含了的元素:{a & b}')\n",
    "print(f'不同时包含于a和b的元素:{a ^ b}')"
   ]
  },
  {
   "cell_type": "code",
   "execution_count": 4,
   "metadata": {
    "ExecuteTime": {
     "end_time": "2021-09-16T10:53:27.850202Z",
     "start_time": "2021-09-16T10:53:27.830729Z"
    }
   },
   "outputs": [
    {
     "data": {
      "text/plain": [
       "True"
      ]
     },
     "execution_count": 4,
     "metadata": {},
     "output_type": "execute_result"
    }
   ],
   "source": [
    "a.intersection(b)==a&b"
   ]
  },
  {
   "cell_type": "code",
   "execution_count": 13,
   "metadata": {
    "ExecuteTime": {
     "end_time": "2021-09-16T09:37:59.038835Z",
     "start_time": "2021-09-16T09:37:59.031833Z"
    }
   },
   "outputs": [
    {
     "data": {
      "text/plain": [
       "({'a', 'b', 'c', 'd', 'r'},\n",
       " {'a', 'c', 'l', 'm', 'z'},\n",
       " {'a', 'b', 'c', 'd', 'l', 'm', 'r', 'z'})"
      ]
     },
     "execution_count": 13,
     "metadata": {},
     "output_type": "execute_result"
    }
   ],
   "source": [
    "a,b,a.union(b)"
   ]
  },
  {
   "cell_type": "markdown",
   "metadata": {},
   "source": [
    "集合内置方法完整列表\n",
    "- add()\t为集合添加元素\n",
    "- clear()\t移除集合中的所有元素\n",
    "- copy()\t拷贝一个集合\n",
    "- difference()\t返回多个集合的差集\n",
    "- difference_update()\t移除集合中的元素，该元素在指定的集合也存在。\n",
    "- discard()\t删除集合中指定的元素\n",
    "- intersection()\t返回集合的交集\n",
    "- intersection_update()\t返回集合的交集。\n",
    "- isdisjoint()\t判断两个集合是否包含相同的元素，如果没有返回 True，否则返回 False。\n",
    "- issubset()\t判断指定集合是否为该方法参数集合的子集。\n",
    "- issuperset()\t判断该方法的参数集合是否为指定集合的子集\n",
    "- pop()\t随机移除元素\n",
    "- remove()\t移除指定元素\n",
    "- symmetric_difference()\t返回两个集合中不重复的元素集合。\n",
    "- symmetric_difference_update()\t移除当前集合中在另外一个指定集合相同的元素，并将另外一个指定集合中不同的元素插入到当前集合中。\n",
    "- union()\t返回两个集合的并集\n",
    "- update()\t给集合添加元素"
   ]
  },
  {
   "cell_type": "code",
   "execution_count": 44,
   "metadata": {
    "ExecuteTime": {
     "end_time": "2021-03-26T09:40:22.036528Z",
     "start_time": "2021-03-26T09:40:22.029545Z"
    }
   },
   "outputs": [
    {
     "data": {
      "text/plain": [
       "{'a', 'c'}"
      ]
     },
     "execution_count": 44,
     "metadata": {},
     "output_type": "execute_result"
    }
   ],
   "source": [
    "a.intersection(b)"
   ]
  },
  {
   "cell_type": "markdown",
   "metadata": {},
   "source": [
    "### Dictionary"
   ]
  },
  {
   "cell_type": "markdown",
   "metadata": {},
   "source": [
    "Dictionaries are kind of hash table type. They work like associative arrays or\n",
    "hashes found in Perl or C# etc., and consist of key-value pairs. A dictionary key can\n",
    "be almost any Python type, but are usually numbers or strings. Values, on the\n",
    "other hand, can be any arbitrary Python object.\n",
    "Dictionaries are enclosed by curly braces ({ }) and values can be assigned and\n",
    "accessed using square braces ([])."
   ]
  },
  {
   "cell_type": "code",
   "execution_count": 5,
   "metadata": {
    "ExecuteTime": {
     "end_time": "2021-09-16T10:54:46.666776Z",
     "start_time": "2021-09-16T10:54:46.655422Z"
    }
   },
   "outputs": [
    {
     "name": "stdout",
     "output_type": "stream",
     "text": [
      "This is mainu\n",
      "This is number 10\n",
      "{'name': 'arun', 'code': 23, 'dept': 'IT'}\n",
      "dict_keys(['name', 'code', 'dept'])\n",
      "dict_values(['arun', 23, 'IT'])\n"
     ]
    }
   ],
   "source": [
    "d = {}\n",
    "d['mainu'] = \"This is mainu\"\n",
    "d[10] = \"This is number 10\"\n",
    "empdict = {'name': 'arun','code':23, 'dept': 'IT'}\n",
    "print(d['mainu']) # Prints value for 'mainu' key\n",
    "print(d[10]) # Prints value for 10 key\n",
    "print(empdict) # Prints complete dictionary\n",
    "print(empdict.keys()) # Prints all the keys\n",
    "print(empdict.values()) # Prints all the values"
   ]
  },
  {
   "cell_type": "code",
   "execution_count": 7,
   "metadata": {
    "ExecuteTime": {
     "end_time": "2021-09-16T10:56:34.270257Z",
     "start_time": "2021-09-16T10:56:34.262403Z"
    }
   },
   "outputs": [
    {
     "data": {
      "text/plain": [
       "[(1, 'a'), (2, 'b'), (3, 'c')]"
      ]
     },
     "execution_count": 7,
     "metadata": {},
     "output_type": "execute_result"
    }
   ],
   "source": [
    "list(zip([1,2,3],['a','b','c']))"
   ]
  },
  {
   "cell_type": "code",
   "execution_count": 8,
   "metadata": {
    "ExecuteTime": {
     "end_time": "2021-09-16T10:57:12.673407Z",
     "start_time": "2021-09-16T10:57:12.665631Z"
    }
   },
   "outputs": [
    {
     "data": {
      "text/plain": [
       "{1: 'a', 2: 'b', 3: 'c'}"
      ]
     },
     "execution_count": 8,
     "metadata": {},
     "output_type": "execute_result"
    }
   ],
   "source": [
    "dict(zip([1,2,3],['a','b','c']))"
   ]
  },
  {
   "cell_type": "code",
   "execution_count": 4,
   "metadata": {
    "ExecuteTime": {
     "end_time": "2021-03-26T10:15:44.532734Z",
     "start_time": "2021-03-26T10:15:44.524785Z"
    }
   },
   "outputs": [],
   "source": [
    "#7 methods to create dictionary\n",
    "#1创建空字典\n",
    "dic = {}\n",
    "#2.直接赋值创建\n",
    "dic = {'spam':1, 'egg':2, 'bar':3}\n",
    "#3.通过关键字dict和关键字参数创建\n",
    "dic = dict(spam = 1, egg = 2, bar =3)\n",
    "#4.通过二元组列表创建\n",
    "lis = [('spam', 1), ('egg', 2), ('bar', 3)]\n",
    "dic = dict(lis)\n",
    "#dict和zip结合创建\n",
    "dic = dict(zip('abc', [1, 2, 3]))\n",
    "#6.通过字典推导式创建\n",
    "dic = {i:2*i for i in range(3)}\n",
    "#7.通过dict.fromkeys()创建\n",
    "#通常用来初始化字典, 设置value的默认值\n",
    "dic = dict.fromkeys(range(3), 'x')"
   ]
  },
  {
   "cell_type": "markdown",
   "metadata": {},
   "source": [
    "### Keywords or reserved words"
   ]
  },
  {
   "cell_type": "markdown",
   "metadata": {},
   "source": [
    "The following identifiers are used as reserved words, or keywords of the language,\n",
    "and cannot be used as ordinary identifiers. There are 33 keywords in Python 3.4.3.\n",
    "They must be spelled exactly as written here:"
   ]
  },
  {
   "cell_type": "markdown",
   "metadata": {},
   "source": [
    "- FALSE class finally is return \n",
    "- None continue for lambda try\n",
    "- TRUE def from nonlocal while\n",
    "- and del global not yield\n",
    "- as elif if or\n",
    "- assert else import pass\n",
    "- break except in raise"
   ]
  },
  {
   "cell_type": "markdown",
   "metadata": {},
   "source": [
    "## Data Type Conversion Function"
   ]
  },
  {
   "cell_type": "markdown",
   "metadata": {},
   "source": [
    "You may need to perform conversions between the built-in types. To convert\n",
    "between types, you simply use the type name as a function. There are several\n",
    "built-in functions to perform conversion from one data type to another. These\n",
    "functions return a new object representing the converted value."
   ]
  },
  {
   "cell_type": "code",
   "execution_count": 48,
   "metadata": {
    "ExecuteTime": {
     "end_time": "2021-03-26T09:51:11.725065Z",
     "start_time": "2021-03-26T09:51:11.717087Z"
    }
   },
   "outputs": [
    {
     "name": "stdout",
     "output_type": "stream",
     "text": [
      "The value of pi is a floating point number : 3.140000 \n",
      "The converted value of pi which is stored in newpi : 3\n",
      "The value of x = 12345 \n",
      "The value of y = 12345\n",
      "The value of z= 12345\n"
     ]
    }
   ],
   "source": [
    "pi = 3.14\n",
    "print(\"The value of pi is a floating point number : %f \" %pi)\n",
    "newpi = int(pi)\n",
    "print(\"The converted value of pi which is stored in newpi : %d\" %newpi)\n",
    "x =\"12345\" #string type\n",
    "y = int(x,10) #converted to int, providing optional base\n",
    "z = int(x) #converted the string into an int omitting the base\n",
    "print(\"The value of x = %s \" %x)\n",
    "print(\"The value of y = %d\" %y)\n",
    "print(\"The value of z= %d\" %z)"
   ]
  },
  {
   "cell_type": "code",
   "execution_count": 25,
   "metadata": {
    "ExecuteTime": {
     "end_time": "2021-09-16T11:11:36.119412Z",
     "start_time": "2021-09-16T11:11:36.103532Z"
    }
   },
   "outputs": [
    {
     "data": {
      "text/plain": [
       "'ABCDEFGHIJKLMNOPQRSTUVWXYZabcdefghijklmnopqrstuvwxyz0123456789'"
      ]
     },
     "execution_count": 25,
     "metadata": {},
     "output_type": "execute_result"
    }
   ],
   "source": [
    "s1=''.join([chr(i) for i in range(65,91)])\n",
    "s2=''.join([chr(i) for i in range(97,123)])\n",
    "s3=''.join(str(i) for i in range(10))\n",
    "s1+s2+s3"
   ]
  },
  {
   "cell_type": "code",
   "execution_count": 13,
   "metadata": {
    "ExecuteTime": {
     "end_time": "2021-09-16T11:06:09.427378Z",
     "start_time": "2021-09-16T11:06:09.415779Z"
    }
   },
   "outputs": [
    {
     "data": {
      "text/plain": [
       "(97, 122, 65, 90)"
      ]
     },
     "execution_count": 13,
     "metadata": {},
     "output_type": "execute_result"
    }
   ],
   "source": [
    "ord('a'),ord('z'),ord('A'),ord('Z')"
   ]
  },
  {
   "cell_type": "markdown",
   "metadata": {
    "ExecuteTime": {
     "end_time": "2021-03-26T09:55:57.578917Z",
     "start_time": "2021-03-26T09:55:57.561965Z"
    }
   },
   "source": [
    "The following are the list of some built-in conversion functions:  \n",
    "- int(x [,base]) :Converts x to an integer. base specifies the base if x is a string\n",
    "- float(x) Converts x to a floating-point number.\n",
    "- complex(real[,imag]) Creates a complex number.\n",
    "- str(x) Converts object x to a string representation.\n",
    "- repr(x) Converts object x to an expression string.\n",
    "- eval(str) Evaluates a string and returns an object.\n",
    "- tuple(s) Converts s to a tuple.\n",
    "- list(s) Converts s to a list.\n",
    "- set(s) Converts s to a set.\n",
    "- dict(d) Creates a dictionary. d must be a sequence of (key,value)\n",
    "- tuples.frozenset(s) Converts s to a frozen set.\n",
    "- chr(x) Converts an integer to a character.\n",
    "- unichr(x) Converts an integer to a Unicode character.\n",
    "- ord(x) Converts a single character to its integer value.chr() 函数（对于8位的ASCII字符串）或 unichr() 函数（对于Unicode对象）的配对函数，它以一个字符（长度为1的字符串）作为参数，返回对应的 ASCII 数值，或者 Unicode 数值，如果所给的 Unicode 字符超出了你的 Python 定义范围，则会引发一个 TypeError 的异常\n",
    "- bin() 返回一个整数 int 或者长整数 long int 的二进制表示。\n",
    "- hex(x) Converts an integer to a hexadecimal string（16进制）.\n",
    "- oct(x) Converts an integer to an octal string(8进制）."
   ]
  },
  {
   "cell_type": "code",
   "execution_count": 62,
   "metadata": {
    "ExecuteTime": {
     "end_time": "2021-03-26T10:04:07.382737Z",
     "start_time": "2021-03-26T10:04:07.371798Z"
    }
   },
   "outputs": [
    {
     "name": "stdout",
     "output_type": "stream",
     "text": [
      "0b100011 0o43 0x23\n",
      "35\n",
      "35\n",
      "35\n",
      "0b100011\n"
     ]
    }
   ],
   "source": [
    "#进制转换\n",
    "#十进制转其他\n",
    "#二进制\n",
    "b=bin(35)\n",
    "#八进制\n",
    "o=oct(35)\n",
    "#十六进制\n",
    "h=hex(35)\n",
    "print(b,o,h)\n",
    "#其他进制转十进制\n",
    "print(int(b,2))\n",
    "print(int(o,8))\n",
    "print(int(h,16))\n",
    "#其他转二进制\n",
    "print(bin(int(o,8)))"
   ]
  },
  {
   "cell_type": "markdown",
   "metadata": {},
   "source": [
    "- repr 返回对象的string格式，以供交互式解释器;函数str() 用于将值转化为适于人阅读的形式，而repr() 转化为供解释器读取的形式。\n",
    "- eval () ——执行字符串表达式，并返回表达式的计算结果"
   ]
  },
  {
   "cell_type": "code",
   "execution_count": 65,
   "metadata": {
    "ExecuteTime": {
     "end_time": "2021-03-26T10:05:22.887940Z",
     "start_time": "2021-03-26T10:05:22.880961Z"
    }
   },
   "outputs": [
    {
     "data": {
      "text/plain": [
       "\"'x+y=z'\""
      ]
     },
     "execution_count": 65,
     "metadata": {},
     "output_type": "execute_result"
    }
   ],
   "source": [
    "repr('x+y=z')"
   ]
  },
  {
   "cell_type": "code",
   "execution_count": 6,
   "metadata": {
    "ExecuteTime": {
     "end_time": "2021-03-26T10:18:05.872672Z",
     "start_time": "2021-03-26T10:18:05.865694Z"
    }
   },
   "outputs": [
    {
     "data": {
      "text/plain": [
       "'7'"
      ]
     },
     "execution_count": 6,
     "metadata": {},
     "output_type": "execute_result"
    }
   ],
   "source": [
    "repr(3+4)"
   ]
  },
  {
   "cell_type": "code",
   "execution_count": 5,
   "metadata": {
    "ExecuteTime": {
     "end_time": "2021-03-26T10:17:53.630815Z",
     "start_time": "2021-03-26T10:17:53.624830Z"
    }
   },
   "outputs": [
    {
     "data": {
      "text/plain": [
       "7"
      ]
     },
     "execution_count": 5,
     "metadata": {},
     "output_type": "execute_result"
    }
   ],
   "source": [
    "eval ('3+4')"
   ]
  },
  {
   "cell_type": "markdown",
   "metadata": {},
   "source": [
    "eval()函数\n",
    "- 功能：将字符串str当成有效的表达式来求值并返回计算结果。\n",
    "- 语法： eval(source[, globals[, locals]]) -> value\n",
    "\n",
    "参数：\n",
    "- source： 一个 Python 表达式或函数 compile()返回的代码对象\n",
    "- globals： 可选。必须是 dictionary\n",
    "- locals： 可选。任意映射对象"
   ]
  },
  {
   "cell_type": "code",
   "execution_count": 67,
   "metadata": {
    "ExecuteTime": {
     "end_time": "2021-03-26T10:09:27.307999Z",
     "start_time": "2021-03-26T10:09:27.303004Z"
    }
   },
   "outputs": [
    {
     "name": "stdout",
     "output_type": "stream",
     "text": [
      "30\n"
     ]
    }
   ],
   "source": [
    "a=10\n",
    "b=20\n",
    "f=eval(\"a+b\")\n",
    "print(f)   #结果：30"
   ]
  },
  {
   "cell_type": "code",
   "execution_count": 3,
   "metadata": {
    "ExecuteTime": {
     "end_time": "2021-03-26T10:11:25.137319Z",
     "start_time": "2021-03-26T10:11:25.129343Z"
    }
   },
   "outputs": [
    {
     "name": "stdout",
     "output_type": "stream",
     "text": [
      "300\n"
     ]
    }
   ],
   "source": [
    "dict1=dict(a=100,b=200)\n",
    "h=eval(\"a+b\",dict1) #dict1表示a、b的值来源于该字典中的key的值\n",
    "print(h) "
   ]
  },
  {
   "cell_type": "markdown",
   "metadata": {},
   "source": [
    "### Statements\n",
    "Programs written in the Python language are composed of statements and\n",
    "expressions. Expressions process objects and are embedded in statements. A\n",
    "statement is a unit of code that the Python interpreter can execute. We have used\n",
    "two kinds of statements: print and assignment so far.\n",
    "We can write a Python statement or statements either in interactive mode in\n",
    "Python Shell or write a Python script with .py extension. When we type a\n",
    "statement in interactive mode, the interpreter executes it and also displays the\n",
    "results. When there are many lines of code need to be written we prefer to write a\n",
    "script which contains a sequence of statements."
   ]
  },
  {
   "cell_type": "code",
   "execution_count": 8,
   "metadata": {
    "ExecuteTime": {
     "end_time": "2021-03-26T10:22:16.636244Z",
     "start_time": "2021-03-26T10:22:16.629264Z"
    }
   },
   "outputs": [
    {
     "name": "stdout",
     "output_type": "stream",
     "text": [
      "56\n",
      "Mainu\n",
      "56.0\n"
     ]
    }
   ],
   "source": [
    "#All are statements\n",
    "X = 56\n",
    "Name='Mainu'\n",
    "Z = float(X)\n",
    "print(X)\n",
    "print(Name)\n",
    "print(Z)"
   ]
  },
  {
   "cell_type": "markdown",
   "metadata": {},
   "source": [
    "### Operators and operands\n",
    "Operators are special symbols that represent computations like addition,\n",
    "subtraction, multiplication, division. The values the operator is applied to are\n",
    "called operands.  \n",
    "The following tokens are operators:\n",
    "- \\+ \\- \\* \\*\\* / // %\n",
    "- << >> & | ^ ~\n",
    "- < > <= >= == !="
   ]
  },
  {
   "cell_type": "markdown",
   "metadata": {
    "ExecuteTime": {
     "end_time": "2021-03-26T10:24:39.330057Z",
     "start_time": "2021-03-26T10:24:39.324076Z"
    }
   },
   "source": [
    "1 + 20, x-1, x * 10 + y,y / b, 5**2"
   ]
  },
  {
   "cell_type": "markdown",
   "metadata": {},
   "source": [
    "### Delimiters(分隔符)：  \n",
    "- ( ) [ ] { }\n",
    "- , : . ; @ = ->\n",
    "- += -= *= /= //= %=\n",
    "- &= |= ^= >>= <<= **="
   ]
  },
  {
   "cell_type": "markdown",
   "metadata": {},
   "source": [
    "### Escape Sequence (转义字符串）\n",
    "An escape sequence is a sequence of characters that does not represent itself\n",
    "when used inside a character or string literal, but is translated into another\n",
    "character or a sequence of characters that may be difficult or impossible to\n",
    "represent directly. Escape sequences that begin with a \\ sign. List of Python Escape\n",
    "sequences are given below:\n",
    "\n",
    "- \\newline Backslash and newline ignored\n",
    "- \\\\\\ Backslash (\\)\n",
    "- \\\\' Single quote (')\n",
    "- \\\" Double quote (\")\n",
    "- \\a ASCII Bell (BEL)\n",
    "- \\b ASCII Backspace (BS)\n",
    "- \\f ASCII Formfeed (FF)\n",
    "- \\n ASCII Linefeed (LF)\n",
    "- \\r ASCII Carriage Return (CR)\n",
    "- \\v ASCII Vertical Tab (VT)\n",
    "- \\ooo Character with octal value ooo\n",
    "- \\xhh Character with hex value hh"
   ]
  },
  {
   "cell_type": "code",
   "execution_count": 12,
   "metadata": {
    "ExecuteTime": {
     "end_time": "2021-03-26T10:30:50.394277Z",
     "start_time": "2021-03-26T10:30:50.386298Z"
    }
   },
   "outputs": [
    {
     "name": "stdout",
     "output_type": "stream",
     "text": [
      "The first line below this line displays without escape sequences\n",
      "Marks obtained = 500 and Percentage =  70.5\n",
      "\n",
      "Now we will use the escape sequence newline and tab sequence below\n",
      "\n",
      "Marks obtained =\t 500 \tand Percentage =  70.5\n"
     ]
    }
   ],
   "source": [
    "totalmarks = 500\n",
    "percentage = 70.5\n",
    "print(\"The first line below this line displays without escape sequences\")\n",
    "print(\"Marks obtained =\", totalmarks, \"and Percentage = \", percentage)\n",
    "print(\"\\nNow we will use the escape sequence newline and tab sequence below\")\n",
    "print(\"\\nMarks obtained =\\t\", totalmarks, \"\\tand Percentage = \", percentage)"
   ]
  },
  {
   "cell_type": "markdown",
   "metadata": {},
   "source": [
    "We have seen in the above example how the \\n prints in next line and \\t is use for\n",
    "tab spaces."
   ]
  },
  {
   "cell_type": "markdown",
   "metadata": {},
   "source": [
    "## Expressions\n",
    "An expression is a combination of values, variables, and operators. A value all by\n",
    "itself is considered an expression, and so is a variable, so the following are all legal\n",
    "expressions."
   ]
  },
  {
   "cell_type": "code",
   "execution_count": 14,
   "metadata": {
    "ExecuteTime": {
     "end_time": "2021-03-26T10:33:19.297247Z",
     "start_time": "2021-03-26T10:33:19.291267Z"
    }
   },
   "outputs": [
    {
     "name": "stdout",
     "output_type": "stream",
     "text": [
      "5 8.14 32\n"
     ]
    }
   ],
   "source": [
    "pi = 3.14\n",
    "x = 5\n",
    "y = x+pi\n",
    "z = 2**x\n",
    "print(x,y,z)"
   ]
  },
  {
   "cell_type": "markdown",
   "metadata": {},
   "source": [
    "# The Decision Control and Loop  construct"
   ]
  },
  {
   "cell_type": "markdown",
   "metadata": {},
   "source": [
    "## Decision Control construct"
   ]
  },
  {
   "cell_type": "markdown",
   "metadata": {},
   "source": [
    "Decision structures evaluate multiple expressions which produce TRUE or FALSE as\n",
    "outcome. You need to determine which action to take and which statements to\n",
    "execute if outcome is TRUE or FALSE otherwise.Python programming language assumes any non-zero and non-null values as TRUE,\n",
    "and if it is either zero or null, then it is assumed as FALSE value. Python\n",
    "programming language provides following types of decision making statements."
   ]
  },
  {
   "cell_type": "markdown",
   "metadata": {},
   "source": [
    "if expression:  \n",
    "&emsp;statement(s)"
   ]
  },
  {
   "cell_type": "markdown",
   "metadata": {},
   "source": [
    "The keyword if tells the compiler that what follows is a decision control\n",
    "instruction. The condition following the keyword if is always enclosed within a pair\n",
    "of parentheses. If the condition, whatever it is, is true, then the statement is\n",
    "executed. If the condition is not true then the statement is not executed; instead\n",
    "the program skips past it. But how do we express the condition itself in Python?\n",
    "And how do we evaluate its truth or falsity? As a general rule, we express a\n",
    "condition using Python’s ‘relational’ operators. The relational operators allow us\n",
    "to compare two values to see whether they are equal to each other, unequal, or\n",
    "whether one is greater than the other. Here’s how they look and how they are\n",
    "evaluated in Python."
   ]
  },
  {
   "cell_type": "markdown",
   "metadata": {},
   "source": [
    "### Single Statements within if"
   ]
  },
  {
   "cell_type": "markdown",
   "metadata": {
    "ExecuteTime": {
     "end_time": "2021-03-27T00:44:37.864902Z",
     "start_time": "2021-03-27T00:44:37.855925Z"
    }
   },
   "source": [
    "This expression is true if\n",
    "- x == y x is equal to y\n",
    "- x != y x is not equal to y\n",
    "- x < y x is less than y\n",
    "- x > y x is greater than y\n",
    "- x <= y x is less than or equal to y\n",
    "- x >= y x is greater than or equal to y"
   ]
  },
  {
   "cell_type": "markdown",
   "metadata": {},
   "source": [
    "The relational operators should be familiar to you except for the equality operator\n",
    "== and the inequality operator !=. Note that = is used for assignment, whereas, ==\n",
    "is used for comparison of two quantities. Here is a simple program, which\n",
    "demonstrates the use of if and the relational operators."
   ]
  },
  {
   "cell_type": "code",
   "execution_count": 3,
   "metadata": {
    "ExecuteTime": {
     "end_time": "2021-03-27T00:46:08.188591Z",
     "start_time": "2021-03-27T00:46:04.775349Z"
    }
   },
   "outputs": [
    {
     "name": "stdout",
     "output_type": "stream",
     "text": [
      "Enter your age :28\n",
      "Program ends\n"
     ]
    }
   ],
   "source": [
    "age =int(input(\"Enter your age :\"))\n",
    "if (age <= 18):\n",
    "    print(\"You are not eligible for voting, try in next election!\")\n",
    "print(\"Program ends\")"
   ]
  },
  {
   "cell_type": "markdown",
   "metadata": {},
   "source": [
    "### Multiple Statements within if"
   ]
  },
  {
   "cell_type": "markdown",
   "metadata": {},
   "source": [
    "It is common in many programs to have more than one statement to be executed\n",
    "if the expression following if is satisfied. If such multiple statements are to be\n",
    "executed then they must be properly indented, as illustrated in the following\n",
    "example."
   ]
  },
  {
   "cell_type": "code",
   "execution_count": 4,
   "metadata": {
    "ExecuteTime": {
     "end_time": "2021-03-27T00:49:58.223718Z",
     "start_time": "2021-03-27T00:49:46.112269Z"
    }
   },
   "outputs": [
    {
     "name": "stdout",
     "output_type": "stream",
     "text": [
      "Enter current year :2021\n",
      "Enter year of joining :2015\n",
      "Bonus =1500\n",
      "Congratulation! We are happy to provide you a bonus of 1500\n",
      "We appreciate your long term association with us!\n",
      "\n",
      "This statement is not part of the above if condition because it     is not indented as a part of the if statement\n"
     ]
    }
   ],
   "source": [
    "bonus = 0.0\n",
    "currentyear = int(input(\"Enter current year :\"))\n",
    "yearofjoining = int(input(\"Enter year of joining :\"))\n",
    "yearofservice = currentyear - yearofjoining\n",
    "if(yearofservice >2):\n",
    "    bonus = 1500\n",
    "    print(\"Bonus =%d\" %bonus)\n",
    "    print(\"Congratulation! We are happy to provide you a bonus of %d\" %bonus)\n",
    "    print(\"We appreciate your long term association with us!\")\n",
    "print(\"\\nThis statement is not part of the above if condition because it \\\n",
    "    is not indented as a part of the if statement\")"
   ]
  },
  {
   "cell_type": "markdown",
   "metadata": {},
   "source": [
    "### The if-else Statement"
   ]
  },
  {
   "cell_type": "markdown",
   "metadata": {},
   "source": [
    "The if statement by itself will execute a single statement, or a group of statements,\n",
    "when the expression following if evaluates to true. It does nothing when the\n",
    "expression evaluates to false. We can execute one group of statements if the\n",
    "expression evaluates to true and another group of statements if the expression\n",
    "evaluates to false. This could be done with the help of else statement."
   ]
  },
  {
   "cell_type": "markdown",
   "metadata": {},
   "source": [
    "In a xyz company, an employee is paid his remuneration under these condition: If\n",
    "his basic salary is less than USD. 2000, then HRA = 10% of basic salary and DA =\n",
    "90% of basic salary. If his salary is either equal to or above USD. 2000, then HRA =\n",
    "5% and DA = 80% of basic salary. We will write a program to find his gross salary."
   ]
  },
  {
   "cell_type": "code",
   "execution_count": 5,
   "metadata": {
    "ExecuteTime": {
     "end_time": "2021-03-27T00:52:25.838199Z",
     "start_time": "2021-03-27T00:52:18.390535Z"
    }
   },
   "outputs": [
    {
     "name": "stdout",
     "output_type": "stream",
     "text": [
      "Enter Basic Salary :1000\n",
      "Salary Slip :\n",
      "--------------------------------------------------\n",
      "Your Basic Salary is 1000\n",
      "Your hra is calculated as 100.00\n",
      "Your da is calculated as 900.00\n",
      "--------------------------------------------------\n",
      "Gross salary is 2000.00\n"
     ]
    }
   ],
   "source": [
    "basicsalary = int(input(\"Enter Basic Salary :\"))\n",
    "if (basicsalary < 2000):\n",
    "    hra = basicsalary * 10/100\n",
    "    da = basicsalary * 90/100\n",
    "else:\n",
    "    hra = basicsalary * 5/100\n",
    "    da = basicsalary * 80/100\n",
    "grosssalary = basicsalary + hra + da\n",
    "print(\"Salary Slip :\")\n",
    "print(\"-\" *50)\n",
    "print(\"Your Basic Salary is %d\" %basicsalary)\n",
    "print(\"Your hra is calculated as %.2f\" %hra)\n",
    "print(\"Your da is calculated as %.2f\" %da)\n",
    "print(\"-\" *50)\n",
    "print(\"Gross salary is %.2f\" %grosssalary)"
   ]
  },
  {
   "cell_type": "markdown",
   "metadata": {},
   "source": [
    "### The elif Statement\n",
    "The elif statement allows you to check multiple expressions for TRUE and execute\n",
    "a block of code as soon as one of the conditions evaluates to TRUE.\n",
    "Similar to the else, the elif statement is optional. However, unlike else, for which\n",
    "there can be at most one statement, there can be an arbitrary number of elif\n",
    "statements following an if."
   ]
  },
  {
   "cell_type": "markdown",
   "metadata": {},
   "source": [
    "if expression1:  \n",
    "&emsp;statement(s)  \n",
    "elif expression2:  \n",
    "&emsp;statement(s)  \n",
    "elif expression3:  \n",
    "&emsp;statement(s)  \n",
    "else:  \n",
    "&emsp;statement(s)"
   ]
  },
  {
   "cell_type": "code",
   "execution_count": 6,
   "metadata": {
    "ExecuteTime": {
     "end_time": "2021-03-27T01:33:20.661475Z",
     "start_time": "2021-03-27T01:33:18.090152Z"
    }
   },
   "outputs": [
    {
     "name": "stdout",
     "output_type": "stream",
     "text": [
      "Please enter an integer: 5\n",
      "Bigger number .....\n"
     ]
    }
   ],
   "source": [
    "x = int(input(\"Please enter an integer: \"))\n",
    "if x < 0:\n",
    "    print('Negative number')\n",
    "elif x == 0:\n",
    "    print('Zero')\n",
    "elif x == 1:\n",
    "    print('Single')\n",
    "else:\n",
    "    print('Bigger number .....')"
   ]
  },
  {
   "cell_type": "markdown",
   "metadata": {},
   "source": [
    "### The nested IF statements（嵌套表达）\n",
    "There may be a situation when you want to check for another condition after a\n",
    "condition resolves to true. In such a situation, you can use the nested if construct.\n",
    "In a nested if construct, you can have an if...elif...else construct inside another\n",
    "if...elif...else construct. It is perfectly all right if we write an entire if-else construct\n",
    "within either the body of the if statement or the body of an else statement. This is\n",
    "called ‘nesting’of ifs."
   ]
  },
  {
   "cell_type": "code",
   "execution_count": 7,
   "metadata": {
    "ExecuteTime": {
     "end_time": "2021-03-27T01:46:20.463542Z",
     "start_time": "2021-03-27T01:46:13.644939Z"
    }
   },
   "outputs": [
    {
     "name": "stdout",
     "output_type": "stream",
     "text": [
      "your age: 78\n",
      "You are an adult!\n",
      "You are the aged\n"
     ]
    }
   ],
   "source": [
    "age=int(input('your age: '))\n",
    "if age<18:\n",
    "    print('You are not an adult!')\n",
    "    if age < 6:\n",
    "        print('You are still a child！')\n",
    "    else:\n",
    "        print('You are a teenage')\n",
    "else:\n",
    "    print('You are an adult!')\n",
    "    if age<40:\n",
    "        print('You are a young people')\n",
    "    elif 40<=age<66:\n",
    "        print('You are a middle aged people')\n",
    "    else:\n",
    "        print('You are the aged')"
   ]
  },
  {
   "cell_type": "markdown",
   "metadata": {},
   "source": [
    "## Loop Control Statements\n",
    "A loop statement allows us to execute a statement or group of statements multiple times.Python programming language provides following types of loops to handle looping requirements. There are three methods by way of which we can repeat a part of a program. They are as follows:  \n",
    "a) Using a while loop  \n",
    "b) Using a for loop  \n",
    "c) Nesting loops"
   ]
  },
  {
   "cell_type": "markdown",
   "metadata": {},
   "source": [
    "### The while loop\n",
    "It is often the case in programming that you want to do something a fixed number\n",
    "of times."
   ]
  },
  {
   "cell_type": "code",
   "execution_count": 35,
   "metadata": {
    "ExecuteTime": {
     "end_time": "2021-09-16T11:40:09.336149Z",
     "start_time": "2021-09-16T11:40:09.324513Z"
    }
   },
   "outputs": [
    {
     "name": "stdout",
     "output_type": "stream",
     "text": [
      "-50\n"
     ]
    }
   ],
   "source": [
    "n=s=0\n",
    "while n<=100:\n",
    "    if n%2==0:\n",
    "        s-=n\n",
    "    else:\n",
    "        s+=n\n",
    "    n+=1\n",
    "print(s)"
   ]
  },
  {
   "cell_type": "code",
   "execution_count": 10,
   "metadata": {
    "ExecuteTime": {
     "end_time": "2021-03-27T01:56:03.730956Z",
     "start_time": "2021-03-27T01:56:03.716992Z"
    }
   },
   "outputs": [
    {
     "data": {
      "text/plain": [
       "[1, 4, 9, 16, 25, 36, 49, 64, 81]"
      ]
     },
     "execution_count": 10,
     "metadata": {},
     "output_type": "execute_result"
    }
   ],
   "source": [
    "n=1\n",
    "L=[]\n",
    "while n<100:\n",
    "    if n**0.5==int(n**0.5):\n",
    "        L.append(n)\n",
    "    n+=1\n",
    "L"
   ]
  },
  {
   "cell_type": "code",
   "execution_count": 14,
   "metadata": {
    "ExecuteTime": {
     "end_time": "2021-03-27T02:01:36.234100Z",
     "start_time": "2021-03-27T02:01:36.225126Z"
    }
   },
   "outputs": [
    {
     "name": "stdout",
     "output_type": "stream",
     "text": [
      "1089\n"
     ]
    }
   ],
   "source": [
    "n=1\n",
    "while True:\n",
    "    if (n>10) & (n**0.5==int(n**0.5)) & (n%2==1):\n",
    "        print(n)\n",
    "        break\n",
    "    n+=1"
   ]
  },
  {
   "cell_type": "markdown",
   "metadata": {},
   "source": [
    "### The for loop\n",
    "For loops are traditionally used when you have a piece of code which you want to\n",
    "repeat n number of times."
   ]
  },
  {
   "cell_type": "code",
   "execution_count": 9,
   "metadata": {
    "ExecuteTime": {
     "end_time": "2021-03-27T01:53:03.836277Z",
     "start_time": "2021-03-27T01:53:03.831285Z"
    }
   },
   "outputs": [
    {
     "name": "stdout",
     "output_type": "stream",
     "text": [
      "5050\n"
     ]
    }
   ],
   "source": [
    "s=0\n",
    "for i in range(1,101):\n",
    "    s+=i\n",
    "print(s)"
   ]
  },
  {
   "cell_type": "code",
   "execution_count": 30,
   "metadata": {
    "ExecuteTime": {
     "end_time": "2021-09-16T11:26:53.422995Z",
     "start_time": "2021-09-16T11:26:53.415072Z"
    }
   },
   "outputs": [
    {
     "data": {
      "text/plain": [
       "-50"
      ]
     },
     "execution_count": 30,
     "metadata": {},
     "output_type": "execute_result"
    }
   ],
   "source": [
    "sum(range(1,101,2))-sum(range(2,101,2))"
   ]
  },
  {
   "cell_type": "code",
   "execution_count": null,
   "metadata": {},
   "outputs": [],
   "source": [
    "[1,-2,3,-4,...,-100]"
   ]
  },
  {
   "cell_type": "code",
   "execution_count": 32,
   "metadata": {
    "ExecuteTime": {
     "end_time": "2021-09-16T11:28:50.242017Z",
     "start_time": "2021-09-16T11:28:50.222721Z"
    }
   },
   "outputs": [
    {
     "data": {
      "text/plain": [
       "-50"
      ]
     },
     "execution_count": 32,
     "metadata": {},
     "output_type": "execute_result"
    }
   ],
   "source": [
    "sum([i if i%2==1 else -i for i in range(1,101)])"
   ]
  },
  {
   "cell_type": "code",
   "execution_count": 26,
   "metadata": {
    "ExecuteTime": {
     "end_time": "2021-09-16T11:24:06.953351Z",
     "start_time": "2021-09-16T11:24:06.938348Z"
    }
   },
   "outputs": [
    {
     "data": {
      "text/plain": [
       "-50"
      ]
     },
     "execution_count": 26,
     "metadata": {},
     "output_type": "execute_result"
    }
   ],
   "source": [
    "s=0\n",
    "for i in range(1,101):\n",
    "    if i%2==0:\n",
    "        s-=i\n",
    "    else:\n",
    "        s+=i\n",
    "s"
   ]
  },
  {
   "cell_type": "code",
   "execution_count": 11,
   "metadata": {
    "ExecuteTime": {
     "end_time": "2021-03-27T01:57:28.020965Z",
     "start_time": "2021-03-27T01:57:28.012017Z"
    }
   },
   "outputs": [
    {
     "data": {
      "text/plain": [
       "[1, 4, 9, 16, 25, 36, 49, 64, 81]"
      ]
     },
     "execution_count": 11,
     "metadata": {},
     "output_type": "execute_result"
    }
   ],
   "source": [
    "L=[]\n",
    "for i in range(1,100):\n",
    "    if i**0.5==int(i**0.5):\n",
    "        L.append(i)\n",
    "L"
   ]
  },
  {
   "cell_type": "markdown",
   "metadata": {},
   "source": [
    "The range() built-in function"
   ]
  },
  {
   "cell_type": "code",
   "execution_count": 16,
   "metadata": {
    "ExecuteTime": {
     "end_time": "2021-03-27T02:04:10.562569Z",
     "start_time": "2021-03-27T02:04:10.556585Z"
    }
   },
   "outputs": [
    {
     "name": "stdout",
     "output_type": "stream",
     "text": [
      "a\n",
      "b\n",
      "c\n",
      "d\n"
     ]
    }
   ],
   "source": [
    "l=['a','b','c','d']\n",
    "v=(1,2,3,4,)\n",
    "d=dict(zip(l,v))\n",
    "for i in l:\n",
    "    print(i)"
   ]
  },
  {
   "cell_type": "code",
   "execution_count": 18,
   "metadata": {
    "ExecuteTime": {
     "end_time": "2021-03-27T02:04:25.914827Z",
     "start_time": "2021-03-27T02:04:25.908843Z"
    }
   },
   "outputs": [
    {
     "name": "stdout",
     "output_type": "stream",
     "text": [
      "1\n",
      "2\n",
      "3\n",
      "4\n"
     ]
    }
   ],
   "source": [
    "for i in v:\n",
    "    print(i)"
   ]
  },
  {
   "cell_type": "code",
   "execution_count": 20,
   "metadata": {
    "ExecuteTime": {
     "end_time": "2021-03-27T02:04:56.531307Z",
     "start_time": "2021-03-27T02:04:56.525323Z"
    }
   },
   "outputs": [
    {
     "name": "stdout",
     "output_type": "stream",
     "text": [
      "a 1\n",
      "b 2\n",
      "c 3\n",
      "d 4\n"
     ]
    }
   ],
   "source": [
    "for i,j in zip(l,v):\n",
    "    print(i,j)"
   ]
  },
  {
   "cell_type": "code",
   "execution_count": 21,
   "metadata": {
    "ExecuteTime": {
     "end_time": "2021-03-27T02:05:13.938249Z",
     "start_time": "2021-03-27T02:05:13.931266Z"
    }
   },
   "outputs": [
    {
     "name": "stdout",
     "output_type": "stream",
     "text": [
      "a 1\n",
      "b 2\n",
      "c 3\n",
      "d 4\n"
     ]
    }
   ],
   "source": [
    "for i,j in d.items():\n",
    "    print(i,j)"
   ]
  },
  {
   "cell_type": "markdown",
   "metadata": {},
   "source": [
    "### Python nested loops\n",
    "one loop inside\n",
    "another loop."
   ]
  },
  {
   "cell_type": "code",
   "execution_count": 47,
   "metadata": {
    "ExecuteTime": {
     "end_time": "2021-03-27T02:38:05.800298Z",
     "start_time": "2021-03-27T02:38:05.793316Z"
    }
   },
   "outputs": [
    {
     "name": "stdout",
     "output_type": "stream",
     "text": [
      "1 * 1 = 1\n",
      "1 * 2 = 2\n",
      "2 * 1 = 2\n",
      "2 * 2 = 4\n"
     ]
    }
   ],
   "source": [
    "for x in range(1, 3):\n",
    "    for y in range(1, 3):\n",
    "        print ('%d * %d = %d' % (x, y, x*y))"
   ]
  },
  {
   "cell_type": "code",
   "execution_count": 36,
   "metadata": {
    "ExecuteTime": {
     "end_time": "2021-09-16T11:54:20.597551Z",
     "start_time": "2021-09-16T11:54:20.581873Z"
    }
   },
   "outputs": [
    {
     "data": {
      "text/plain": [
       "0"
      ]
     },
     "execution_count": 36,
     "metadata": {},
     "output_type": "execute_result"
    }
   ],
   "source": [
    "(2%2)"
   ]
  },
  {
   "cell_type": "code",
   "execution_count": 37,
   "metadata": {
    "ExecuteTime": {
     "end_time": "2021-09-16T11:55:36.921602Z",
     "start_time": "2021-09-16T11:55:36.901973Z"
    }
   },
   "outputs": [
    {
     "name": "stdout",
     "output_type": "stream",
     "text": [
      "2  is prime\n",
      "3  is prime\n",
      "5  is prime\n",
      "7  is prime\n",
      "11  is prime\n",
      "13  is prime\n",
      "17  is prime\n",
      "19  is prime\n",
      "23  is prime\n",
      "29  is prime\n",
      "good luck\n"
     ]
    }
   ],
   "source": [
    "#nested while loop example\n",
    "#find prime number（质数） within 30 integer numbers from 1 - 30\n",
    "i = 2\n",
    "while(i <= 30):\n",
    "    j = 2\n",
    "    while(j <= (i/j)):\n",
    "        if not(i%j): \n",
    "            break\n",
    "        j = j + 1\n",
    "    if (j > i/j) : \n",
    "        print (i, \" is prime\")\n",
    "    i = i + 1\n",
    "print('good luck')"
   ]
  },
  {
   "cell_type": "code",
   "execution_count": 41,
   "metadata": {
    "ExecuteTime": {
     "end_time": "2021-03-27T02:29:52.231719Z",
     "start_time": "2021-03-27T02:29:52.223741Z"
    }
   },
   "outputs": [
    {
     "data": {
      "text/plain": [
       "[2, 3, 5, 7, 11, 13, 17, 19, 23, 29]"
      ]
     },
     "execution_count": 41,
     "metadata": {},
     "output_type": "execute_result"
    }
   ],
   "source": [
    "L=[]\n",
    "for i in range(2,30):\n",
    "    if all(i%j!=0 for j in range(2,i)):\n",
    "        L.append(i)\n",
    "L"
   ]
  },
  {
   "cell_type": "markdown",
   "metadata": {},
   "source": [
    "### The Loop Control Statements"
   ]
  },
  {
   "cell_type": "markdown",
   "metadata": {},
   "source": [
    "Loop control statements change execution from its normal sequence. Python\n",
    "supports the following control statements:  \n",
    "\n",
    "a) break statement  \n",
    "b) continue  \n",
    "\n",
    "The break statement terminates the current loop and resume execution at the\n",
    "next statements. We have seen break statement in the above examples"
   ]
  },
  {
   "cell_type": "code",
   "execution_count": 44,
   "metadata": {
    "ExecuteTime": {
     "end_time": "2021-03-27T02:35:01.593523Z",
     "start_time": "2021-03-27T02:34:59.007237Z"
    }
   },
   "outputs": [
    {
     "name": "stdout",
     "output_type": "stream",
     "text": [
      "Enter a Number :3\n",
      "End of the program\n"
     ]
    }
   ],
   "source": [
    "ctr = 2\n",
    "num = int(input(\"Enter a Number :\"))\n",
    "while(ctr <= num -1):\n",
    "    if(num % ctr == 0):\n",
    "        print(\"Number is not prime!\")\n",
    "        break;\n",
    "    ctr = ctr + 1\n",
    "print(\"End of the program\")"
   ]
  },
  {
   "cell_type": "code",
   "execution_count": 46,
   "metadata": {
    "ExecuteTime": {
     "end_time": "2021-03-27T02:36:53.384618Z",
     "start_time": "2021-03-27T02:36:53.378634Z"
    }
   },
   "outputs": [
    {
     "name": "stdout",
     "output_type": "stream",
     "text": [
      "Current value = 4\n",
      "Current value = 2\n",
      "Current value = 1\n",
      "Current value = 0\n"
     ]
    }
   ],
   "source": [
    "x = 5\n",
    "while x > 0:\n",
    "    x = x -1\n",
    "    if x == 3:\n",
    "        continue\n",
    "    print ('Current value =', x)"
   ]
  },
  {
   "cell_type": "markdown",
   "metadata": {},
   "source": [
    "# Functions\n",
    "A function is a self-contained block of reusable code that perform a\n",
    "coherent task of some kind. When you define a function, you specify the\n",
    "name and the sequence of statements. Later, you can “call” the function\n",
    "by its name."
   ]
  },
  {
   "cell_type": "markdown",
   "metadata": {},
   "source": [
    "## User-defined functions"
   ]
  },
  {
   "cell_type": "markdown",
   "metadata": {},
   "source": [
    "The syntax for defining a function is as follows:  \n",
    "def functionname( arg1, arg2, arg3 ):  \n",
    "‘’’docstring of the function i.e., a brief introduction about the function’’’  \n",
    "&emsp;#code inside the function  \n",
    "&emsp;return [value]  \n",
    "#a function may not have any arguments or parameters like  \n",
    "def functionname():  \n",
    "&emsp;#code inside the function"
   ]
  },
  {
   "cell_type": "markdown",
   "metadata": {},
   "source": [
    "The keyword for defining a function in Python is the def keyword.\n",
    "The rules for naming a function is same as for variable names. Letters, numbers\n",
    "and underscore character are okay, but the first character can’t be a number. You\n",
    "can’t use a keyword as the name of a function, and you should avoid having a\n",
    "variable and a function with the same name. The empty parentheses after the\n",
    "name indicate that this function doesn’t take any arguments. The first line of the\n",
    "function definition is called the header; the rest is called the body. The header has\n",
    "to end with a colon and the body has to be indented."
   ]
  },
  {
   "cell_type": "code",
   "execution_count": 1,
   "metadata": {
    "ExecuteTime": {
     "end_time": "2021-09-23T10:53:03.891829Z",
     "start_time": "2021-09-23T10:53:03.884670Z"
    }
   },
   "outputs": [
    {
     "name": "stdout",
     "output_type": "stream",
     "text": [
      "hello sztu\n"
     ]
    }
   ],
   "source": [
    "def hello():\n",
    "    print('hello sztu')\n",
    "hello()"
   ]
  },
  {
   "cell_type": "markdown",
   "metadata": {
    "ExecuteTime": {
     "end_time": "2021-03-27T02:44:28.895310Z",
     "start_time": "2021-03-27T02:44:28.889325Z"
    }
   },
   "source": [
    "Function parameters can be of any valid Python data type - int, float, list, tuple,\n",
    "dictionary or user-defined classes"
   ]
  },
  {
   "cell_type": "code",
   "execution_count": 2,
   "metadata": {
    "ExecuteTime": {
     "end_time": "2021-09-23T10:53:45.510278Z",
     "start_time": "2021-09-23T10:53:45.497273Z"
    }
   },
   "outputs": [
    {
     "data": {
      "text/plain": [
       "9"
      ]
     },
     "execution_count": 2,
     "metadata": {},
     "output_type": "execute_result"
    }
   ],
   "source": [
    "def sqare(x):\n",
    "    return x**2\n",
    "sqare(3)"
   ]
  },
  {
   "cell_type": "code",
   "execution_count": 3,
   "metadata": {
    "ExecuteTime": {
     "end_time": "2021-09-23T10:54:04.536131Z",
     "start_time": "2021-09-23T10:54:04.519606Z"
    }
   },
   "outputs": [
    {
     "data": {
      "text/plain": [
       "<function __main__.sqare(x)>"
      ]
     },
     "execution_count": 3,
     "metadata": {},
     "output_type": "execute_result"
    }
   ],
   "source": [
    "sqare"
   ]
  },
  {
   "cell_type": "markdown",
   "metadata": {},
   "source": [
    "### Docstring of function\n",
    "The first string after the function header is called the docstring and is short for\n",
    "documentation string. It is used to explain in brief, what a function does. Although\n",
    "optional, documentation is a good programming practice."
   ]
  },
  {
   "cell_type": "code",
   "execution_count": null,
   "metadata": {},
   "outputs": [],
   "source": []
  },
  {
   "cell_type": "code",
   "execution_count": 18,
   "metadata": {
    "ExecuteTime": {
     "end_time": "2021-09-23T11:20:35.076453Z",
     "start_time": "2021-09-23T11:20:35.068451Z"
    }
   },
   "outputs": [],
   "source": [
    "def is_prime(n):\n",
    "    L=[]\n",
    "    '''This function is to test whether the number is a prime or not'''\n",
    "    for i in range(2,n+1):\n",
    "        if all(i%j!=0 for j in range(2,i)):\n",
    "            L.append(i)\n",
    "    return L"
   ]
  },
  {
   "cell_type": "code",
   "execution_count": 19,
   "metadata": {
    "ExecuteTime": {
     "end_time": "2021-09-23T11:20:35.754277Z",
     "start_time": "2021-09-23T11:20:35.737256Z"
    }
   },
   "outputs": [
    {
     "data": {
      "text/plain": [
       "[2, 3, 5, 7]"
      ]
     },
     "execution_count": 19,
     "metadata": {},
     "output_type": "execute_result"
    }
   ],
   "source": [
    "is_prime(10)"
   ]
  },
  {
   "cell_type": "code",
   "execution_count": 75,
   "metadata": {
    "ExecuteTime": {
     "end_time": "2021-03-27T02:59:16.832015Z",
     "start_time": "2021-03-27T02:59:16.825034Z"
    }
   },
   "outputs": [
    {
     "data": {
      "text/plain": [
       "'This function is to test whether the number is a prime or not'"
      ]
     },
     "execution_count": 75,
     "metadata": {},
     "output_type": "execute_result"
    }
   ],
   "source": [
    "is_prime.__doc__"
   ]
  },
  {
   "cell_type": "code",
   "execution_count": 74,
   "metadata": {
    "ExecuteTime": {
     "end_time": "2021-03-27T02:59:00.926081Z",
     "start_time": "2021-03-27T02:59:00.919131Z"
    }
   },
   "outputs": [
    {
     "name": "stdout",
     "output_type": "stream",
     "text": [
      "[2, 3, 5, 7, 11, 13, 17, 19, 23, 29, 31, 37, 41, 43, 47, 53, 59, 61, 67, 71, 73, 79, 83, 89, 97]\n"
     ]
    }
   ],
   "source": [
    "L=[]\n",
    "for i in range(100):\n",
    "    if is_prime(i):\n",
    "        L.append(i)\n",
    "print(L)"
   ]
  },
  {
   "cell_type": "markdown",
   "metadata": {},
   "source": [
    "### Scope and Lifetime of variables"
   ]
  },
  {
   "cell_type": "markdown",
   "metadata": {},
   "source": [
    "Scope of a variable is the part of a program where the variable is visible or\n",
    "recognized. Parameters and variables defined inside a function is not visible from\n",
    "outside. They have a local scope.\n",
    "Lifetime of a variable is the period throughout which the variable exits in the\n",
    "memory. The lifetime of variables inside a function is as long as the function\n",
    "executes. After the function return the value, they are destroyed."
   ]
  },
  {
   "cell_type": "code",
   "execution_count": 21,
   "metadata": {
    "ExecuteTime": {
     "end_time": "2021-09-23T11:47:09.791260Z",
     "start_time": "2021-09-23T11:47:09.775704Z"
    }
   },
   "outputs": [
    {
     "name": "stdout",
     "output_type": "stream",
     "text": [
      "10\n",
      "10\n"
     ]
    }
   ],
   "source": [
    "x=10\n",
    "def f():\n",
    "    return x\n",
    "print(f())\n",
    "print(x)"
   ]
  },
  {
   "cell_type": "code",
   "execution_count": 77,
   "metadata": {
    "ExecuteTime": {
     "end_time": "2021-03-27T03:03:31.058229Z",
     "start_time": "2021-03-27T03:03:31.052240Z"
    }
   },
   "outputs": [
    {
     "name": "stdout",
     "output_type": "stream",
     "text": [
      "3\n",
      "3\n"
     ]
    }
   ],
   "source": [
    "#加了global，则可以在函数内部对函数外的对象进行操作了，也可以改变它的值了\n",
    "#global需要在函数内部声明，若在函数外声明，则函数依然无法操作x\n",
    "x=10\n",
    "def f():\n",
    "    global x\n",
    "    x=3\n",
    "    return x\n",
    "print(f())\n",
    "print(x)"
   ]
  },
  {
   "cell_type": "markdown",
   "metadata": {},
   "source": [
    "### Pass by references\n",
    "In Python, all parameters are passed by reference. It means the address of the\n",
    "physical memory location is passed or the reference to the memory location is\n",
    "passed. So if you change what a parameter refers to within a function, the\n",
    "change also reflects back in the calling function."
   ]
  },
  {
   "cell_type": "code",
   "execution_count": 4,
   "metadata": {
    "ExecuteTime": {
     "end_time": "2021-03-27T03:17:14.939306Z",
     "start_time": "2021-03-27T03:17:14.929321Z"
    }
   },
   "outputs": [
    {
     "name": "stdout",
     "output_type": "stream",
     "text": [
      "Original list ['Apple', 'Banana']\n",
      "Modified list from changeValue function:  ['Apple', 'Banana', 'Orange', 'Mango']\n",
      "Testing the original list after the function call:  ['Apple', 'Banana', 'Orange', 'Mango']\n"
     ]
    }
   ],
   "source": [
    "# let's modify values from a user-defined function\n",
    "def changeValue( fruitList ):\n",
    "    \"This changes a passed list into this function\"\n",
    "    ff=[\"Orange\",\"Mango\"]\n",
    "    for f in ff:\n",
    "        fruitList.append(f);\n",
    "    print (\"Modified list from changeValue function: \", fruitList)\n",
    "    #return\n",
    "fruit_List = [\"Apple\", \"Banana\"];\n",
    "print(\"Original list\", fruit_List)\n",
    "#now call the function\n",
    "changeValue(fruit_List);\n",
    "print (\"Testing the original list after the function call: \", fruit_List)"
   ]
  },
  {
   "cell_type": "markdown",
   "metadata": {},
   "source": [
    "## The Anonymous Functions\n",
    "Python supports the creation of anonymous functions. Anonymous functions are\n",
    "not bound to a name at runtime, they are created using a construct called\n",
    "\"lambda\". The lambda operator or lambda function is a way to create small\n",
    "anonymous functions, i.e. functions without a name. These functions are throwaway\n",
    "functions, i.e. they are just needed where they have been created. Lambda\n",
    "functions are mainly used in combination with the functions filter(), map() and\n",
    "reduce().  \n",
    "\n",
    "The general syntax of a lambda function is as follows:\n",
    "lambda argument_list: expression\n",
    "While the argument list consists of a comma separated list of arguments and the\n",
    "expression is an arithmetic expression using these arguments."
   ]
  },
  {
   "cell_type": "code",
   "execution_count": 6,
   "metadata": {
    "ExecuteTime": {
     "end_time": "2021-03-27T04:09:32.228659Z",
     "start_time": "2021-03-27T04:09:32.222704Z"
    }
   },
   "outputs": [
    {
     "name": "stdout",
     "output_type": "stream",
     "text": [
      "6\n"
     ]
    }
   ],
   "source": [
    "f=lambda x,y:x*y\n",
    "print(f(3,2))"
   ]
  },
  {
   "cell_type": "code",
   "execution_count": 26,
   "metadata": {
    "ExecuteTime": {
     "end_time": "2021-09-23T11:54:18.429130Z",
     "start_time": "2021-09-23T11:54:18.423990Z"
    }
   },
   "outputs": [
    {
     "data": {
      "text/plain": [
       "9"
      ]
     },
     "execution_count": 26,
     "metadata": {},
     "output_type": "execute_result"
    }
   ],
   "source": [
    "def f(x):\n",
    "    return x**2\n",
    "f(3)"
   ]
  },
  {
   "cell_type": "code",
   "execution_count": null,
   "metadata": {},
   "outputs": [],
   "source": []
  },
  {
   "cell_type": "markdown",
   "metadata": {},
   "source": [
    "## The map, filter, and reduce function"
   ]
  },
  {
   "cell_type": "markdown",
   "metadata": {},
   "source": [
    "Python provides several functions which enable a functional approach to\n",
    "programming. Functional programming is all about expressions. We may say that\n",
    "the Functional programming is an expression oriented programming. Python\n",
    "provides the following:  \n",
    "1) lambda (discussed above)  \n",
    "2) map(aFunction, aSequence)  \n",
    "3) filter(aFunction, aSequence)  \n",
    "4) reduce(aFunction, aSequence)  \n",
    "5) list comprehension"
   ]
  },
  {
   "cell_type": "code",
   "execution_count": 9,
   "metadata": {
    "ExecuteTime": {
     "end_time": "2021-03-29T10:55:31.628297Z",
     "start_time": "2021-03-29T10:55:31.612820Z"
    }
   },
   "outputs": [],
   "source": [
    "def f(x,*args,**kwargs):\n",
    "    return (x,args,kwargs)"
   ]
  },
  {
   "cell_type": "code",
   "execution_count": 28,
   "metadata": {
    "ExecuteTime": {
     "end_time": "2021-09-23T11:55:14.130560Z",
     "start_time": "2021-09-23T11:55:14.118029Z"
    }
   },
   "outputs": [
    {
     "data": {
      "text/plain": [
       "[1, 4, 9, 16, 25, 36, 49, 64]"
      ]
     },
     "execution_count": 28,
     "metadata": {},
     "output_type": "execute_result"
    }
   ],
   "source": [
    "ss=list(map(f,[1,2,3,4,5,6,7,8]))\n",
    "ss"
   ]
  },
  {
   "cell_type": "code",
   "execution_count": 22,
   "metadata": {
    "ExecuteTime": {
     "end_time": "2021-03-29T11:04:47.844662Z",
     "start_time": "2021-03-29T11:04:47.829058Z"
    }
   },
   "outputs": [
    {
     "data": {
      "text/plain": [
       "[36, 49]"
      ]
     },
     "execution_count": 22,
     "metadata": {},
     "output_type": "execute_result"
    }
   ],
   "source": [
    "list(filter(lambda x: 25<x<50,ss))"
   ]
  },
  {
   "cell_type": "markdown",
   "metadata": {},
   "source": [
    "### The map function\n",
    "The map() function applies a function to every member of an iterable (e.g.,a list)\n",
    "and returns the result. Typically, one would use an anonymous inline function as\n",
    "defined by lambda, but it is possible to use any function"
   ]
  },
  {
   "cell_type": "code",
   "execution_count": 9,
   "metadata": {
    "ExecuteTime": {
     "end_time": "2021-03-27T04:14:38.794114Z",
     "start_time": "2021-03-27T04:14:38.787134Z"
    }
   },
   "outputs": [
    {
     "name": "stdout",
     "output_type": "stream",
     "text": [
      "[1, 4, 9, 16, 25, 36, 49, 64, 81, 100]\n"
     ]
    }
   ],
   "source": [
    "def square(x):\n",
    "    return x**2\n",
    "#list of numbers\n",
    "numbers =[1,2,3,4,5,6,7,8,9,10]\n",
    "#use map() and pass the square() and the list\n",
    "results = map(square, numbers)\n",
    "print(list(results))"
   ]
  },
  {
   "cell_type": "code",
   "execution_count": 13,
   "metadata": {
    "ExecuteTime": {
     "end_time": "2021-03-27T04:17:18.276827Z",
     "start_time": "2021-03-27T04:17:18.267878Z"
    }
   },
   "outputs": [
    {
     "data": {
      "text/plain": [
       "[1, 4, 9, 16, 25, 36, 49, 64, 81, 100]"
      ]
     },
     "execution_count": 13,
     "metadata": {},
     "output_type": "execute_result"
    }
   ],
   "source": [
    "list(map(lambda x:x**2,numbers))"
   ]
  },
  {
   "cell_type": "code",
   "execution_count": 11,
   "metadata": {
    "ExecuteTime": {
     "end_time": "2021-03-27T04:15:54.069250Z",
     "start_time": "2021-03-27T04:15:54.062269Z"
    }
   },
   "outputs": [
    {
     "data": {
      "text/plain": [
       "array([  1,   4,   9,  16,  25,  36,  49,  64,  81, 100], dtype=int32)"
      ]
     },
     "execution_count": 11,
     "metadata": {},
     "output_type": "execute_result"
    }
   ],
   "source": [
    "import numpy as np\n",
    "np.array(numbers)**2"
   ]
  },
  {
   "cell_type": "markdown",
   "metadata": {},
   "source": [
    "### The filter function\n",
    "As the name suggests filter extracts each element in the sequence for which the\n",
    "function returns True. Filter takes a function returning True or False and applies it\n",
    "to a sequence, returning a list of only those members of the sequence for which\n",
    "the function returned True. In the above examples we have use a map function\n",
    "and lamda function to square a list of numbers. Let’s modify that program and\n",
    "partially display squared results using a filter function"
   ]
  },
  {
   "cell_type": "code",
   "execution_count": 15,
   "metadata": {
    "ExecuteTime": {
     "end_time": "2021-03-27T04:19:44.797694Z",
     "start_time": "2021-03-27T04:19:44.790713Z"
    }
   },
   "outputs": [
    {
     "name": "stdout",
     "output_type": "stream",
     "text": [
      "[1, 4, 9, 16, 25, 36, 49, 64, 81, 100]\n",
      "[9, 16, 25, 36, 49]\n"
     ]
    }
   ],
   "source": [
    "results =list(map(lambda x: x**2, numbers))\n",
    "f_squares = list(filter(lambda x: x > 5 and x < 50, results))\n",
    "print(results)\n",
    "print(f_squares)"
   ]
  },
  {
   "cell_type": "markdown",
   "metadata": {},
   "source": [
    "### The reduce function\n",
    "The reduce function continually applies the function to the sequence and returns\n",
    "a single value."
   ]
  },
  {
   "cell_type": "code",
   "execution_count": 30,
   "metadata": {
    "ExecuteTime": {
     "end_time": "2021-09-23T11:56:25.663911Z",
     "start_time": "2021-09-23T11:56:25.653758Z"
    }
   },
   "outputs": [
    {
     "name": "stdout",
     "output_type": "stream",
     "text": [
      "10\n"
     ]
    }
   ],
   "source": [
    "from functools import reduce\n",
    "num_list=[1, 2, 3, 4]\n",
    "result = reduce((lambda x, y: x + y), num_list)\n",
    "print(result)"
   ]
  },
  {
   "cell_type": "code",
   "execution_count": 31,
   "metadata": {
    "ExecuteTime": {
     "end_time": "2021-09-23T11:58:05.541549Z",
     "start_time": "2021-09-23T11:58:05.529548Z"
    }
   },
   "outputs": [
    {
     "data": {
      "text/plain": [
       "10"
      ]
     },
     "execution_count": 31,
     "metadata": {},
     "output_type": "execute_result"
    }
   ],
   "source": [
    "s=num_list[0]\n",
    "for n in num_list[1:]:\n",
    "    s+=n\n",
    "s"
   ]
  },
  {
   "cell_type": "markdown",
   "metadata": {},
   "source": [
    "At each step, reduce passes the current addition, along with the next item from\n",
    "the list, to the passed-in lambda function. By default, the first item in the\n",
    "sequence initialized the starting value."
   ]
  },
  {
   "cell_type": "markdown",
   "metadata": {},
   "source": [
    "### List Comprehension\n",
    "List comprehensions provide a concise way to create lists. Common applications\n",
    "are to make new lists where each element is the result of some operations applied\n",
    "to each member of another sequence or iterable, or to create a subsequence of\n",
    "those elements that satisfy a certain condition.List comprehension is a complete substitute for the lambda function as well as the\n",
    "functions map(), filter() and reduce(). The syntax of list comprehension is easier to\n",
    "be grasped.  \n",
    "[expression-involving-loop-variable for loop-variable in sequence ]"
   ]
  },
  {
   "cell_type": "code",
   "execution_count": 21,
   "metadata": {
    "ExecuteTime": {
     "end_time": "2021-03-27T04:27:12.615277Z",
     "start_time": "2021-03-27T04:27:12.608295Z"
    }
   },
   "outputs": [
    {
     "data": {
      "text/plain": [
       "[1, 4, 9, 16, 25, 36, 49, 64, 81]"
      ]
     },
     "execution_count": 21,
     "metadata": {},
     "output_type": "execute_result"
    }
   ],
   "source": [
    "[x**2 for x in range(1,10)]"
   ]
  },
  {
   "cell_type": "code",
   "execution_count": 32,
   "metadata": {
    "ExecuteTime": {
     "end_time": "2021-09-23T11:59:47.419045Z",
     "start_time": "2021-09-23T11:59:47.410043Z"
    }
   },
   "outputs": [
    {
     "data": {
      "text/plain": [
       "[1, 4, 9, 16, 25, 36, 49, 64, 81]"
      ]
     },
     "execution_count": 32,
     "metadata": {},
     "output_type": "execute_result"
    }
   ],
   "source": [
    "L=[]\n",
    "for i in range(1,10):\n",
    "    L.append(i**2)\n",
    "L"
   ]
  },
  {
   "cell_type": "markdown",
   "metadata": {},
   "source": [
    "Filtered list comprehensions  \n",
    "\n",
    "The final form of list comprehension involves creating a list and filtering it similarly\n",
    "to using filter(). The filtering form of list comprehension takes the following form:  \n",
    "[ expression-involving-loop-variable for loop-variable in sequence if booleanexpression-\n",
    "involving-loop-variable ]"
   ]
  },
  {
   "cell_type": "code",
   "execution_count": 34,
   "metadata": {
    "ExecuteTime": {
     "end_time": "2021-09-23T12:01:08.187973Z",
     "start_time": "2021-09-23T12:01:08.167509Z"
    }
   },
   "outputs": [
    {
     "data": {
      "text/plain": [
       "[9, 16, 25, 36, 49]"
      ]
     },
     "execution_count": 34,
     "metadata": {},
     "output_type": "execute_result"
    }
   ],
   "source": [
    "[x**2 for x in range(1,10) if x**2>5 and x**2<50]"
   ]
  },
  {
   "cell_type": "code",
   "execution_count": 35,
   "metadata": {
    "ExecuteTime": {
     "end_time": "2021-09-23T12:01:14.091328Z",
     "start_time": "2021-09-23T12:01:14.084336Z"
    }
   },
   "outputs": [
    {
     "name": "stdout",
     "output_type": "stream",
     "text": [
      "False\n",
      "True\n"
     ]
    }
   ],
   "source": [
    "a=3\n",
    "f=lambda x:x**2\n",
    "print(callable(a))\n",
    "print(callable(f))"
   ]
  },
  {
   "cell_type": "code",
   "execution_count": 35,
   "metadata": {
    "ExecuteTime": {
     "end_time": "2021-03-27T05:30:56.985075Z",
     "start_time": "2021-03-27T05:30:56.978091Z"
    }
   },
   "outputs": [
    {
     "data": {
      "text/plain": [
       "bytearray(b'\\x00\\x00\\x00')"
      ]
     },
     "execution_count": 35,
     "metadata": {},
     "output_type": "execute_result"
    }
   ],
   "source": [
    "bytearray(a)"
   ]
  },
  {
   "cell_type": "code",
   "execution_count": 358,
   "metadata": {
    "ExecuteTime": {
     "end_time": "2021-03-28T10:01:22.856461Z",
     "start_time": "2021-03-28T10:01:22.850475Z"
    }
   },
   "outputs": [
    {
     "data": {
      "text/plain": [
       "[8100, 8281, 8464, 8649, 8836, 9025, 9216, 9409, 9604, 9801]"
      ]
     },
     "execution_count": 358,
     "metadata": {},
     "output_type": "execute_result"
    }
   ],
   "source": [
    "[x**2 for x in range(100) if x**2>8000 ]"
   ]
  },
  {
   "cell_type": "markdown",
   "metadata": {},
   "source": [
    "## Built-in functions\n",
    "- abs() Return the absolute value of a number. \n",
    "- all() all(iterable): Return True if all elements of the iterable aretrue (or if the iterable is empty). \n",
    "- any() any(iterable): Return True if any element of the iterable istrue. If the iterable is empty, return False. \n",
    "- bin() Convert an integer number to a binary string. The result is a valid Python expression. \n",
    "- bool() Return a Boolean value, i.e. one of True or False. \n",
    "- bytearray() Return a new array of bytes. \n",
    "- callable() Return True if the object argument appears callable, False if not. If this returns true, it is still possible that a call fails, but if it is false, calling object will never succeed.\n",
    "- chr() chr(i): Return a string of one character whose ASCII code is the integer i. For example, chr(97) returns the string 'a'. This is the inverse of ord().\n",
    "- classmethod() Return a class method for function.\n",
    "- compile() Compile the source into a code or AST object. Code objects can be executed by an exec statement or evaluated by a call to eval().\n",
    "- complex() class complex([real[, imag]]): Return a complex number with the value real + imag*1j or convert a string or number to a complex number. If the first parameter is a string, it will be interpreted as a complex number and the function must be called without a second parameter. The second parameter can never be a string. Each argument may be any numeric type (including complex). \n",
    "- delattr() delattr(object, name): This is a relative of setattr(). The arguments are an object and a string. The string must be the name of one of the object’s attributes. The function deletes the named attribute, provided the object allows it. For example, delattr(x, 'foobar') is equivalent to del x.foobar.\n",
    "- dict() Create a new dictionary. \n",
    "- dir() Without arguments, return the list of names in the current local scope. With an argument, attempt to return a list of valid attributes for that object.\n",
    "- divmod() divmod(a, b): Take two (non complex) numbers as arguments and return a pair of numbers consisting of their quotient and remainder when using long division. With mixed operand types, the rules for binary arithmetic operators apply. For plain and long integers, the result is the same as (a // b, a % b). For floating point numbers the result is (q, a % b), where q is usually math.floor(a / b) but may be 1 less than that. In any case q * b + a % b is very close to a, if a % b is non-zero it has the same sign as b, and 0 <= abs(a % b) < abs(b).\n",
    "- enumerate() enumerate(sequence, start=0): Return an enumerate object. sequence must be a sequence, an iterator, or some other object which supports iteration. The next() method of the iterator returned by enumerate() returns a tuple containing a count (from start which defaults to 0) and the values obtained from iterating over sequence: \n",
    "- eval() The expression argument is parsed and evaluated as a Python expression (technically speaking, a condition list) using the globals and locals dictionaries as global and local namespace.\n",
    "- execfile() execfile(filename[, globals[, locals]]) : This function is similar to the exec statement, but parses a file instead of a string. It is different from the import statement in that it does not use the module administration — it reads the file unconditionally and does not create a new module.\n",
    "- file() file(name[, mode[, buffering]]): Constructor function for the file type, described further in section File Objects. The constructor’s arguments are the same as those of the\n",
    "- open() built-in function described below. When opening a file, it’s preferable to use open() instead of invoking this constructor directly. file is more suited to type testing (for example, writing isinstance(f, file)).\n",
    "- filter() filter(function, iterable): Construct a list from those elements of iterable for which function returns true.\n",
    "- float() class float([x]): Return a floating point number constructed from a number or string x.\n",
    "- format() format(value[, format_spec]): Convert a value to a “formatted” representation, as controlled by format_spec.\n",
    "- frozenset() class frozenset([iterable]): Return a new frozenset object, optionally with elements taken from iterable. frozenset is a built-in class. Return a new set or frozenset object whose elements are taken from iterable. \n",
    "- getattr() getattr(object, name[, default]): Return the value of the named attribute of object. name must be a string. If the string is the name of one of the object’s attributes, the result is the value of that attribute. For example, getattr(x,'foobar') is equivalent to x.foobar. If the named attributedoes not exist, default is returned if provided, otherwiseAttributeError is raised.\n",
    "- globals() Return a dictionary representing the current global symboltable. This is always the dictionary of the current module(inside a function or method, this is the module where it is defined, not the module from which it is called).\n",
    "- hasattr() hasattr(object, name): The arguments are an object and a string. The result is True if the string is the name of one of the object’s attributes, False if not. (This is implemented by calling getattr(object, name) and seeing whether it raises an exception or not.)\n",
    "- hash() hash(object): Return the hash value of the object (if it has one). Hash values are integers. They are used to quickly compare dictionary keys during a dictionary lookup. Numeric values that compare equal have the same hash value (even if they are of different types, as is the case for 1 and 1.0).\n",
    "- help() help([object]): Invoke the built-in help system. (This function is intended for interactive use.)\n",
    "- hex() hex(x): Convert an integer number (of any size) to a lowercase hexadecimal string prefixed with “0x”, \n",
    "- id() id(object): Return the “identity” of an object. This is an integer (or long integer) which is guaranteed to be unique and constant for this object during its lifetime. Two objects with non-overlapping lifetimes may have the same id() value.\n",
    "- input() Equivalent to eval(raw_input(prompt)).This function does not catch user errors. If the input is not syntactically valid, a SyntaxError will be raised. Other exceptions may be raised if there is an error during evaluation.\n",
    "- int() Return an integer object constructed from a number or string x, or return 0 if no arguments are given.\n",
    "- isinstance() isinstance(object, classinfo): Return true if the object argument is an instance of the classinfo argument, or of a (direct, indirect or virtual) subclass thereof.\n",
    "- issubclass() issubclass(class, classinfo): Return true if class is a subclass (direct, indirect or virtual) of classinfo. A class is considered a subclass of itself.\n",
    "- iter() Return an iterator object.\n",
    "- len() Return the length (the number of items) of an object.\n",
    "- list() Return a list whose items are the same and in the same order as iterable‘s items.\n",
    "- locals() Update and return a dictionary representing the current local symbol table. Free variables are returned by locals() when it is called in function blocks, but not in class blocks.\n",
    "- long() Return a long integer object constructed from a string or number x.\n",
    "- map() Apply function to every item of iterable and return a list of the results.\n",
    "- max() Return the largest item in an iterable or the largest of two or more arguments.\n",
    "- memoryview() Return a “memory view” object created from the given argument.\n",
    "- min() Return the smallest item in an iterable or the smallest of two or more arguments.\n",
    "- next() Retrieve the next item from the iterator by calling its next() method.\n",
    "- object() Return a new featureless object. object is a base for all new style classes. It has the methods that are common to all instances of new style classes.\n",
    "- oct() Convert an integer number (of any size) to an octal string.\n",
    "- open() Open a file, returning an object of the file type described in section File Objects. If the file cannot be opened, IOError is raised.\n",
    "- ord() ord(c): Given a string of length one, return an integer representing the Unicode code point of the character when the argument is a unicode object, or the value of the byte when the argument is an 8-bit string. For example, ord('a') returns the integer 97, ord(u'\\u2020') returns 8224.\n",
    "- pow() Return x to the power y; if z is present, return x to the power y, modulo z (computed more efficiently than pow(x,y) % z). The two-argument form pow(x, y) is equivalent to using the power operator: x**y.\n",
    "- print() Print objects to the stream file, separated by sep and followed by end. sep, end and file\n",
    "- property() Return a property attribute for new-style classes (classes that derive from object).\n",
    "- range() This is a versatile function to create lists containing arithmetic progressions. It is most often used in for loops. \n",
    "- reload() Reload a previously imported module.\n",
    "- repr() repr(object): Return a string containing a printable representation of an object.\n",
    "- reversed() Return a reverse iterator. seq must be an object which has a __reversed__() method or supports the sequence protocol (the __len__() method and the __getitem__() method with integer arguments starting at 0).\n",
    "- round() round(number[, ndigits]): Return the floating point value number rounded to ndigits digits after the decimal point. \n",
    "- set() class set([iterable]): Return a new set object, \n",
    "- setattr() setattr(object, name, value): This is the counterpart of getattr(). \n",
    "- slice() Return a slice object representing the set of indices specified by range(start, stop, step).\n",
    "- sorted() Return a new sorted list from the items in iterable. \n",
    "- staticmethod() Return a static method for function.\n",
    "- str() Return a string containing a nicely printable representation of an object. For strings, this returns the string itself.\n",
    "- sum() Sums start and the items of an iterable from left to right and returns the total. start defaults to 0.\n",
    "- super() Return a proxy object that delegates method calls to a parent or sibling class of type. This is useful for accessing inherited methods that have been overridden in a class.\n",
    "- tuple() Return a tuple whose items are the same and in the same order as iterable‘s items.\n",
    "- type() With one argument, return the type of an object. \n",
    "- zip() This function returns a list of tuples, where the i-th tuple contains the i-th element from each of the argument sequences or iterables.\n",
    "- __import__() __import__(name[, globals[, locals[, fromlist[, level]]]]): This function is invoked by the import statement. "
   ]
  },
  {
   "cell_type": "markdown",
   "metadata": {},
   "source": [
    "应用例子"
   ]
  },
  {
   "cell_type": "code",
   "execution_count": 36,
   "metadata": {
    "ExecuteTime": {
     "end_time": "2021-09-23T12:03:47.210129Z",
     "start_time": "2021-09-23T12:03:47.195625Z"
    }
   },
   "outputs": [
    {
     "name": "stdout",
     "output_type": "stream",
     "text": [
      "['a', 'b', 'c', 'd', 'S', 'D']\n"
     ]
    }
   ],
   "source": [
    "s='abcd12%SD'\n",
    "L=[]\n",
    "for i in s:\n",
    "    if i.isalpha():\n",
    "        L.append(i)\n",
    "print(L)"
   ]
  },
  {
   "cell_type": "code",
   "execution_count": 37,
   "metadata": {
    "ExecuteTime": {
     "end_time": "2021-09-23T12:04:21.937509Z",
     "start_time": "2021-09-23T12:04:21.925499Z"
    }
   },
   "outputs": [
    {
     "name": "stdout",
     "output_type": "stream",
     "text": [
      "['a', 'b', 'c', 'd', 'S', 'D']\n"
     ]
    }
   ],
   "source": [
    "L1=[]\n",
    "for i in s:\n",
    "    if ord('a')<=ord(i)<=ord('z') or ord('A')<=ord(i)<=ord('Z'):\n",
    "        L1.append(i)\n",
    "print(L1)"
   ]
  },
  {
   "cell_type": "code",
   "execution_count": 58,
   "metadata": {
    "ExecuteTime": {
     "end_time": "2021-03-27T05:42:05.047258Z",
     "start_time": "2021-03-27T05:42:05.040276Z"
    }
   },
   "outputs": [
    {
     "data": {
      "text/plain": [
       "['a', 'b', 'c', 'd', 'S', 'D']"
      ]
     },
     "execution_count": 58,
     "metadata": {},
     "output_type": "execute_result"
    }
   ],
   "source": [
    "import re\n",
    "re.findall('[a-zA-Z]',s)"
   ]
  },
  {
   "cell_type": "markdown",
   "metadata": {},
   "source": [
    "# File Input/ Output and os.path\n",
    "There are different file operations that can be carried out on a file. These are:  \n",
    "1) Creation of a new file  \n",
    "2) Opening / Reading an existing file  \n",
    "3) Writing to a file  \n",
    "4) Moving to a specific location in a file (seeking)  \n",
    "5) Closing a file"
   ]
  },
  {
   "cell_type": "markdown",
   "metadata": {},
   "source": [
    "## Creation of a new file\n",
    "In order to write into a file we need to open it in write 'w', append 'a' or exclusive\n",
    "creation 'x' mode. If the given filename already exist then with the 'w' mode as it\n",
    "will overwrite into the file.\n",
    "Writing a string or sequence of bytes (for binary files) is done using write()\n",
    "method. This method returns the number of characters written to the file"
   ]
  },
  {
   "cell_type": "markdown",
   "metadata": {},
   "source": [
    "### Creating Text Files"
   ]
  },
  {
   "cell_type": "code",
   "execution_count": 1,
   "metadata": {
    "ExecuteTime": {
     "end_time": "2021-09-30T11:22:34.750129Z",
     "start_time": "2021-09-30T11:22:34.728803Z"
    }
   },
   "outputs": [],
   "source": [
    "#writing to a new file hello.txt\n",
    "f = open('hello.txt', 'w', encoding = 'utf-8')\n",
    "f.write(\"Hello Python Developers!\")\n",
    "f.write(' '+\"Welcome to Python World\")\n",
    "#f.flush()\n",
    "#刷新缓冲区的，即将缓冲区中的数据立刻写入文件，同时清空缓冲区\n",
    "f.close()"
   ]
  },
  {
   "cell_type": "markdown",
   "metadata": {},
   "source": [
    "With construct – Most of the times many developers forgot to close the file.\n",
    "Python support with construct. For example - with open(\"test.txt\",'w) as f: after\n",
    "this colon block of python file handling code follows. In this case no need to\n",
    "explicitly close the file. The Python compiler will take care of it. So it is a better\n",
    "option to use this clause"
   ]
  },
  {
   "cell_type": "code",
   "execution_count": 3,
   "metadata": {
    "ExecuteTime": {
     "end_time": "2021-09-30T11:24:01.108835Z",
     "start_time": "2021-09-30T11:24:01.092972Z"
    }
   },
   "outputs": [],
   "source": [
    "with open('hello.txt', 'w', encoding = 'utf-8') as f:\n",
    "    f.write(\"Hello sztu students!\")\n",
    "    f.write(' '+\"Welcome to sztu\")"
   ]
  },
  {
   "cell_type": "markdown",
   "metadata": {},
   "source": [
    "You might be wondering why the writelines() function doesn’t written line by line.\n",
    "Well, unlike other languages like C# the writelines() function in Python writes a\n",
    "sequence of text. The text is not written line by line in the file. If we want the text\n",
    "to be written line by line in the text file then we have to modify our code and\n",
    "insert a ‘\\n’."
   ]
  },
  {
   "cell_type": "code",
   "execution_count": 4,
   "metadata": {
    "ExecuteTime": {
     "end_time": "2021-09-30T11:24:59.442714Z",
     "start_time": "2021-09-30T11:24:59.435260Z"
    }
   },
   "outputs": [],
   "source": [
    "with open('hello.txt', 'w', encoding = 'utf-8') as f:\n",
    "    f.write(\"Hello sztu students!\")\n",
    "    f.write(' '+\"Welcome to Python World\"+'\\n')\n",
    "    #writelines() is use to write multiple lines in to the file\n",
    "    mylist =[\"Apple\", \"Orange\", \"Banana\"]\n",
    "    newlist=[s+'\\n' for s in mylist]\n",
    "    f.writelines(newlist)"
   ]
  },
  {
   "cell_type": "markdown",
   "metadata": {},
   "source": [
    "**Creating text file in Append Mode**"
   ]
  },
  {
   "cell_type": "code",
   "execution_count": 5,
   "metadata": {
    "ExecuteTime": {
     "end_time": "2021-09-30T11:25:52.536902Z",
     "start_time": "2021-09-30T11:25:52.526280Z"
    }
   },
   "outputs": [],
   "source": [
    "#writing the file hello.txt in append mode\n",
    "with open('hello.txt', 'a', encoding = 'utf-8') as f:\n",
    "    f.write(\"Now I am appending this line!\\n\")\n",
    "    f.write(\"Let's write another list\\n\")\n",
    "    mylist =[\"Cabbage\\n\", \"Potato\\n\", \"Tomato\\n\"]\n",
    "    #writelines() is use to write multiple lines in to the file\n",
    "    f.writelines(mylist)\n",
    "    f.flush()"
   ]
  },
  {
   "cell_type": "markdown",
   "metadata": {},
   "source": [
    "### Creating Binary Files\n",
    "We need to write data as binary files such as image files or sound files. We can\n",
    "also write text data in binary, we must supply data in the form of objects that\n",
    "expose data as bytes (e.g., byte strings, bytearray objects, etc.)."
   ]
  },
  {
   "cell_type": "code",
   "execution_count": 40,
   "metadata": {
    "ExecuteTime": {
     "end_time": "2021-03-29T11:29:55.379897Z",
     "start_time": "2021-03-29T11:29:55.354124Z"
    }
   },
   "outputs": [],
   "source": [
    "# Write binary data to a file\n",
    "#writing the file hello.dat write binary mode\n",
    "with open('hello.dat', 'wb') as f:\n",
    "    #writing as byte strings\n",
    "    f.write(b\"I am writing data in binary file!\\n\")\n",
    "    f.write(b\"Let's write another list\\n\")"
   ]
  },
  {
   "cell_type": "markdown",
   "metadata": {},
   "source": [
    "If we need to read or write text from a binary-mode file, we would use to decode\n",
    "or encode function."
   ]
  },
  {
   "cell_type": "code",
   "execution_count": 41,
   "metadata": {
    "ExecuteTime": {
     "end_time": "2021-03-29T11:29:57.175531Z",
     "start_time": "2021-03-29T11:29:57.152432Z"
    }
   },
   "outputs": [],
   "source": [
    "# Write binary data to a file\n",
    "#writing the file hello.dat write binary mode\n",
    "with open('hello.dat', 'wb') as f:\n",
    "    text = 'Hello World'\n",
    "    f.write(text.encode('utf-8'))"
   ]
  },
  {
   "cell_type": "markdown",
   "metadata": {
    "ExecuteTime": {
     "end_time": "2021-03-27T06:23:46.055368Z",
     "start_time": "2021-03-27T06:23:46.049384Z"
    }
   },
   "source": [
    "**Creating binary file in Append Mode**"
   ]
  },
  {
   "cell_type": "code",
   "execution_count": 42,
   "metadata": {
    "ExecuteTime": {
     "end_time": "2021-03-29T11:30:00.361931Z",
     "start_time": "2021-03-29T11:30:00.346091Z"
    }
   },
   "outputs": [],
   "source": [
    "# Write binary data to a file\n",
    "#writing the file hello.dat write append binary mode\n",
    "with open('hello.dat', 'ab') as f:\n",
    "    line1 = 'Hello Python Developers!'\n",
    "    line2 = 'Binary files are great'\n",
    "    f.write(line1.encode('utf-8'))\n",
    "    f.write(line2.encode('utf-8'))"
   ]
  },
  {
   "cell_type": "markdown",
   "metadata": {},
   "source": [
    "## Opening an existing file"
   ]
  },
  {
   "cell_type": "code",
   "execution_count": 43,
   "metadata": {
    "ExecuteTime": {
     "end_time": "2021-03-29T11:30:03.489940Z",
     "start_time": "2021-03-29T11:30:03.474038Z"
    }
   },
   "outputs": [
    {
     "name": "stdout",
     "output_type": "stream",
     "text": [
      "Hello sztu students! Welcome to Python World\n",
      "Apple\n",
      "Orange\n",
      "Banana\n",
      "Now I am appending this line!\n",
      "Let's write another list\n",
      "Cabbage\n",
      "Potato\n",
      "Tomato\n",
      "\n"
     ]
    }
   ],
   "source": [
    "#读取全部内容\n",
    "with open(\"hello.txt\",'r') as f:\n",
    "    data = f.read()\n",
    "print(data)"
   ]
  },
  {
   "cell_type": "code",
   "execution_count": 7,
   "metadata": {
    "ExecuteTime": {
     "end_time": "2021-09-30T11:29:36.890791Z",
     "start_time": "2021-09-30T11:29:36.882926Z"
    }
   },
   "outputs": [
    {
     "name": "stdout",
     "output_type": "stream",
     "text": [
      "['Hello sztu students! Welcome to Python World\\n', 'Apple\\n', 'Orange\\n', 'Banana\\n', 'Now I am appending this line!\\n', \"Let's write another list\\n\", 'Cabbage\\n', 'Potato\\n', 'Tomato\\n']\n"
     ]
    }
   ],
   "source": [
    "#读取所有行(直到结束符 EOF)并返回列表\n",
    "with open(\"hello.txt\",'r') as f:\n",
    "    data = f.readlines()\n",
    "print(data)"
   ]
  },
  {
   "cell_type": "code",
   "execution_count": 8,
   "metadata": {
    "ExecuteTime": {
     "end_time": "2021-09-30T11:29:40.077995Z",
     "start_time": "2021-09-30T11:29:40.062376Z"
    }
   },
   "outputs": [
    {
     "name": "stdout",
     "output_type": "stream",
     "text": [
      "Hello sztu students! Welcome to Python World\n",
      "Apple\n",
      "Orange\n",
      "Banana\n",
      "Now I am appending this line!\n",
      "Let's write another list\n",
      "Cabbage\n",
      "Potato\n",
      "Tomato\n"
     ]
    }
   ],
   "source": [
    "with open(\"hello.txt\",'r') as f:\n",
    "    tex = f.readlines()\n",
    "    tex=''.join(tex).strip('\\n')\n",
    "print(tex)"
   ]
  },
  {
   "cell_type": "code",
   "execution_count": 9,
   "metadata": {
    "ExecuteTime": {
     "end_time": "2021-09-30T11:30:09.433094Z",
     "start_time": "2021-09-30T11:30:09.428097Z"
    }
   },
   "outputs": [
    {
     "name": "stdout",
     "output_type": "stream",
     "text": [
      "Hello sztu students! Welcome to Python World\n",
      "\n"
     ]
    }
   ],
   "source": [
    "#读取第一行\n",
    "with open(\"hello.txt\",'r') as f:\n",
    "    data = f.readline()\n",
    "print(data)"
   ]
  },
  {
   "cell_type": "code",
   "execution_count": 2,
   "metadata": {
    "ExecuteTime": {
     "end_time": "2021-03-29T11:35:27.096929Z",
     "start_time": "2021-03-29T11:35:27.081774Z"
    }
   },
   "outputs": [],
   "source": [
    "with open('hello.dat','w') as f:\n",
    "    f.write('Python数据分析')"
   ]
  },
  {
   "cell_type": "code",
   "execution_count": null,
   "metadata": {},
   "outputs": [],
   "source": []
  },
  {
   "cell_type": "code",
   "execution_count": 5,
   "metadata": {
    "ExecuteTime": {
     "end_time": "2021-03-29T11:35:58.350770Z",
     "start_time": "2021-03-29T11:35:58.342232Z"
    }
   },
   "outputs": [
    {
     "name": "stdout",
     "output_type": "stream",
     "text": [
      "Python数据分析\n"
     ]
    }
   ],
   "source": [
    "with open(\"hello.dat\",'r') as f:\n",
    "    data = f.read()\n",
    "    print(data)"
   ]
  },
  {
   "cell_type": "markdown",
   "metadata": {},
   "source": [
    "### Moving to a specific location in a file (seeking)\n",
    "Change the file position to offsetbytes, in reference to from (start, current, end)."
   ]
  },
  {
   "cell_type": "code",
   "execution_count": 111,
   "metadata": {
    "ExecuteTime": {
     "end_time": "2021-03-27T06:39:16.356343Z",
     "start_time": "2021-03-27T06:39:16.346370Z"
    }
   },
   "outputs": [
    {
     "name": "stdout",
     "output_type": "stream",
     "text": [
      "Hello Worl\n",
      "\n",
      "\n",
      "Hello WorldHello Python Developers!Binary files are great\n"
     ]
    }
   ],
   "source": [
    "#writing the file hello.dat write append binary mode\n",
    "with open(\"hello.dat\",'rb') as f:\n",
    "    #reading first 10 characters\n",
    "    data = f.read(10)\n",
    "    text = data.decode('utf-8')\n",
    "    print(text)\n",
    "    #after reading 10 characters let's move the cursor to initial position\n",
    "    f.seek(0)\n",
    "    data = f.read()\n",
    "    text1 = data.decode('utf-8')\n",
    "print(\"\\n\")\n",
    "print(text1)"
   ]
  },
  {
   "cell_type": "markdown",
   "metadata": {},
   "source": [
    "In the same way we could also write a file in a specified path.  \n",
    "In the above example we have provided full path (hard coded)  \n",
    "i.e.,\"C:\\\\Users\\\\zjy\\\\Desktop\\\\hello.dat\""
   ]
  },
  {
   "cell_type": "markdown",
   "metadata": {},
   "source": [
    "## Absolute and Relative file paths"
   ]
  },
  {
   "cell_type": "markdown",
   "metadata": {},
   "source": [
    "### Operating System Interfaces - os.path\n",
    "Platform-independent manipulation of file names. Writing Python program to\n",
    "work with files on multiple platforms is easy using the functions included in the\n",
    "os.path module.\n",
    "路径拼接os.path.join()函数：连接两个或更多的路径名组件"
   ]
  },
  {
   "cell_type": "code",
   "execution_count": 10,
   "metadata": {
    "ExecuteTime": {
     "end_time": "2021-09-30T11:33:57.865106Z",
     "start_time": "2021-09-30T11:33:57.853139Z"
    }
   },
   "outputs": [
    {
     "name": "stdout",
     "output_type": "stream",
     "text": [
      "C:\\My_File\\SZTU\\PEC\\Python_Data_Analysis\\202109Thursday\n",
      "C:\\My_File\\SZTU\\PEC\\Python_Data_Analysis\\202109Thursday\n",
      "C:\\My_File\\SZTU\\PEC\\Python_Data_Analysis\\202109Thursday\\hello.txt\n"
     ]
    }
   ],
   "source": [
    "import os\n",
    "#获取当前工作路径\n",
    "#方法一\n",
    "#os.path.dirname(__file__)返回的是.py文件的目录\n",
    "file=os.path.realpath('__file__')\n",
    "path1=os.path.dirname(file)\n",
    "print(path1)\n",
    "#方法二\n",
    "base_dir = os.getcwd()\n",
    "print(base_dir)\n",
    "#os.path.abspath(file)返回的是.py文件的绝对路径（完整路径）\n",
    "path2=os.path.abspath('hello.txt')\n",
    "print(path2)"
   ]
  },
  {
   "cell_type": "code",
   "execution_count": 66,
   "metadata": {
    "ExecuteTime": {
     "end_time": "2021-03-29T11:40:09.485571Z",
     "start_time": "2021-03-29T11:40:09.474513Z"
    }
   },
   "outputs": [
    {
     "data": {
      "text/plain": [
       "'C:\\\\Users\\\\tkfy9\\\\hello.txt'"
      ]
     },
     "execution_count": 66,
     "metadata": {},
     "output_type": "execute_result"
    }
   ],
   "source": [
    "filePath = os.path.join(path1, 'hello.txt')\n",
    "filePath"
   ]
  },
  {
   "cell_type": "code",
   "execution_count": 118,
   "metadata": {
    "ExecuteTime": {
     "end_time": "2021-03-27T08:11:17.922138Z",
     "start_time": "2021-03-27T08:11:17.909096Z"
    }
   },
   "outputs": [
    {
     "name": "stdout",
     "output_type": "stream",
     "text": [
      "Hello sztu\n",
      "Hello sztu students! Welcome to Python World\n",
      "Apple\n",
      "Orange\n",
      "Banana\n",
      "Now I am appending this line!\n",
      "Let's write another list\n",
      "Cabbage\n",
      "Potato\n",
      "Tomato\n",
      "\n"
     ]
    }
   ],
   "source": [
    "filePath = os.path.join(path1, 'hello.txt')\n",
    "with open(filePath,'r') as f:\n",
    "    #reading first 10 characters\n",
    "    text = f.read(10)\n",
    "    print(text)\n",
    "    #after reading 10 characters let's move the cursor to initial position\n",
    "    f.seek(0)\n",
    "    text1 = f.read()\n",
    "print(text1)"
   ]
  },
  {
   "cell_type": "markdown",
   "metadata": {},
   "source": [
    "## Directories in Python"
   ]
  },
  {
   "cell_type": "markdown",
   "metadata": {},
   "source": [
    "### The getcwd() Method\n",
    "The getcwd() method displays the current working directory"
   ]
  },
  {
   "cell_type": "code",
   "execution_count": 11,
   "metadata": {
    "ExecuteTime": {
     "end_time": "2021-09-30T11:35:44.218964Z",
     "start_time": "2021-09-30T11:35:44.199682Z"
    }
   },
   "outputs": [
    {
     "data": {
      "text/plain": [
       "'C:\\\\My_File\\\\SZTU\\\\PEC\\\\Python_Data_Analysis\\\\202109Thursday'"
      ]
     },
     "execution_count": 11,
     "metadata": {},
     "output_type": "execute_result"
    }
   ],
   "source": [
    "os.getcwd()"
   ]
  },
  {
   "cell_type": "markdown",
   "metadata": {},
   "source": [
    "### The mkdir() Method\n",
    "You can use the mkdir() method of the os module to create directories in the\n",
    "current directory. You need to supply an argument to this method which contains\n",
    "the name of the directory to be created."
   ]
  },
  {
   "cell_type": "code",
   "execution_count": 17,
   "metadata": {
    "ExecuteTime": {
     "end_time": "2021-09-30T11:40:04.032784Z",
     "start_time": "2021-09-30T11:40:04.013039Z"
    }
   },
   "outputs": [],
   "source": [
    "#创建新文件夹\n",
    "import os\n",
    "os.mkdir(\"my_example\")"
   ]
  },
  {
   "cell_type": "markdown",
   "metadata": {},
   "source": [
    "### The chdir() Method\n",
    "You can use the chdir() method to change the current directory. The chdir()\n",
    "method takes an argument, which is the name of the directory that you want to\n",
    "make the current directory."
   ]
  },
  {
   "cell_type": "code",
   "execution_count": 18,
   "metadata": {
    "ExecuteTime": {
     "end_time": "2021-09-30T11:40:10.402583Z",
     "start_time": "2021-09-30T11:40:10.386757Z"
    }
   },
   "outputs": [
    {
     "name": "stdout",
     "output_type": "stream",
     "text": [
      "C:\\My_File\\SZTU\\PEC\\Python_Data_Analysis\\202109Thursday\\my_example\n"
     ]
    }
   ],
   "source": [
    "#change the directory to my_example\n",
    "os.chdir('my_example')\n",
    "print(os.getcwd())"
   ]
  },
  {
   "cell_type": "code",
   "execution_count": 20,
   "metadata": {
    "ExecuteTime": {
     "end_time": "2021-09-30T11:41:10.302600Z",
     "start_time": "2021-09-30T11:41:10.295200Z"
    }
   },
   "outputs": [
    {
     "name": "stdout",
     "output_type": "stream",
     "text": [
      "C:\\My_File\\SZTU\\PEC\\Python_Data_Analysis\\202109Thursday\n"
     ]
    }
   ],
   "source": [
    "#change the directory to my_example\n",
    "os.chdir('C:\\\\My_File\\\\SZTU\\\\PEC\\\\Python_Data_Analysis\\\\202109Thursday')\n",
    "print(os.getcwd())"
   ]
  },
  {
   "cell_type": "markdown",
   "metadata": {},
   "source": [
    "### The rmdir() Method\n",
    "The rmdir() method deletes the directory, which is passed as an argument in the\n",
    "method."
   ]
  },
  {
   "cell_type": "code",
   "execution_count": 142,
   "metadata": {
    "ExecuteTime": {
     "end_time": "2021-03-27T08:26:19.364936Z",
     "start_time": "2021-03-27T08:26:19.356283Z"
    }
   },
   "outputs": [],
   "source": [
    "os.mkdir(\"my_example\")\n",
    "os.rmdir(\"C:\\\\Users\\\\zjy\\\\my_example\")"
   ]
  },
  {
   "cell_type": "markdown",
   "metadata": {},
   "source": [
    "### List Directories and Files\n",
    "All files and sub directories inside a directory can be listed using the listdir()\n",
    "method. This method takes in a path and returns a list of sub directories and files\n",
    "in that path. If no path is specified, it returns from the current working directory."
   ]
  },
  {
   "cell_type": "code",
   "execution_count": 21,
   "metadata": {
    "ExecuteTime": {
     "end_time": "2021-09-30T11:43:06.964401Z",
     "start_time": "2021-09-30T11:43:06.949122Z"
    }
   },
   "outputs": [
    {
     "name": "stdout",
     "output_type": "stream",
     "text": [
      "['2018年新闻联播.csv', '2020data.csv', 'AirPassengers.csv', 'askci.csv', 'AssetsPices.csv', 'creditcard.csv', 'CSCO.csv', 'daily_data.csv', 'datascience.csv', 'dfqc.csv', 'df_three_factor_model.csv', 'EURUSD_D1.csv', 'fb.csv', 'fredmd.csv', 'GrandBay_data.csv', 'hs300.csv', 'index_data.csv', 'loans_2018q3.csv', 'Macrofactordata.csv', 'MktDataBJ-1.csv', 'my_data2020.csv', 'node.csv', 'north_data.csv', 'north_money.csv', 'result_df.csv', 'roe_data.csv', 'simple_productspace.csv', 'stock_data.csv', 'stock_information.csv', 'tk.csv']\n"
     ]
    }
   ],
   "source": [
    "dl=os.listdir('C:\\\\Users\\\\tkfy9\\\\my_notbook\\\\')\n",
    "L=[]\n",
    "for i in dl:\n",
    "    if i.endswith('.csv'):\n",
    "        L.append(i)\n",
    "print(L)"
   ]
  },
  {
   "cell_type": "code",
   "execution_count": 22,
   "metadata": {
    "ExecuteTime": {
     "end_time": "2021-09-30T11:44:28.934646Z",
     "start_time": "2021-09-30T11:44:28.926461Z"
    }
   },
   "outputs": [
    {
     "name": "stdout",
     "output_type": "stream",
     "text": [
      "hello.txt\n"
     ]
    }
   ],
   "source": [
    "dl=os.listdir()\n",
    "for f in dl:\n",
    "    if f.endswith('.txt'):\n",
    "        print(f)"
   ]
  },
  {
   "cell_type": "markdown",
   "metadata": {},
   "source": [
    "### Renaming a Directory or a File\n",
    "The rename() method can rename a directory or a file. The first argument is the\n",
    "old name and the new name must be supplies as the second argument."
   ]
  },
  {
   "cell_type": "code",
   "execution_count": null,
   "metadata": {},
   "outputs": [],
   "source": []
  },
  {
   "cell_type": "code",
   "execution_count": 149,
   "metadata": {
    "ExecuteTime": {
     "end_time": "2021-03-27T08:33:55.012377Z",
     "start_time": "2021-03-27T08:33:54.999887Z"
    }
   },
   "outputs": [
    {
     "name": "stdout",
     "output_type": "stream",
     "text": [
      "hello.txt\n",
      "names.txt\n",
      "requirements.txt\n",
      "stopwords.txt\n",
      "test.txt\n",
      "test2.txt\n",
      "zjy.txt\n"
     ]
    }
   ],
   "source": [
    "os.rename('untitled.txt','test2.txt')\n",
    "dl=os.listdir()\n",
    "for f in dl:\n",
    "    if f.endswith('.txt'):\n",
    "        print(f)"
   ]
  },
  {
   "cell_type": "markdown",
   "metadata": {},
   "source": [
    "# Regular Expressions\n",
    "Regular Expressions\n",
    "are used in programming languages to filter texts or textstrings. It's\n",
    "possible to check, if a text or a string matches a regular expression. The\n",
    "syntax of regular expressions is the same for almost all programming and\n",
    "script languages, e.g. Python, C++, Java, C# and others. The term \"regular\n",
    "expression\", sometimes also called regex or regexp, is originated in\n",
    "theoretical computer science.\n",
    "Python provide us regular expression library which we must import before we\n",
    "could use regular expression. The regular expression library is “re”, so we have to\n",
    "import re in the beginning of the program."
   ]
  },
  {
   "cell_type": "markdown",
   "metadata": {},
   "source": [
    "## Basic Patterns"
   ]
  },
  {
   "cell_type": "markdown",
   "metadata": {},
   "source": [
    "普通字符：  \n",
    "- [ABC]\t匹配 [...] 中的所有字符，例如 [aeiou] 匹配字符串 \"google runoob taobao\" 中所有的 e o u a 字母\n",
    "- [^ABC]匹配除了 [...] 中字符的所有字符，例如 [^aeiou] 匹配字符串 \"google runoob taobao\" 中除了 e o u a 字母的所有字母。\n",
    "- [A-Z]\t表示一个区间，匹配所有大写字母，[a-z] 表示所有小写字母。\n",
    "- .\t匹配除换行符（\\n、\\r）之外的任何单个字符，相等于 [^\\n\\r]。\n",
    "- [\\s\\S] 匹配所有。\\s 是匹配所有空白符，包括换行，\\S 非空白符，不包括换行。\n",
    "- \\w 匹配字母、数字、下划线。等价于 [A-Za-z0-9_]\n",
    "- \\d 匹配[0-9]\n",
    "\n",
    "非打印字符：\n",
    "- \\cx\t匹配由x指明的控制字符。例如， \\cM 匹配一个 Control-M 或回车符。x 的值必须为 A-Z 或 a-z 之一。否则，将 c 视为一个原义的 'c' 字符。\n",
    "- \\f\t匹配一个换页符。等价于 \\x0c 和 \\cL。\n",
    "- \\n\t匹配一个换行符。等价于 \\x0a 和 \\cJ。\n",
    "- \\r\t匹配一个回车符。等价于 \\x0d 和 \\cM。\n",
    "- \\t\t匹配一个制表符。等价于 \\x09 和 \\cI。\n",
    "- \\v\t匹配一个垂直制表符。等价于 \\x0b 和 \\cK。\n",
    "\n",
    "特殊字符：  \n",
    "若要匹配这些特殊字符，必须首先使字符\"转义\"，即，将反斜杠字符\\ 放在它们前面  \n",
    "- \\\\$匹配输入字符串的结尾位置。如果设置了 RegExp 对象的 Multiline 属性，则 \\\\$也匹配 '\\n' 或 '\\r'。要匹配 \\\\$ 字符身，请使用\\\\$。\n",
    "- \\( )\t标记一个子表达式的开始和结束位置。子表达式可以获取供以后使用。要匹配这些字符，请使用 \\( 和 \\)。\n",
    "- \\*\t匹配前面的子表达式零次或多次。要匹配 * 字符，请使用 \\\\*。\n",
    "- \\+\t匹配前面的子表达式一次或多次。要匹配 + 字符，请使用 \\\\+。\n",
    "- \\.\t匹配除换行符 \\n 之外的任何单字符。要匹配 . ，请使用 \\\\. 。\n",
    "- \\[\t标记一个中括号表达式的开始。要匹配 \\[，请使用 \\\\[。\n",
    "- \\?\t匹配前面的子表达式零次或一次，或指明一个非贪婪限定符。要匹配 \\? 字符，请使用 \\\\?。\n",
    "- \\\\\t将下一个字符标记为或特殊字符、或原义字符、或向后引用、或八进制转义符。例如， 'n' 匹配字符 'n'。'\\n' 匹配换行符。序列 '\\\\' 匹配 \"\\\"，而 '\\\\(' 则匹配 \"(\"。\n",
    "- \\^\t匹配输入字符串的开始位置，除非在方括号表达式中使用，当该符号在方括号表达式中使用时，表示不接受该方括号表达式中的字符集合。要匹配 ^ 字符本身，请使用 \\\\^。\n",
    "- \\{\t标记限定符表达式的开始。要匹配 {，请使用 \\\\{。{n}\tn 是一个非负整数。匹配确定的 n 次。例如，'o{2}' 不能匹配 \"Bob\" 中的 'o'，但是能匹配 \"food\" 中的两个 o。\n",
    "{n,}\tn 是一个非负整数。至少匹配n 次。例如，'o{2,}' 不能匹配 \"Bob\" 中的 'o'，但能匹配 \"foooood\" 中的所有 o。'o{1,}' 等价于 'o+'。'o{0,}' 则等价于 'o*'。\n",
    "{n,m}\tm 和 n 均为非负整数，其中n <= m。最少匹配 n 次且最多匹配 m 次。例如，\"o{1,3}\" 将匹配 \"fooooood\" 中的前三个 o。'o{0,1}' 等价于 'o?'。请注意在逗号和两个数之间不能有空格。\n",
    "- \\|\t指明两项之间的一个选择。要匹配 |，请使用 \\\\|。\n",
    "\n",
    "限定符  \n",
    "限定符用来指定正则表达式的一个给定组件必须要出现多少次才能满足匹配。有 * 或 + 或 ? 或 {n} 或 {n,} 或 {n,m} 共6种限定符出现在范围表达式之后,因此应用于整个范围表达式.\n",
    "\n",
    "定位符  \n",
    "定位符使您能够将正则表达式固定到行首或行尾。它们还使您能够创建这样的正则表达式，这些正则表达式出现在一个单词内、在一个单词的开头或者一个单词的结尾。定位符用来描述字符串或单词的边界，^ 和 $ 分别指字符串的开始与结束，\\b 描述单词的前或后边界，\\B 表示非单词边界\n",
    "\n",
    "注意：不能将限定符与定位符一起使用。由于在紧靠换行或者单词边界的前面或后面不能有一个以上位置，因此不允许诸如 ^* 之类的表达式。若要匹配一行文本开始处的文本，请在正则表达式的开始使用 ^ 字符。不要将 ^ 的这种用法与中括号表达式内的用法混淆。若要匹配一行文本的结束处的文本，请在正则表达式的结束处使用 $ 字符。"
   ]
  },
  {
   "cell_type": "markdown",
   "metadata": {},
   "source": [
    "## Performing Queries with Regular expression\n",
    "The ‘re’ package provides several methods to perform queries on an input string.\n",
    "These are as follows:  \n",
    "a) re.search()  \n",
    "b) re.match()  \n",
    "c) re.compile()  \n",
    "d) re.findall()"
   ]
  },
  {
   "cell_type": "markdown",
   "metadata": {},
   "source": [
    "### Search method\n",
    "The search() method works like matches anywhere, search() doesn’t restrict us to\n",
    "only finding matches at the beginning of the string"
   ]
  },
  {
   "cell_type": "code",
   "execution_count": 26,
   "metadata": {
    "ExecuteTime": {
     "end_time": "2021-09-30T11:52:33.016839Z",
     "start_time": "2021-09-30T11:52:32.996884Z"
    }
   },
   "outputs": [
    {
     "name": "stdout",
     "output_type": "stream",
     "text": [
      "orange\n"
     ]
    }
   ],
   "source": [
    "import re\n",
    "\n",
    "string = 'apple, aorange, mango, bo9range'\n",
    "match = re.search('orange', string)\n",
    "print(match.group())"
   ]
  },
  {
   "cell_type": "code",
   "execution_count": 203,
   "metadata": {
    "ExecuteTime": {
     "end_time": "2021-03-27T09:22:42.599583Z",
     "start_time": "2021-03-27T09:22:42.587069Z"
    }
   },
   "outputs": [
    {
     "data": {
      "text/plain": [
       "'orange'"
      ]
     },
     "execution_count": 203,
     "metadata": {},
     "output_type": "execute_result"
    }
   ],
   "source": [
    "match.group()"
   ]
  },
  {
   "cell_type": "code",
   "execution_count": 3,
   "metadata": {
    "ExecuteTime": {
     "end_time": "2021-05-17T08:26:01.586979Z",
     "start_time": "2021-05-17T08:26:01.579993Z"
    }
   },
   "outputs": [
    {
     "name": "stdout",
     "output_type": "stream",
     "text": [
      "Welcome\n"
     ]
    }
   ],
   "source": [
    "import re\n",
    "with open(\"hello.txt\",'r') as f:\n",
    "    text =re.search('Welcome', f.read())\n",
    "    print(text.group())"
   ]
  },
  {
   "cell_type": "code",
   "execution_count": 4,
   "metadata": {
    "ExecuteTime": {
     "end_time": "2021-05-17T08:26:15.239475Z",
     "start_time": "2021-05-17T08:26:15.231470Z"
    }
   },
   "outputs": [
    {
     "name": "stdout",
     "output_type": "stream",
     "text": [
      "Welcome\n"
     ]
    }
   ],
   "source": [
    "with open(\"hello.txt\",'r') as f:\n",
    "    text =re.search('W....me', f.read())\n",
    "    print(text.group())"
   ]
  },
  {
   "cell_type": "markdown",
   "metadata": {},
   "source": [
    "We have use four dots, these dots actually replace one character in the regex\n",
    "pattern and output the word “Welcome”.Now let’s use a .* wild card character"
   ]
  },
  {
   "cell_type": "code",
   "execution_count": 5,
   "metadata": {
    "ExecuteTime": {
     "end_time": "2021-05-17T08:26:33.662476Z",
     "start_time": "2021-05-17T08:26:33.655469Z"
    }
   },
   "outputs": [
    {
     "name": "stdout",
     "output_type": "stream",
     "text": [
      "Welcome\n"
     ]
    }
   ],
   "source": [
    "with open(\"hello.txt\",'r') as f:\n",
    "    text =re.search('W.*me', f.read())\n",
    "    print(text.group())"
   ]
  },
  {
   "cell_type": "code",
   "execution_count": 6,
   "metadata": {
    "ExecuteTime": {
     "end_time": "2021-05-17T08:26:39.780321Z",
     "start_time": "2021-05-17T08:26:39.775320Z"
    }
   },
   "outputs": [
    {
     "name": "stdout",
     "output_type": "stream",
     "text": [
      "Welcome to sztu\n"
     ]
    }
   ],
   "source": [
    "with open(\"hello.txt\",'r') as f:\n",
    "    text =re.search('W.*', f.read())\n",
    "    print(text.group())"
   ]
  },
  {
   "cell_type": "markdown",
   "metadata": {},
   "source": [
    "In the search keyword we have used “W.* “ which means everything after that so\n",
    "the entire line was searched."
   ]
  },
  {
   "cell_type": "code",
   "execution_count": 28,
   "metadata": {
    "ExecuteTime": {
     "end_time": "2021-09-30T11:54:15.689839Z",
     "start_time": "2021-09-30T11:54:15.671031Z"
    }
   },
   "outputs": [
    {
     "name": "stdout",
     "output_type": "stream",
     "text": [
      "111baba@gmail.com\n"
     ]
    }
   ],
   "source": [
    "import re\n",
    "string = \"Hello from 111baba@gmail.com arunbaruah@gmail.com to\\\n",
    "sangranran@gmail.com ;dinesh@gmail.com ;kuldeep@gmail.com about the party\\\n",
    "@8PM.\"\n",
    "searchstr = re.search(r'[\\w.-]+@[\\w.-]+', string)\n",
    "print(searchstr.group(0))"
   ]
  },
  {
   "cell_type": "markdown",
   "metadata": {},
   "source": [
    "### Match method\n",
    "The match() method works like matches the beginning. The match() method works\n",
    "is that it will only find matches if they occur at the start of the string being\n",
    "searched.So for example, calling match() on the string ‘orange apple orange\n",
    "mango’, looking for the pattern ‘orange’ will match"
   ]
  },
  {
   "cell_type": "code",
   "execution_count": 31,
   "metadata": {
    "ExecuteTime": {
     "end_time": "2021-09-30T11:55:20.437652Z",
     "start_time": "2021-09-30T11:55:20.430352Z"
    }
   },
   "outputs": [
    {
     "name": "stdout",
     "output_type": "stream",
     "text": [
      "<re.Match object; span=(0, 6), match='orange'>\n"
     ]
    }
   ],
   "source": [
    "import re\n",
    "string ='orange, mango, orange'\n",
    "strmatch = re.match('orange', string)\n",
    "print(strmatch)"
   ]
  },
  {
   "cell_type": "markdown",
   "metadata": {},
   "source": [
    "The output shown below results “None” because in the first position of the string\n",
    "“apple” is there"
   ]
  },
  {
   "cell_type": "code",
   "execution_count": 32,
   "metadata": {
    "ExecuteTime": {
     "end_time": "2021-09-30T11:55:43.172544Z",
     "start_time": "2021-09-30T11:55:43.156862Z"
    }
   },
   "outputs": [
    {
     "name": "stdout",
     "output_type": "stream",
     "text": [
      "<re.Match object; span=(0, 6), match='orange'>\n"
     ]
    }
   ],
   "source": [
    "string ='orange, apple, mango, orange'\n",
    "strmatch = re.match(r'orange', string)\n",
    "print(strmatch)"
   ]
  },
  {
   "cell_type": "markdown",
   "metadata": {},
   "source": [
    "The match is found in the beginning so it is showing the match. But the correct\n",
    "way to print is as follows"
   ]
  },
  {
   "cell_type": "code",
   "execution_count": 215,
   "metadata": {
    "ExecuteTime": {
     "end_time": "2021-03-27T09:30:23.957867Z",
     "start_time": "2021-03-27T09:30:23.949729Z"
    }
   },
   "outputs": [
    {
     "name": "stdout",
     "output_type": "stream",
     "text": [
      "orange\n"
     ]
    }
   ],
   "source": [
    "print(strmatch.group())"
   ]
  },
  {
   "cell_type": "markdown",
   "metadata": {},
   "source": [
    "### compile\n",
    "用于编译正则表达式，生成一个正则表达式（ Pattern ）对象，供 match() 和 search() 这两个函数使用。\n",
    "\n",
    "语法格式为：\n",
    "\n",
    "re.compile(pattern[, flags])  \n",
    "参数：\n",
    "\n",
    "pattern : 一个字符串形式的正则表达式\n",
    "flags 可选，表示匹配模式，比如忽略大小写，多行模式等，具体参数为：\n",
    "re.I 忽略大小写\n",
    "re.L 表示特殊字符集 \\w, \\W, \\b, \\B, \\s, \\S 依赖于当前环境\n",
    "re.M 多行模式\n",
    "re.S 即为' . '并且包括换行符在内的任意字符（' . '不包括换行符）\n",
    "re.U 表示特殊字符集 \\w, \\W, \\b, \\B, \\d, \\D, \\s, \\S 依赖于 Unicode 字符属性数据库\n",
    "re.X 为了增加可读性，忽略空格和' # '后面的注释"
   ]
  },
  {
   "cell_type": "code",
   "execution_count": 34,
   "metadata": {
    "ExecuteTime": {
     "end_time": "2021-09-30T11:57:28.704142Z",
     "start_time": "2021-09-30T11:57:28.692484Z"
    }
   },
   "outputs": [
    {
     "name": "stdout",
     "output_type": "stream",
     "text": [
      "None\n",
      "None\n",
      "12\n"
     ]
    }
   ],
   "source": [
    "import re\n",
    "pattern = re.compile(r'\\d+')                    # 用于匹配至少一个数字\n",
    "m = pattern.match('one12twothree34four')        # 查找头部，没有匹配\n",
    "print( m )\n",
    "m = pattern.match('one12twothree34four', 2, 10) # 从'e'的位置开始匹配，没有匹配\n",
    "print( m )\n",
    "m = pattern.match('one12twot3ee34four', 3, 10) # 从'1'的位置开始匹配，正好匹配\n",
    "print( m.group() )                                        "
   ]
  },
  {
   "cell_type": "code",
   "execution_count": 35,
   "metadata": {
    "ExecuteTime": {
     "end_time": "2021-09-30T11:58:27.545841Z",
     "start_time": "2021-09-30T11:58:27.526856Z"
    }
   },
   "outputs": [
    {
     "name": "stdout",
     "output_type": "stream",
     "text": [
      "<re.Match object; span=(0, 11), match='Hello World'>\n",
      "Hello World\n",
      "(0, 11)\n",
      "Hello\n",
      "(0, 5)\n",
      "World\n",
      "(6, 11)\n",
      "('Hello', 'World')\n"
     ]
    }
   ],
   "source": [
    "pattern = re.compile(r'([a-z]+) ([a-z]+)', re.I)   # re.I 表示忽略大小写\n",
    "m = pattern.match('Hello World Wide Web')\n",
    "print( m )                            # 匹配成功，返回一个 Match 对象\n",
    "print(m.group(0))                         # 返回匹配成功的整个子串\n",
    "print(m.span(0))                         # 返回匹配成功的整个子串的索引\n",
    "print(m.group(1))                            # 返回第一个分组匹配成功的子串\n",
    "print(m.span(1))                             # 返回第一个分组匹配成功的子串的索引\n",
    "print(m.group(2))                            # 返回第二个分组匹配成功的子串\n",
    "print(m.span(2))                             # 返回第二个分组匹配成功的子串索引\n",
    "print(m.groups())                           # 等价于 (m.group(1), m.group(2), ...)\n",
    "#print(m.group(3))                            # 报错不存在第三个分组"
   ]
  },
  {
   "cell_type": "markdown",
   "metadata": {},
   "source": [
    "### Findall method\n",
    "The re.findall() method get a list of all matching patterns"
   ]
  },
  {
   "cell_type": "code",
   "execution_count": 36,
   "metadata": {
    "ExecuteTime": {
     "end_time": "2021-09-30T11:59:44.227256Z",
     "start_time": "2021-09-30T11:59:44.203865Z"
    }
   },
   "outputs": [
    {
     "data": {
      "text/plain": [
       "['0', '00', '01', '10', '99']"
      ]
     },
     "execution_count": 36,
     "metadata": {},
     "output_type": "execute_result"
    }
   ],
   "source": [
    "s='0、00、01、10 99'\n",
    "re.findall('[0-9][0-9]{0,1}',s)"
   ]
  },
  {
   "cell_type": "code",
   "execution_count": 196,
   "metadata": {
    "ExecuteTime": {
     "end_time": "2021-03-27T09:13:03.153844Z",
     "start_time": "2021-03-27T09:13:03.146407Z"
    }
   },
   "outputs": [
    {
     "data": {
      "text/plain": [
       "['0', '00', '01', '10', '99']"
      ]
     },
     "execution_count": 196,
     "metadata": {},
     "output_type": "execute_result"
    }
   ],
   "source": [
    "s='0、00、01、10 99'\n",
    "re.findall('[0-9][0-9]?',s)"
   ]
  },
  {
   "cell_type": "code",
   "execution_count": 37,
   "metadata": {
    "ExecuteTime": {
     "end_time": "2021-09-30T12:00:55.315141Z",
     "start_time": "2021-09-30T12:00:55.299082Z"
    }
   },
   "outputs": [
    {
     "name": "stdout",
     "output_type": "stream",
     "text": [
      "['a', 'a', 's', 'u', 's', 'u', 's']\n"
     ]
    }
   ],
   "source": [
    "s='I am a student of sztu_bs 我是中国人'\n",
    "import re\n",
    "print(re.findall('[aus]',s))"
   ]
  },
  {
   "cell_type": "code",
   "execution_count": 38,
   "metadata": {
    "ExecuteTime": {
     "end_time": "2021-09-30T12:01:27.170097Z",
     "start_time": "2021-09-30T12:01:27.162226Z"
    }
   },
   "outputs": [
    {
     "name": "stdout",
     "output_type": "stream",
     "text": [
      "['I', ' ', 'm', ' ', ' ', 't', 'd', 'e', 'n', 't', ' ', 'o', 'f', ' ', 'z', 't', '_', 'b', ' ', '我', '是', '中', '国', '人']\n"
     ]
    }
   ],
   "source": [
    "print(re.findall('[^aus]',s))"
   ]
  },
  {
   "cell_type": "code",
   "execution_count": 11,
   "metadata": {
    "ExecuteTime": {
     "end_time": "2021-05-17T08:29:28.946230Z",
     "start_time": "2021-05-17T08:29:28.940239Z"
    }
   },
   "outputs": [
    {
     "data": {
      "text/plain": [
       "['I']"
      ]
     },
     "execution_count": 11,
     "metadata": {},
     "output_type": "execute_result"
    }
   ],
   "source": [
    "re.findall('[A-Z0-9]',s)"
   ]
  },
  {
   "cell_type": "code",
   "execution_count": 12,
   "metadata": {
    "ExecuteTime": {
     "end_time": "2021-05-17T08:29:38.394416Z",
     "start_time": "2021-05-17T08:29:38.383401Z"
    }
   },
   "outputs": [
    {
     "name": "stdout",
     "output_type": "stream",
     "text": [
      "['I', ' ', 'a', 'm', ' ', 'a', ' ', 's', 't', 'u', 'd', 'e', 'n', 't', ' ', 'o', 'f', ' ', 's', 'z', 't', 'u', '_', 'b', 's', ' ', '我', '是', '中', '国', '人']\n"
     ]
    }
   ],
   "source": [
    "print(re.findall('.',s))"
   ]
  },
  {
   "cell_type": "code",
   "execution_count": 13,
   "metadata": {
    "ExecuteTime": {
     "end_time": "2021-05-17T08:29:40.956425Z",
     "start_time": "2021-05-17T08:29:40.950427Z"
    }
   },
   "outputs": [
    {
     "name": "stdout",
     "output_type": "stream",
     "text": [
      "[' ', ' ', ' ', ' ', ' ', ' ']\n"
     ]
    }
   ],
   "source": [
    "print(re.findall('\\s',s))"
   ]
  },
  {
   "cell_type": "code",
   "execution_count": 14,
   "metadata": {
    "ExecuteTime": {
     "end_time": "2021-05-17T08:29:44.348357Z",
     "start_time": "2021-05-17T08:29:44.343351Z"
    }
   },
   "outputs": [
    {
     "name": "stdout",
     "output_type": "stream",
     "text": [
      "['I', 'a', 'm', 'a', 's', 't', 'u', 'd', 'e', 'n', 't', 'o', 'f', 's', 'z', 't', 'u', '_', 'b', 's', '我', '是', '中', '国', '人']\n"
     ]
    }
   ],
   "source": [
    "print(re.findall('\\S',s))"
   ]
  },
  {
   "cell_type": "code",
   "execution_count": 15,
   "metadata": {
    "ExecuteTime": {
     "end_time": "2021-05-17T08:29:58.259400Z",
     "start_time": "2021-05-17T08:29:58.254401Z"
    }
   },
   "outputs": [
    {
     "name": "stdout",
     "output_type": "stream",
     "text": [
      "['I', 'a', 'm', 'a', 's', 't', 'u', 'd', 'e', 'n', 't', 'o', 'f', 's', 'z', 't', 'u', '_', 'b', 's', '我', '是', '中', '国', '人']\n"
     ]
    }
   ],
   "source": [
    "#\\S 匹配所有非空白，而 \\w 只匹配单词字符，等价于 [a-zA-Z0-9_] 共63个字符（字母数字下划线）\n",
    "print(re.findall('\\w',s))"
   ]
  },
  {
   "cell_type": "code",
   "execution_count": 46,
   "metadata": {
    "ExecuteTime": {
     "end_time": "2021-09-30T12:07:03.678998Z",
     "start_time": "2021-09-30T12:07:03.663087Z"
    }
   },
   "outputs": [
    {
     "name": "stdout",
     "output_type": "stream",
     "text": [
      "['arunbaruah@gmail.edu', 'sangranran@gmail.com.cn']\n"
     ]
    }
   ],
   "source": [
    "import re\n",
    "string = \"Hello from arunbaruah@gmail.edu to sangranran@gmail.com.cn about the \\\n",
    "party @8PM. Hay Sangram, I am remainding you for the party, Please don't forget\\\n",
    "my favourite brand!\"\n",
    "searchstr = re.findall('\\S+@\\S+', string)\n",
    "print(searchstr)"
   ]
  },
  {
   "cell_type": "code",
   "execution_count": 47,
   "metadata": {
    "ExecuteTime": {
     "end_time": "2021-09-30T12:07:06.046829Z",
     "start_time": "2021-09-30T12:07:06.039183Z"
    }
   },
   "outputs": [
    {
     "data": {
      "text/plain": [
       "['arunbaruah@gmail.edu', 'sangranran@gmail.com']"
      ]
     },
     "execution_count": 47,
     "metadata": {},
     "output_type": "execute_result"
    }
   ],
   "source": [
    "re.findall('\\w+@[a-z]+\\.[\\w]{2,4}', string)"
   ]
  },
  {
   "cell_type": "markdown",
   "metadata": {},
   "source": [
    "The important point to note the expression “searchstr = re.findall('\\S+@\\S+',\n",
    "string)”. We have used a two character sequence that matches a non-whitespace\n",
    "character (\\S). The “\\S+” matches as many non whitespace characters as possible\n",
    "but it would not match the string “@8PM” because there are no non-blank\n",
    "characters before the at-sign."
   ]
  },
  {
   "cell_type": "code",
   "execution_count": 48,
   "metadata": {
    "ExecuteTime": {
     "end_time": "2021-09-30T12:07:25.575044Z",
     "start_time": "2021-09-30T12:07:25.559902Z"
    }
   },
   "outputs": [
    {
     "name": "stdout",
     "output_type": "stream",
     "text": [
      "['111baba@gmail.com', 'arunbaruah@gmail.com', 'sangranran@gmail.com;dinesh@gmail.com', ';kuldeep@gmail.com']\n"
     ]
    }
   ],
   "source": [
    "import re\n",
    "string = \"Hello from 111baba@gmail.com arunbaruah@gmail.com to sangranran@gmail.com\\\n",
    ";dinesh@gmail.com ;kuldeep@gmail.com about the party @8PM. Hay Sangram, I\\\n",
    "am remainding you for the party, Please don't forget my favourite brand!\"\n",
    "searchstr = re.findall('\\S+@\\S+', string)\n",
    "print(searchstr)"
   ]
  },
  {
   "cell_type": "markdown",
   "metadata": {},
   "source": [
    "In the above output we could see that the other email #ids one extra character “;”\n",
    "was also included. But that was not our intension to print. If we do not want such\n",
    "junk character which may be present in the search string we have to modify our\n",
    "search parameters. We were interested with email starting with letters only\n",
    "because all email #id begins with a letter."
   ]
  },
  {
   "cell_type": "code",
   "execution_count": 50,
   "metadata": {
    "ExecuteTime": {
     "end_time": "2021-09-30T12:08:28.561806Z",
     "start_time": "2021-09-30T12:08:28.554710Z"
    }
   },
   "outputs": [
    {
     "name": "stdout",
     "output_type": "stream",
     "text": [
      "['111baba@gmail', 'arunbaruah@gmail', 'sangranran@gmail', 'dinesh@gmail', 'kuldeep@gmail']\n"
     ]
    }
   ],
   "source": [
    "searchstr = re.findall('[a-zA-Z0-9]\\w+@\\w*', string)\n",
    "print(searchstr)"
   ]
  },
  {
   "cell_type": "markdown",
   "metadata": {},
   "source": [
    "正则匹配中文，固定形式：\\u4E00-\\u9FA5"
   ]
  },
  {
   "cell_type": "code",
   "execution_count": 10,
   "metadata": {
    "ExecuteTime": {
     "end_time": "2021-10-09T10:53:53.574227Z",
     "start_time": "2021-10-09T10:53:53.559019Z"
    }
   },
   "outputs": [
    {
     "data": {
      "text/plain": [
       "['深圳技术大学', '大学', '深圳大学']"
      ]
     },
     "execution_count": 10,
     "metadata": {},
     "output_type": "execute_result"
    }
   ],
   "source": [
    "import re\n",
    "ss='sztu深圳技术大学,#大学， szu深圳大学'\n",
    "reg='[\\u4E00-\\u9FA5]+'\n",
    "re.findall(reg,ss)"
   ]
  },
  {
   "cell_type": "code",
   "execution_count": 11,
   "metadata": {
    "ExecuteTime": {
     "end_time": "2021-10-09T10:54:35.598028Z",
     "start_time": "2021-10-09T10:54:35.578344Z"
    }
   },
   "outputs": [
    {
     "data": {
      "text/plain": [
       "['深圳技术大学', '大学', '深圳大学']"
      ]
     },
     "execution_count": 11,
     "metadata": {},
     "output_type": "execute_result"
    }
   ],
   "source": [
    "reg='[\\u4E00-\\u9FA5]+'\n",
    "re.findall(reg,ss)"
   ]
  },
  {
   "cell_type": "code",
   "execution_count": 20,
   "metadata": {
    "ExecuteTime": {
     "end_time": "2021-10-09T11:01:03.351492Z",
     "start_time": "2021-10-09T11:01:03.339599Z"
    }
   },
   "outputs": [
    {
     "data": {
      "text/plain": [
       "'202004040208'"
      ]
     },
     "execution_count": 20,
     "metadata": {},
     "output_type": "execute_result"
    }
   ],
   "source": [
    "sss='202004040208黄心雨'\n",
    "reg='^\\d+'\n",
    "re.findall(reg,sss)[0]"
   ]
  },
  {
   "cell_type": "code",
   "execution_count": null,
   "metadata": {},
   "outputs": [],
   "source": []
  },
  {
   "cell_type": "code",
   "execution_count": 21,
   "metadata": {
    "ExecuteTime": {
     "end_time": "2021-10-09T11:02:03.034472Z",
     "start_time": "2021-10-09T11:02:03.019115Z"
    }
   },
   "outputs": [
    {
     "name": "stdout",
     "output_type": "stream",
     "text": [
      "黄心雨\n",
      "黄心雨\n",
      "黄心雨\n"
     ]
    }
   ],
   "source": [
    "print(re.sub('[^\\u4E00-\\u9FA5]',\"\",sss))\n",
    "print(re.findall('[\\u4E00-\\u9FA5]+',sss)[0])\n",
    "print(re.findall('[^\\d]+',sss)[0])"
   ]
  },
  {
   "cell_type": "code",
   "execution_count": 130,
   "metadata": {
    "ExecuteTime": {
     "end_time": "2021-10-08T11:49:19.524572Z",
     "start_time": "2021-10-08T11:49:19.511574Z"
    }
   },
   "outputs": [
    {
     "data": {
      "text/plain": [
       "['', 'heuet.']"
      ]
     },
     "execution_count": 130,
     "metadata": {},
     "output_type": "execute_result"
    }
   ],
   "source": [
    "pattern=re.compile('\\w+@(\\w+\\.)?\\w+\\.com')\n",
    "pattern.findall('run88oob 123 google456_%$@  lixiaomei@qq.comhello123@heuet.edu.com')"
   ]
  },
  {
   "cell_type": "markdown",
   "metadata": {
    "ExecuteTime": {
     "end_time": "2021-10-08T11:52:49.670697Z",
     "start_time": "2021-10-08T11:52:49.666698Z"
    }
   },
   "source": [
    "写一个函数验证输入的数字是否满足手机号要求：11位数字，开头是数字1，第二个数字为1,或5或8"
   ]
  },
  {
   "cell_type": "code",
   "execution_count": 22,
   "metadata": {
    "ExecuteTime": {
     "end_time": "2021-10-09T11:26:51.800654Z",
     "start_time": "2021-10-09T11:26:51.789023Z"
    }
   },
   "outputs": [],
   "source": [
    "def phone_number(n):\n",
    "    mob=str(n)\n",
    "    ret=re.match('1[358]\\d{9}',mob)\n",
    "    if ret:\n",
    "        print(mob,'符合手机号码要求')\n",
    "    else:\n",
    "        print('不是手机号码')"
   ]
  },
  {
   "cell_type": "code",
   "execution_count": 26,
   "metadata": {
    "ExecuteTime": {
     "end_time": "2021-10-09T11:27:24.664802Z",
     "start_time": "2021-10-09T11:27:24.653661Z"
    }
   },
   "outputs": [
    {
     "name": "stdout",
     "output_type": "stream",
     "text": [
      "不是手机号码\n"
     ]
    }
   ],
   "source": [
    "n=197252387\n",
    "phone_number(n)"
   ]
  },
  {
   "cell_type": "markdown",
   "metadata": {},
   "source": [
    "# Exception Handling\n",
    "Exceptions are the customary way in Python to indicate to a calling method\n",
    "that an abnormal condition has occurred. When a method encounters an\n",
    "abnormal condition (an exception condition) that it can't handle itself, it\n",
    "may throw an exception. There are a number of built-in exceptions, which\n",
    "indicate conditions like reading past the end of a file, or dividing by zero.\n",
    "You can also define your own exceptions. In Python, exceptions are\n",
    "triggered automatically on errors, and they can be triggered and\n",
    "intercepted by your code.  \n",
    "- try/except : try and catch are used to try a block of code and recover from\n",
    "- exceptions raised by Python, or by you.\n",
    "- Raise: raise triggers an exception manually in your python code.\n",
    "- assert: assert conditionally trigger an exception in your code.\n",
    "- finally: finally perform cleanup actions, whether exceptions occur or not."
   ]
  },
  {
   "cell_type": "markdown",
   "metadata": {},
   "source": [
    "## Raising exceptions\n",
    "If a program attempts to do something erroneous, Python raises exception to such\n",
    "conduct."
   ]
  },
  {
   "cell_type": "code",
   "execution_count": 27,
   "metadata": {
    "ExecuteTime": {
     "end_time": "2021-10-09T11:29:24.325388Z",
     "start_time": "2021-10-09T11:29:24.089306Z"
    }
   },
   "outputs": [
    {
     "ename": "ZeroDivisionError",
     "evalue": "division by zero",
     "output_type": "error",
     "traceback": [
      "\u001b[1;31m---------------------------------------------------------------------------\u001b[0m",
      "\u001b[1;31mZeroDivisionError\u001b[0m                         Traceback (most recent call last)",
      "\u001b[1;32m~\\AppData\\Local\\Temp/ipykernel_14724/3464381735.py\u001b[0m in \u001b[0;36m<module>\u001b[1;34m\u001b[0m\n\u001b[0;32m      1\u001b[0m \u001b[0mx\u001b[0m \u001b[1;33m=\u001b[0m \u001b[1;36m10\u001b[0m\u001b[1;33m\u001b[0m\u001b[1;33m\u001b[0m\u001b[0m\n\u001b[0;32m      2\u001b[0m \u001b[0my\u001b[0m \u001b[1;33m=\u001b[0m\u001b[1;36m0\u001b[0m\u001b[1;33m\u001b[0m\u001b[1;33m\u001b[0m\u001b[0m\n\u001b[1;32m----> 3\u001b[1;33m \u001b[0mresult\u001b[0m \u001b[1;33m=\u001b[0m \u001b[0mx\u001b[0m\u001b[1;33m/\u001b[0m\u001b[0my\u001b[0m \u001b[1;31m#trying to divide by zero\u001b[0m\u001b[1;33m\u001b[0m\u001b[1;33m\u001b[0m\u001b[0m\n\u001b[0m\u001b[0;32m      4\u001b[0m \u001b[0mprint\u001b[0m\u001b[1;33m(\u001b[0m\u001b[0mresult\u001b[0m\u001b[1;33m)\u001b[0m\u001b[1;33m\u001b[0m\u001b[1;33m\u001b[0m\u001b[0m\n",
      "\u001b[1;31mZeroDivisionError\u001b[0m: division by zero"
     ]
    }
   ],
   "source": [
    "x = 10\n",
    "y =0\n",
    "result = x/y #trying to divide by zero\n",
    "print(result)"
   ]
  },
  {
   "cell_type": "code",
   "execution_count": 28,
   "metadata": {
    "ExecuteTime": {
     "end_time": "2021-10-09T11:29:52.707765Z",
     "start_time": "2021-10-09T11:29:52.696107Z"
    }
   },
   "outputs": [
    {
     "name": "stdout",
     "output_type": "stream",
     "text": [
      "You are trying to divide by zero.\n"
     ]
    }
   ],
   "source": [
    "x = 10\n",
    "y =0\n",
    "result =0\n",
    "try:\n",
    "    result = x/y\n",
    "    print(result)\n",
    "except:\n",
    "    print (\"You are trying to divide by zero.\")"
   ]
  },
  {
   "cell_type": "code",
   "execution_count": 245,
   "metadata": {
    "ExecuteTime": {
     "end_time": "2021-03-27T10:14:56.247927Z",
     "start_time": "2021-03-27T10:14:53.437174Z"
    }
   },
   "outputs": [
    {
     "name": "stdout",
     "output_type": "stream",
     "text": [
      "Enter a Negative Number to raise the error:10\n",
      "11\n",
      "The result is 10\n"
     ]
    }
   ],
   "source": [
    "#this example show the propagation of error up the call stack\n",
    "def add(x):\n",
    "    return validate(x) + 1\n",
    "def validate(x):\n",
    "    if x < 0: raise ValueError\n",
    "    else: return x\n",
    "try:\n",
    "    a = int(input(\"Enter a Negative Number to raise the error:\"))\n",
    "    print(add(a))\n",
    "    print(\"The result is %d\" %a)\n",
    "except ValueError:\n",
    "    print(\"You entered an invalid number.\")"
   ]
  },
  {
   "cell_type": "markdown",
   "metadata": {},
   "source": [
    "## User-Defined Exceptions\n",
    "Sometime we need to raise exception as per our specific requirement. This is\n",
    "common to create custom exception class in object oriented programming. In\n",
    "Python we can create our own exception class which inherit from a built-in\n",
    "exception class usually the class named Exception"
   ]
  },
  {
   "cell_type": "code",
   "execution_count": 246,
   "metadata": {
    "ExecuteTime": {
     "end_time": "2021-03-27T10:18:09.404638Z",
     "start_time": "2021-03-27T10:18:09.394674Z"
    }
   },
   "outputs": [
    {
     "name": "stdout",
     "output_type": "stream",
     "text": [
      "Caught:  This is a CustomError!\n"
     ]
    }
   ],
   "source": [
    "class CustomException(Exception):\n",
    "    def __init__(self, value):\n",
    "        self.parameter = value\n",
    "    def __str__(self):\n",
    "        return repr(self.parameter)\n",
    "try:\n",
    "    raise CustomException('This is a CustomError!')\n",
    "except CustomException as ex:\n",
    "    print(\"Caught: \" , ex.parameter)"
   ]
  },
  {
   "cell_type": "markdown",
   "metadata": {},
   "source": [
    "Exception classes can be defined which do anything any other class can do, but are\n",
    "usually kept simple, often only offering a number of attributes that allow\n",
    "information about the error to be extracted by handlers for the exception. When\n",
    "creating a module that can raise several distinct errors, a common practice is to\n",
    "create a base class for exceptions defined by that module, and subclass that to\n",
    "create specific exception classes for different error conditions. We will learn about\n",
    "classes and object in the next chapter."
   ]
  },
  {
   "cell_type": "code",
   "execution_count": 248,
   "metadata": {
    "ExecuteTime": {
     "end_time": "2021-03-27T10:21:58.428656Z",
     "start_time": "2021-03-27T10:21:46.085266Z"
    }
   },
   "outputs": [
    {
     "name": "stdout",
     "output_type": "stream",
     "text": [
      "Enter a number: 7\n",
      "Value is too large, try again!\n",
      "\n",
      "Enter a number: 6\n",
      "Value is too large, try again!\n",
      "\n",
      "Enter a number: 5\n",
      "You have enterred correct number.\n"
     ]
    }
   ],
   "source": [
    "#User-defined exceptions\n",
    "class Error(Exception):\n",
    "    #Base class for other exceptions\n",
    "    pass\n",
    "class ValueTooSmall(Error):\n",
    "    #Raised when the input value is too small\n",
    "    pass\n",
    "class ValueTooLarge(Error):\n",
    "    #Raised when the input value is too large\n",
    "    pass\n",
    "# main program\n",
    "number = 5\n",
    "while True:\n",
    "    try:\n",
    "        i_num = int(input(\"Enter a number: \"))\n",
    "        if i_num < number:\n",
    "            raise ValueTooSmall\n",
    "        elif i_num > number:\n",
    "            raise ValueTooLarge\n",
    "        break\n",
    "    except ValueTooSmall:\n",
    "        print(\"Value is too small, try again!\")\n",
    "        print()\n",
    "    except ValueTooLarge:\n",
    "        print(\"Value is too large, try again!\")\n",
    "        print()\n",
    "print(\"You have enterred correct number.\")"
   ]
  },
  {
   "cell_type": "markdown",
   "metadata": {},
   "source": [
    "### Defining Clean-up Actions"
   ]
  },
  {
   "cell_type": "markdown",
   "metadata": {},
   "source": [
    "The try statement has another optional clause “finally” which is intended to define\n",
    "clean-up actions that must be executed under all circumstances. A finally clause is\n",
    "always executed before leaving the try statement, whether an exception has\n",
    "occurred or not. When an exception has occurred in the try clause and has not\n",
    "been handled by an except clause (or it has occurred in a except or else clause), it\n",
    "is re-raised after the finally clause has been executed. The finally clause is also\n",
    "executed “on the way out” when any other clause of the try statement is left via a\n",
    "break, continue or return statement."
   ]
  },
  {
   "cell_type": "markdown",
   "metadata": {},
   "source": [
    "try:  \n",
    "&emsp;可以触发异常的语法  \n",
    "except 错误类型1 [as 变量1]  \n",
    "&emsp;    异常处理语句1  \n",
    "except 错误类型2 [as 变量2]：  \n",
    "&emsp;    异常处理语句2  \n",
    "except (错误类型3， 错误类型4):  \n",
    "&emsp;    异常处理语句3 \n",
    "...  \n",
    "except：  \n",
    "&emsp;    异常处理语句other  \n",
    "else：\n",
    "&emsp;    未发生异常语句  \n",
    "finally：  \n",
    "&emsp;    最终语句"
   ]
  },
  {
   "cell_type": "markdown",
   "metadata": {},
   "source": [
    "as 子句是用于绑定错误对象的变量，可以省略；except 子句可以有一个或多个，但至少要有一个；else子句最多只能有一个，也可以省略，无异常时执行;finally 子句最多只能有一个，也可以省略,finally的用法，不管try有没有错误，其下的语句块都会执行."
   ]
  },
  {
   "cell_type": "code",
   "execution_count": 250,
   "metadata": {
    "ExecuteTime": {
     "end_time": "2021-03-27T10:48:21.742855Z",
     "start_time": "2021-03-27T10:48:21.734445Z"
    }
   },
   "outputs": [
    {
     "name": "stdout",
     "output_type": "stream",
     "text": [
      "Division by zero!\n",
      "Executing finally clause\n"
     ]
    }
   ],
   "source": [
    "def divide(x, y):\n",
    "    try:\n",
    "        result = x / y\n",
    "    except ZeroDivisionError:\n",
    "        print(\"Division by zero!\")\n",
    "    else:\n",
    "        print(\"result is\", result)\n",
    "    finally:\n",
    "        print(\"Executing finally clause\")\n",
    "divide(2, 0)"
   ]
  },
  {
   "cell_type": "code",
   "execution_count": 251,
   "metadata": {
    "ExecuteTime": {
     "end_time": "2021-03-27T10:54:09.833490Z",
     "start_time": "2021-03-27T10:54:09.824304Z"
    }
   },
   "outputs": [
    {
     "name": "stdout",
     "output_type": "stream",
     "text": [
      "result is 0.6666666666666666\n",
      "Executing finally clause\n"
     ]
    }
   ],
   "source": [
    "divide(2, 3)"
   ]
  },
  {
   "cell_type": "markdown",
   "metadata": {
    "ExecuteTime": {
     "end_time": "2021-03-27T10:56:46.639381Z",
     "start_time": "2021-03-27T10:56:46.627245Z"
    }
   },
   "source": [
    "raise 语句：触发一个错误，让程序进入异常状态，发送错误通知给程序调用者\n",
    "语法：  \n",
    "raise 异常类型\n",
    "或  \n",
    "raise 异常对象\n",
    "或  \n",
    "raise # 重新触发上一次异常"
   ]
  },
  {
   "cell_type": "code",
   "execution_count": 254,
   "metadata": {
    "ExecuteTime": {
     "end_time": "2021-03-27T10:57:44.995904Z",
     "start_time": "2021-03-27T10:57:42.075109Z"
    }
   },
   "outputs": [
    {
     "name": "stdout",
     "output_type": "stream",
     "text": [
      "请输入年龄(1-140):3\n",
      "用户输入的年龄是： 3\n"
     ]
    }
   ],
   "source": [
    "def get_age():\n",
    "    age = int(input('请输入年龄(1-140):'))\n",
    "    if age in range(1, 141):\n",
    "        return age\n",
    "    raise ValueError  # 故意抛出异常\n",
    "try:\n",
    "    age = get_age()\n",
    "    print('用户输入的年龄是：', age)\n",
    "except ValueError as err:  # 接收抛出的异常\n",
    "    print('用户输入的年龄不在1-140之间,获取年龄失败！')"
   ]
  },
  {
   "cell_type": "markdown",
   "metadata": {},
   "source": [
    "assert 语句(断言语句)\n",
    "\n",
    "语法：  \n",
    "assert 真值表达式，错误数据（通常是字符串）\n",
    "\n",
    "作用：当真值表达式为False时，用错误数据创建一个AssertionError类型的错误raise出去，并进入异常状态\n",
    "\n",
    "等同于：\n",
    "\n",
    "if 真值表达式 == False:\n",
    "&emsp;raise AssertionError(错误数据)  \n",
    "assert认为检测的表达式永远为真"
   ]
  },
  {
   "cell_type": "code",
   "execution_count": 1,
   "metadata": {
    "ExecuteTime": {
     "end_time": "2021-09-16T07:09:12.988128Z",
     "start_time": "2021-09-16T07:09:12.827774Z"
    }
   },
   "outputs": [
    {
     "ename": "AssertionError",
     "evalue": "",
     "output_type": "error",
     "traceback": [
      "\u001b[1;31m---------------------------------------------------------------------------\u001b[0m",
      "\u001b[1;31mAssertionError\u001b[0m                            Traceback (most recent call last)",
      "\u001b[1;32m~\\AppData\\Local\\Temp/ipykernel_9420/3727226377.py\u001b[0m in \u001b[0;36m<module>\u001b[1;34m\u001b[0m\n\u001b[1;32m----> 1\u001b[1;33m \u001b[1;32massert\u001b[0m \u001b[1;36m3\u001b[0m \u001b[1;33m==\u001b[0m \u001b[1;36m2\u001b[0m\u001b[1;33m\u001b[0m\u001b[1;33m\u001b[0m\u001b[0m\n\u001b[0m",
      "\u001b[1;31mAssertionError\u001b[0m: "
     ]
    }
   ],
   "source": [
    "assert 3 == 2"
   ]
  },
  {
   "cell_type": "code",
   "execution_count": 31,
   "metadata": {
    "ExecuteTime": {
     "end_time": "2021-10-09T11:31:46.972694Z",
     "start_time": "2021-10-09T11:31:46.953525Z"
    }
   },
   "outputs": [
    {
     "name": "stdout",
     "output_type": "stream",
     "text": [
      "[a = 10] assert a > 0 ok\n"
     ]
    }
   ],
   "source": [
    "#  一、单一表达式\n",
    "a = 8\n",
    "assert a > 0\n",
    "print('[a = 10] assert a > 0', 'ok')"
   ]
  },
  {
   "cell_type": "code",
   "execution_count": 260,
   "metadata": {
    "ExecuteTime": {
     "end_time": "2021-03-27T11:08:01.774015Z",
     "start_time": "2021-03-27T11:08:01.764452Z"
    }
   },
   "outputs": [
    {
     "name": "stdout",
     "output_type": "stream",
     "text": [
      "[a = 10, b = -1] assert a > 0, b < 0 ok\n"
     ]
    }
   ],
   "source": [
    "# 二、多表达式\n",
    "b = -1\n",
    "assert a > 0, b < 0\n",
    "print('[a = 10, b = -1] assert a > 0, b < 0', 'ok')"
   ]
  },
  {
   "cell_type": "code",
   "execution_count": 265,
   "metadata": {
    "ExecuteTime": {
     "end_time": "2021-03-27T11:31:18.355673Z",
     "start_time": "2021-03-27T11:31:18.345695Z"
    }
   },
   "outputs": [
    {
     "name": "stdout",
     "output_type": "stream",
     "text": [
      "[AssertionError]  \n",
      "[traceback]\n"
     ]
    },
    {
     "name": "stderr",
     "output_type": "stream",
     "text": [
      "Traceback (most recent call last):\n",
      "  File \"<ipython-input-265-2ea6b7d7aa3f>\", line 5, in <module>\n",
      "    assert a < 0\n",
      "AssertionError\n"
     ]
    }
   ],
   "source": [
    "# 三、尝试捕获 assert 异常\n",
    "import traceback\n",
    "\n",
    "try:\n",
    "    assert a < 0\n",
    "except AssertionError as ae:    # 明确抛出此异常\n",
    "    # 抛出 AssertionError 不含任何信息，所以无法通过 ae.__str__()获取异常描述\n",
    "    print('[AssertionError]', ae, ae.__str__())\n",
    "\n",
    "    # 通过 traceback 打印详细异常信息\n",
    "    print('[traceback]')\n",
    "    traceback.print_exc()\n",
    "except: # 不会命中\n",
    "    print('assert except')"
   ]
  },
  {
   "cell_type": "code",
   "execution_count": 264,
   "metadata": {
    "ExecuteTime": {
     "end_time": "2021-03-27T11:30:00.474220Z",
     "start_time": "2021-03-27T11:30:00.454276Z"
    }
   },
   "outputs": [
    {
     "name": "stdout",
     "output_type": "stream",
     "text": [
      "[my_div(10, 2)] 5.0\n"
     ]
    },
    {
     "ename": "AssertionError",
     "evalue": "",
     "output_type": "error",
     "traceback": [
      "\u001b[1;31m---------------------------------------------------------------------------\u001b[0m",
      "\u001b[1;31mAssertionError\u001b[0m                            Traceback (most recent call last)",
      "\u001b[1;32m<ipython-input-264-03cf1ca3bceb>\u001b[0m in \u001b[0;36m<module>\u001b[1;34m\u001b[0m\n\u001b[0;32m      5\u001b[0m \u001b[1;33m\u001b[0m\u001b[0m\n\u001b[0;32m      6\u001b[0m \u001b[0mprint\u001b[0m\u001b[1;33m(\u001b[0m\u001b[1;34m'[my_div(10, 2)]'\u001b[0m\u001b[1;33m,\u001b[0m \u001b[0mmy_div\u001b[0m\u001b[1;33m(\u001b[0m\u001b[1;36m10\u001b[0m\u001b[1;33m,\u001b[0m \u001b[1;36m2\u001b[0m\u001b[1;33m)\u001b[0m\u001b[1;33m)\u001b[0m     \u001b[1;31m# 执行成功\u001b[0m\u001b[1;33m\u001b[0m\u001b[1;33m\u001b[0m\u001b[0m\n\u001b[1;32m----> 7\u001b[1;33m \u001b[0mprint\u001b[0m\u001b[1;33m(\u001b[0m\u001b[1;34m'[my_div(10, 0)]'\u001b[0m\u001b[1;33m,\u001b[0m \u001b[0mmy_div\u001b[0m\u001b[1;33m(\u001b[0m\u001b[1;36m10\u001b[0m\u001b[1;33m,\u001b[0m \u001b[1;36m0\u001b[0m\u001b[1;33m)\u001b[0m\u001b[1;33m)\u001b[0m     \u001b[1;31m# 抛出异常\u001b[0m\u001b[1;33m\u001b[0m\u001b[1;33m\u001b[0m\u001b[0m\n\u001b[0m",
      "\u001b[1;32m<ipython-input-264-03cf1ca3bceb>\u001b[0m in \u001b[0;36mmy_div\u001b[1;34m(value, dividend)\u001b[0m\n\u001b[0;32m      1\u001b[0m \u001b[1;31m# 四、示例：函数参数检查\u001b[0m\u001b[1;33m\u001b[0m\u001b[1;33m\u001b[0m\u001b[1;33m\u001b[0m\u001b[0m\n\u001b[0;32m      2\u001b[0m \u001b[1;32mdef\u001b[0m \u001b[0mmy_div\u001b[0m\u001b[1;33m(\u001b[0m\u001b[0mvalue\u001b[0m\u001b[1;33m,\u001b[0m \u001b[0mdividend\u001b[0m\u001b[1;33m)\u001b[0m\u001b[1;33m:\u001b[0m\u001b[1;33m\u001b[0m\u001b[1;33m\u001b[0m\u001b[0m\n\u001b[1;32m----> 3\u001b[1;33m     \u001b[1;32massert\u001b[0m \u001b[0mdividend\u001b[0m \u001b[1;33m!=\u001b[0m \u001b[1;36m0\u001b[0m\u001b[1;33m\u001b[0m\u001b[1;33m\u001b[0m\u001b[0m\n\u001b[0m\u001b[0;32m      4\u001b[0m     \u001b[1;32mreturn\u001b[0m \u001b[0mvalue\u001b[0m \u001b[1;33m/\u001b[0m \u001b[0mdividend\u001b[0m\u001b[1;33m\u001b[0m\u001b[1;33m\u001b[0m\u001b[0m\n\u001b[0;32m      5\u001b[0m \u001b[1;33m\u001b[0m\u001b[0m\n",
      "\u001b[1;31mAssertionError\u001b[0m: "
     ]
    }
   ],
   "source": [
    "# 四、示例：函数参数检查\n",
    "def my_div(value, dividend):\n",
    "    assert dividend != 0\n",
    "    return value / dividend\n",
    "\n",
    "print('[my_div(10, 2)]', my_div(10, 2))     # 执行成功\n",
    "print('[my_div(10, 0)]', my_div(10, 0))     # 抛出异常"
   ]
  },
  {
   "cell_type": "markdown",
   "metadata": {},
   "source": [
    "# Object Oriented Programming\n",
    "Object Oriented Programming (OOP) is an approach to program\n",
    "organization and development that attempts to eliminate some of the\n",
    "pitfalls of conventional programming methods by incorporating the best of\n",
    "structured programming features with several powerful new concepts. It is\n",
    "a new way of organizing and developing programs and has nothing to do\n",
    "with any particular language."
   ]
  },
  {
   "cell_type": "markdown",
   "metadata": {},
   "source": [
    "## Object Oriented Paradigm\n",
    "The major motivating factor in the invention of object-oriented approach is to\n",
    "remove some of the flaws encountered in the procedural approach. OOP treats\n",
    "data as a critical element in the program development and does not allow it to\n",
    "flow freely around the system. It ties data more closely to the function that\n",
    "operate on it, and protects it from accidental modification from outside function.\n",
    "OOP allows decomposition of a problem into a number of entities called objects\n",
    "and then builds data and function around these objects.\n",
    "Some of the features of object oriented programming are:\n",
    "1) Emphasis is on data rather than procedure.  \n",
    "2) Programs are divided into what are known as objects.  \n",
    "3) Data structures are designed such that they characterize the objects.  \n",
    "4) Functions that operate on the data of an object are ties together in the data structure.  \n",
    "5) Data is hidden and cannot be accessed by external function.  \n",
    "6) Objects may communicate with each other through function.  \n",
    "7) New data and functions can be easily added whenever necessary.  \n",
    "8) Follows bottom up approach in program design"
   ]
  },
  {
   "cell_type": "markdown",
   "metadata": {},
   "source": [
    "## Basic Concepts of Object Oriented Programming\n",
    "1) Classes：Classes are the blue-prints / design for objects. The entire set of data and code of an object can be made a user-defined data type with the help of class. In fact, objects are variables of the type class. Once a class has been defined, we can create any number of objects belonging to that class. Each object is associated with the data of type class with which they are created. A class is thus a collection of objects similar types. \n",
    "\n",
    "2) Objects：Objects are the basic run time entities in an object-oriented system. They may represent a person, a place, a bank account, a table of data or any item that the program has to handle. They may also represent user-defined data such as vectors, time and lists. Programming problem is analyzed in term of objects and the nature of communication between them. Program objects should be chosen such that they match closely with the real-world objects.  \n",
    "\n",
    "3) Data abstraction and encapsulation：  \n",
    "The wrapping up of data and function into a single unit (called class) is known as\n",
    "encapsulation（封装、包装）. Data and encapsulation is the most striking feature of a class. The\n",
    "data is not accessible to the outside world, and only those functions which are\n",
    "wrapped in the class can access it. These functions provide the interface between\n",
    "the object’s data and the program. This insulation of the data from direct access\n",
    "by the program is called data hiding or information hiding.\n",
    "\n",
    "4) Inheritance： Inheritance is the process by which objects of one class acquired the properties of\n",
    "objects of another classes. It supports the concept of hierarchical classification. \n",
    "\n",
    "For example, Electric class and the Petrol class is inherited from the Car class and the Car class is\n",
    "inherited from the Vehicle Class and in the same way the Truck Class is inherited\n",
    "from the Vehicle Class. The principal behind this sort of division is that each\n",
    "derived class shares common characteristics with the class from which it is derived.\n",
    "In OOP, the concept of inheritance provides the idea of reusability. This means\n",
    "that we can add additional features to an existing class without modifying it. This\n",
    "is possible by deriving a new class from the existing one. The new class will have\n",
    "the combined feature of both the classes. The real appeal and power of the\n",
    "inheritance mechanism is that it allows the programmer to reuse a class i.e.,\n",
    "almost, but not exactly, what he wants, and to tailor the class in such a way that it\n",
    "does not introduced any undesirable side-effects into the rest of classes.\n",
    "\n",
    "5) Polymorphism (多态性）：Polymorphism, a Greek term,\n",
    "means the ability to take more than on form. An operation may exhibit different\n",
    "behavior is different instances. The behavior depends upon the types of data used\n",
    "in the operation. For example, we have a base class Shape and it has a draw\n",
    "method. Think that the shape class is like a window (i.e., your PC window). In\n",
    "windows we have Circle, Triangle, Box and many other forms of window. The base\n",
    "class Shape has a draw method which draws a Window, Circle is a derived class\n",
    "and it has implemented an overridden draw method which draw a Circle and So\n",
    "on.\n",
    "\n",
    "6) Dynamic binding"
   ]
  },
  {
   "cell_type": "markdown",
   "metadata": {},
   "source": [
    "## Classes and objects"
   ]
  },
  {
   "cell_type": "markdown",
   "metadata": {},
   "source": [
    "类(Class)与对象(Object)\n",
    "\n",
    "\n",
    "类(Class)是用来描述具有相同属性(Attribute)和方法(Method)对象的集合。对象(Object)是类(Class)的具体实例。比如学生都有名字和分数，他们有着共同的属性。这时我们就可以设计一个学生类, 用于记录学生的名字和分数，并自定义方法打印出他们的名字和方法。\n",
    "\n",
    "\n",
    "属性(Attribute): 类里面用于描述所有对象共同特征的变量或数据。比如学生的名字和分数。\n",
    "\n",
    "方法(Method): 类里面的函数，用来区别类外面的函数, 用来实现某些功能。比如打印出学生的名字和分数。"
   ]
  },
  {
   "cell_type": "markdown",
   "metadata": {},
   "source": [
    "### Creating Classes\n",
    "The class statement creates a new class definition. The name of the class\n",
    "immediately follows the keyword class followed by superclass object within a\n",
    "parenthesis and followed by a colon."
   ]
  },
  {
   "cell_type": "markdown",
   "metadata": {
    "ExecuteTime": {
     "end_time": "2021-03-27T12:09:27.695605Z",
     "start_time": "2021-03-27T12:09:27.687628Z"
    }
   },
   "source": [
    "class ClassName(object):  \n",
    "&emsp;'Optional class documentation string'  \n",
    "&emsp;'constructors, destructor, member variables also known as fields and methods"
   ]
  },
  {
   "cell_type": "code",
   "execution_count": 32,
   "metadata": {
    "ExecuteTime": {
     "end_time": "2021-10-09T11:39:09.470707Z",
     "start_time": "2021-10-09T11:39:09.451245Z"
    }
   },
   "outputs": [],
   "source": [
    "class Vehicle(object):\n",
    "    #constructor\n",
    "    def __init__(self, steering, wheels, clutch, breaks, gears):\n",
    "        self.__steering = steering\n",
    "        self.__wheels = wheels\n",
    "        self.__clutch = clutch\n",
    "        self.__breaks = breaks\n",
    "        self.__gears = gears\n",
    "    #destructor\n",
    "    def __del__(self):\n",
    "        print (\"This is destructor....\")\n",
    "    #member functions or methods\n",
    "    def Display_Vehicle(self):\n",
    "        print('Steering: ' , self.__steering)\n",
    "        print('Wheels: ', self.__wheels)\n",
    "        print('Clutch: ', self.__clutch)\n",
    "        print('Breaks: ', self.__breaks)\n",
    "        print('Gears: ', self.__gears)"
   ]
  },
  {
   "cell_type": "code",
   "execution_count": 33,
   "metadata": {
    "ExecuteTime": {
     "end_time": "2021-10-09T11:40:15.982221Z",
     "start_time": "2021-10-09T11:40:15.970292Z"
    }
   },
   "outputs": [
    {
     "name": "stdout",
     "output_type": "stream",
     "text": [
      "Steering:  Power Steering\n",
      "Wheels:  4\n",
      "Clutch:  Super Clutch\n",
      "Breaks:  Disk Breaks\n",
      "Gears:  5\n"
     ]
    }
   ],
   "source": [
    "#instantiate a vehicle object\n",
    "myGenericVehicle = Vehicle('Power Steering', 4, 'Super Clutch', 'Disk Breaks', 5)\n",
    "myGenericVehicle.Display_Vehicle()"
   ]
  },
  {
   "cell_type": "code",
   "execution_count": null,
   "metadata": {},
   "outputs": [],
   "source": [
    "L=[1,2,3]\n",
    "L.append()"
   ]
  },
  {
   "cell_type": "markdown",
   "metadata": {},
   "source": [
    "### Special Class Attributes in Python\n",
    "* \\_\\_dict__ :Dict variable of class name space\n",
    "* \\_\\_doc__ :Document reference string of class\n",
    "* \\_\\_module__ Module name consisting of class"
   ]
  },
  {
   "cell_type": "code",
   "execution_count": 35,
   "metadata": {
    "ExecuteTime": {
     "end_time": "2021-10-09T11:45:55.324209Z",
     "start_time": "2021-10-09T11:45:55.305066Z"
    }
   },
   "outputs": [
    {
     "name": "stdout",
     "output_type": "stream",
     "text": [
      "I am a Cat Object, My Name is  Frisky\n",
      "My age is  10\n",
      "My weight is 0\n",
      "Meow!\n"
     ]
    }
   ],
   "source": [
    "class Cat(object):\n",
    "    '''This a an example of cat calss'''\n",
    "    itsWeight=0\n",
    "    itsAge=0\n",
    "    itsName=\"\"\n",
    "    def Meow(self):\n",
    "        print(\"Meow!\")\n",
    "    def DisplayCat(self):\n",
    "        print(\"I am a Cat Object, My Name is \", self.itsName)\n",
    "        print(\"My age is \", self.itsAge)\n",
    "        print(\"My weight is\", self.itsWeight)\n",
    "frisky = Cat()\n",
    "frisky.itsAge=10\n",
    "frisky.itsName=\"Frisky\"\n",
    "frisky.DisplayCat()\n",
    "frisky.Meow()"
   ]
  },
  {
   "cell_type": "code",
   "execution_count": 37,
   "metadata": {
    "ExecuteTime": {
     "end_time": "2021-10-09T11:46:52.943605Z",
     "start_time": "2021-10-09T11:46:52.923894Z"
    }
   },
   "outputs": [
    {
     "name": "stdout",
     "output_type": "stream",
     "text": [
      "{'itsAge': 10, 'itsName': 'Frisky'}\n",
      "This a an example of cat calss\n",
      "__main__\n"
     ]
    }
   ],
   "source": [
    "print(frisky.__dict__)\n",
    "print(frisky.__doc__)\n",
    "print(frisky.__module__)"
   ]
  },
  {
   "cell_type": "markdown",
   "metadata": {},
   "source": [
    "### Accessing Class Members"
   ]
  },
  {
   "cell_type": "code",
   "execution_count": null,
   "metadata": {},
   "outputs": [],
   "source": [
    "   def __init__(self,itsAge,itsWeight,itsName):\n",
    "        self.itsAge = itsAge\n",
    "        self.itsWeight = itsWeight\n",
    "        self.itsName = itsName"
   ]
  },
  {
   "cell_type": "code",
   "execution_count": 43,
   "metadata": {
    "ExecuteTime": {
     "end_time": "2021-10-09T11:52:07.954179Z",
     "start_time": "2021-10-09T11:52:07.942108Z"
    }
   },
   "outputs": [],
   "source": [
    "class Cat(object):\n",
    "    itsAge=None\n",
    "    itsWeight=None\n",
    "    itsName=None\n",
    "    #set accessor function use to assign values to the fields or member vars\n",
    "\n",
    "    def setItsAge(self, itsAge):\n",
    "        self.itsAge = itsAge\n",
    "    def setItsWeight(self, itsWeight):\n",
    "        self.itsWeight = itsWeight\n",
    "    def setItsName(self, itsName):\n",
    "        self.itsName = itsName\n",
    "    #get accessor function use to return the values from a field\n",
    "    def getItsAge(self):\n",
    "        return self.itsAge\n",
    "    def getItsWeight(self):\n",
    "        return self.itsWeight\n",
    "    def getItsName(self):\n",
    "        return self.itsName"
   ]
  },
  {
   "cell_type": "code",
   "execution_count": 44,
   "metadata": {
    "ExecuteTime": {
     "end_time": "2021-10-09T11:52:10.494718Z",
     "start_time": "2021-10-09T11:52:10.475600Z"
    }
   },
   "outputs": [
    {
     "name": "stdout",
     "output_type": "stream",
     "text": [
      "Cats Name is:  Frsiky\n",
      "Its age is : 5\n",
      "Its weight is : Frsiky\n"
     ]
    }
   ],
   "source": [
    "objFrisky = Cat()\n",
    "objFrisky.setItsAge(5)\n",
    "objFrisky.setItsWeight(10)\n",
    "objFrisky.setItsName(\"Frsiky\")\n",
    "print(\"Cats Name is: \",objFrisky.getItsName())\n",
    "print(\"Its age is :\", objFrisky.getItsAge())\n",
    "print(\"Its weight is :\", objFrisky.getItsName())"
   ]
  },
  {
   "cell_type": "markdown",
   "metadata": {},
   "source": [
    "### Private member variable example"
   ]
  },
  {
   "cell_type": "code",
   "execution_count": 278,
   "metadata": {
    "ExecuteTime": {
     "end_time": "2021-03-27T12:34:39.197259Z",
     "start_time": "2021-03-27T12:34:39.172364Z"
    }
   },
   "outputs": [
    {
     "name": "stdout",
     "output_type": "stream",
     "text": [
      "Cats Name is:  Frsiky\n",
      "Its age is : 5\n",
      "Its weight is : Frsiky\n"
     ]
    },
    {
     "ename": "TypeError",
     "evalue": "'int' object is not callable",
     "output_type": "error",
     "traceback": [
      "\u001b[1;31m---------------------------------------------------------------------------\u001b[0m",
      "\u001b[1;31mTypeError\u001b[0m                                 Traceback (most recent call last)",
      "\u001b[1;32m<ipython-input-278-0ee7a7567cd5>\u001b[0m in \u001b[0;36m<module>\u001b[1;34m\u001b[0m\n\u001b[0;32m     27\u001b[0m \u001b[1;31m#Now let's prove if we could access the private variable\u001b[0m\u001b[1;33m\u001b[0m\u001b[1;33m\u001b[0m\u001b[1;33m\u001b[0m\u001b[0m\n\u001b[0;32m     28\u001b[0m \u001b[1;31m#directly from objFrisky as we did in the 2nd example\u001b[0m\u001b[1;33m\u001b[0m\u001b[1;33m\u001b[0m\u001b[1;33m\u001b[0m\u001b[0m\n\u001b[1;32m---> 29\u001b[1;33m \u001b[0mobjFrisky\u001b[0m\u001b[1;33m.\u001b[0m\u001b[0mitsAge\u001b[0m\u001b[1;33m(\u001b[0m\u001b[1;36m100\u001b[0m\u001b[1;33m)\u001b[0m\u001b[1;33m\u001b[0m\u001b[1;33m\u001b[0m\u001b[0m\n\u001b[0m",
      "\u001b[1;31mTypeError\u001b[0m: 'int' object is not callable"
     ]
    }
   ],
   "source": [
    "class Cat(object):\n",
    "    # we made all member variable private by adding a __ prefix\n",
    "    __itsAge=None\n",
    "    __itsWeight=None\n",
    "    __itsName=None\n",
    "    #set accessor function use to assign values to the fields or member vars\n",
    "    def setItsAge(self, itsAge):\n",
    "        self.itsAge = itsAge\n",
    "    def setItsWeight(self, itsWeight):\n",
    "        self.itsWeight = itsWeight\n",
    "    def setItsName(self, itsName):\n",
    "        self.itsName = itsName\n",
    "    #get accessor function use to return the values from a field\n",
    "    def getItsAge(self):\n",
    "        return self.itsAge\n",
    "    def getItsWeight(self):\n",
    "        return self.itsWeight\n",
    "    def getItsName(self):\n",
    "        return self.itsName\n",
    "objFrisky = Cat()\n",
    "objFrisky.setItsAge(5)\n",
    "objFrisky.setItsWeight(10)\n",
    "objFrisky.setItsName(\"Frsiky\")\n",
    "print(\"Cats Name is: \",objFrisky.getItsName())\n",
    "print(\"Its age is :\", objFrisky.getItsAge())\n",
    "print(\"Its weight is :\", objFrisky.getItsName())\n",
    "#Now let's prove if we could access the private variable\n",
    "#directly from objFrisky as we did in the 2nd example\n",
    "objFrisky.itsAge(100)"
   ]
  },
  {
   "cell_type": "markdown",
   "metadata": {},
   "source": [
    "There was an error message popped up in the above example. Python is now\n",
    "complaining that int object is not callable. Since we marked the member variable\n",
    "as private we cannot access it from outside.if we prefix with a\n",
    "single underscore (_) or (__) underscore we could able to make to member\n",
    "variables protected or private."
   ]
  },
  {
   "cell_type": "code",
   "execution_count": 280,
   "metadata": {
    "ExecuteTime": {
     "end_time": "2021-03-27T12:45:40.411170Z",
     "start_time": "2021-03-27T12:45:40.401200Z"
    }
   },
   "outputs": [
    {
     "name": "stdout",
     "output_type": "stream",
     "text": [
      "Number of Legs : 2\n",
      "Sex = M\n",
      "Well, I have modified the number of legs to 1, think this Human have only 1 leg!\n",
      "Number of Legs : 1\n",
      "Sex = M\n"
     ]
    }
   ],
   "source": [
    "class Animal(object):\n",
    "    def __init__(self, _noOfLegs):\n",
    "        self._noOfLegs = _noOfLegs\n",
    "    def DisplayAnimal(self):\n",
    "        print(\"Number of Legs :\", self._noOfLegs)\n",
    "class Human(Animal):\n",
    "    def __init__(self, _noOfLegs, _sex):\n",
    "        Animal.__init__(self, _noOfLegs)\n",
    "        self._sex = _sex\n",
    "    def DisplayHuman(self):\n",
    "        self.DisplayAnimal()\n",
    "        print(\"Sex =\", self._sex)\n",
    "#instantiate human\n",
    "objHuman = Human(2, 'M')\n",
    "objHuman.DisplayHuman()\n",
    "#try to set the value of the parent class member var, we can do that\n",
    "#because Human class inherits all the protected member variables\n",
    "objHuman._noOfLegs = 1\n",
    "print(\"Well, I have modified the number of legs to 1, think this Human have only 1 leg!\")\n",
    "objHuman.DisplayHuman()"
   ]
  },
  {
   "cell_type": "code",
   "execution_count": 285,
   "metadata": {
    "ExecuteTime": {
     "end_time": "2021-03-28T01:15:01.855475Z",
     "start_time": "2021-03-28T01:15:01.844505Z"
    }
   },
   "outputs": [
    {
     "name": "stdout",
     "output_type": "stream",
     "text": [
      "Number of Legs : 2\n",
      "Sex = M\n",
      "Well, I have modified the number of legs to 1, think this Human have only 1 leg!\n",
      "Number of Legs : 2\n",
      "Sex = M\n"
     ]
    }
   ],
   "source": [
    "class Animal(object):\n",
    "    def __init__(self, __noOfLegs):\n",
    "        self.__noOfLegs = __noOfLegs\n",
    "    def DisplayAnimal(self):\n",
    "        print(\"Number of Legs :\", self.__noOfLegs)\n",
    "class Human(Animal):\n",
    "    def __init__(self, __noOfLegs, __sex):\n",
    "        Animal.__init__(self, __noOfLegs)\n",
    "        self.__sex = __sex\n",
    "    def DisplayHuman(self):\n",
    "        self.DisplayAnimal()\n",
    "        print(\"Sex =\", self.__sex)\n",
    "#instantiate human\n",
    "objHuman = Human(2, 'M')\n",
    "objHuman.DisplayHuman()\n",
    "#try to set the value of the parent class member var, we can do that\n",
    "#because Human class inherits all the protected member variables\n",
    "objHuman.__noOfLegs=1\n",
    "print(\"Well, I have modified the number of legs to 1, think this Human have only 1 leg!\")\n",
    "objHuman.DisplayHuman()"
   ]
  },
  {
   "cell_type": "markdown",
   "metadata": {
    "ExecuteTime": {
     "end_time": "2021-03-28T01:10:04.313252Z",
     "start_time": "2021-03-28T01:10:04.306308Z"
    }
   },
   "source": [
    "Actually we could use a _ single underscore or a\n",
    "__ double underscore to make things private. There is no protected concept in\n",
    "Python. Python takes care by name mangling"
   ]
  },
  {
   "cell_type": "code",
   "execution_count": 319,
   "metadata": {
    "ExecuteTime": {
     "end_time": "2021-03-28T02:41:37.199192Z",
     "start_time": "2021-03-28T02:41:37.189219Z"
    }
   },
   "outputs": [
    {
     "name": "stdout",
     "output_type": "stream",
     "text": [
      "hello is running\n",
      "Hello!sztu\n"
     ]
    }
   ],
   "source": [
    "from functools import wraps\n",
    "def hint(func):\n",
    "    @wraps(func)\n",
    "    def wrapper(*args, **kwargs):\n",
    "        print('{} is running'.format(func.__name__))\n",
    "        return func(*args, **kwargs)\n",
    "    return wrapper\n",
    "\n",
    "@hint\n",
    "def hello(name):\n",
    "    print(\"Hello!\"+name)\n",
    "hello('sztu')"
   ]
  },
  {
   "cell_type": "code",
   "execution_count": 321,
   "metadata": {
    "ExecuteTime": {
     "end_time": "2021-03-28T02:42:55.514542Z",
     "start_time": "2021-03-28T02:42:55.509555Z"
    }
   },
   "outputs": [],
   "source": [
    "from decorator import decorator"
   ]
  },
  {
   "cell_type": "code",
   "execution_count": 323,
   "metadata": {
    "ExecuteTime": {
     "end_time": "2021-03-28T02:46:15.323934Z",
     "start_time": "2021-03-28T02:46:15.313962Z"
    }
   },
   "outputs": [
    {
     "name": "stdout",
     "output_type": "stream",
     "text": [
      "hello is running\n",
      "Hello!sztu\n"
     ]
    }
   ],
   "source": [
    "@decorator\n",
    "def hint(func,*args,**kwargs):\n",
    "    print(f'{func.__name__} is running')\n",
    "    return func(*args,**kwargs)\n",
    "@hint\n",
    "def hello(name):\n",
    "    print(\"Hello!\"+name)\n",
    "hello('sztu')"
   ]
  },
  {
   "cell_type": "code",
   "execution_count": 331,
   "metadata": {
    "ExecuteTime": {
     "end_time": "2021-03-28T09:14:12.599090Z",
     "start_time": "2021-03-28T09:14:12.579142Z"
    }
   },
   "outputs": [
    {
     "data": {
      "text/plain": [
       "(1, (2, 3), {'x': 2})"
      ]
     },
     "execution_count": 331,
     "metadata": {},
     "output_type": "execute_result"
    }
   ],
   "source": [
    "def f(a,*args,**kwargs):\n",
    "    return (a,args,kwargs)\n",
    "f(1,2,3,x=2)"
   ]
  },
  {
   "cell_type": "markdown",
   "metadata": {},
   "source": [
    "类变量(class variables)与实例变量（instance variables）\n",
    "\n",
    "\n",
    "\n",
    "假设我们需要在Student类里增加一个计数器number，每当一个新的学生对象(Object)被创建时，这个计数器就自动加1。由于这个计数器不属于某个具体学生，而属于Student类的，所以被称为类变量(class variables)。而姓名和分数属于每个学生对象的，所以属于实例变量(instance variables)，也被称为对象变量(object variables)。"
   ]
  },
  {
   "cell_type": "markdown",
   "metadata": {},
   "source": [
    "类方法(Class method)\n",
    "\n",
    "正如同有些变量只属于类，有些方法也只属于类，不属于具体的对象。你有没有注意到属于对象的方法里面都有一个self参数, 比如__init__(self), show(self)? self是指对象本身。属于类的方法不使用self参数， 而使用参数cls，代表类本身。另外习惯上对类方法我们会加上@classmethod的修饰符做说明。"
   ]
  },
  {
   "cell_type": "code",
   "execution_count": 346,
   "metadata": {
    "ExecuteTime": {
     "end_time": "2021-03-28T09:36:30.819537Z",
     "start_time": "2021-03-28T09:36:30.812556Z"
    }
   },
   "outputs": [],
   "source": [
    "class Student:\n",
    "    num=0\n",
    "    def __init__(self,name,score):\n",
    "        self.name=name\n",
    "        self.score=score\n",
    "        Student.num+=1\n",
    "    def show(self):\n",
    "        print(f'Name:{self.name},Score:{self.score}')\n",
    "    @classmethod\n",
    "    def total(cls):\n",
    "        print(f'Total:{cls.num}')"
   ]
  },
  {
   "cell_type": "code",
   "execution_count": 347,
   "metadata": {
    "ExecuteTime": {
     "end_time": "2021-03-28T09:36:32.796969Z",
     "start_time": "2021-03-28T09:36:32.792979Z"
    }
   },
   "outputs": [],
   "source": [
    "ss1=Student('Jerry',90)\n",
    "ss2=Student('Jason',90)"
   ]
  },
  {
   "cell_type": "code",
   "execution_count": 351,
   "metadata": {
    "ExecuteTime": {
     "end_time": "2021-03-28T09:37:10.374435Z",
     "start_time": "2021-03-28T09:37:10.368454Z"
    }
   },
   "outputs": [
    {
     "name": "stdout",
     "output_type": "stream",
     "text": [
      "Total:2\n"
     ]
    }
   ],
   "source": [
    "Student.total()"
   ]
  },
  {
   "cell_type": "markdown",
   "metadata": {},
   "source": [
    "类变量：类变量在整个实例化的对象中是公用的。类变量定义在类中且在函数体之外。访问或调用类变量的正确方式是类名.变量名或者self.__class__.变量名。self.__class__自动返回每个对象的类名。\n",
    "\n",
    "实例变量：定义在方法中的变量，属于某个具体的对象。访问或调用实例变量的正确方式是对象名.变量名或者self.变量名."
   ]
  },
  {
   "cell_type": "code",
   "execution_count": 352,
   "metadata": {
    "ExecuteTime": {
     "end_time": "2021-03-28T09:38:02.310854Z",
     "start_time": "2021-03-28T09:38:02.290908Z"
    }
   },
   "outputs": [
    {
     "name": "stdout",
     "output_type": "stream",
     "text": [
      "Name: John. Score: 100\n"
     ]
    },
    {
     "ename": "AttributeError",
     "evalue": "'Student' object has no attribute '__score'",
     "output_type": "error",
     "traceback": [
      "\u001b[1;31m---------------------------------------------------------------------------\u001b[0m",
      "\u001b[1;31mAttributeError\u001b[0m                            Traceback (most recent call last)",
      "\u001b[1;32m<ipython-input-352-84635800f775>\u001b[0m in \u001b[0;36m<module>\u001b[1;34m\u001b[0m\n\u001b[0;32m     15\u001b[0m \u001b[1;33m\u001b[0m\u001b[0m\n\u001b[0;32m     16\u001b[0m \u001b[0mstudent1\u001b[0m\u001b[1;33m.\u001b[0m\u001b[0mshow\u001b[0m\u001b[1;33m(\u001b[0m\u001b[1;33m)\u001b[0m  \u001b[1;31m# 打印 Name: John, Score: 100\u001b[0m\u001b[1;33m\u001b[0m\u001b[1;33m\u001b[0m\u001b[0m\n\u001b[1;32m---> 17\u001b[1;33m \u001b[0mstudent1\u001b[0m\u001b[1;33m.\u001b[0m\u001b[0m__score\u001b[0m  \u001b[1;31m# 打印出错，该属性不能从外部访问。\u001b[0m\u001b[1;33m\u001b[0m\u001b[1;33m\u001b[0m\u001b[0m\n\u001b[0m",
      "\u001b[1;31mAttributeError\u001b[0m: 'Student' object has no attribute '__score'"
     ]
    }
   ],
   "source": [
    "class Student:\n",
    "\n",
    "    # 定义学生属性，初始化方法\n",
    "    # name和score属于实例变量, 其中__score属于私有变量\n",
    "    def __init__(self, name, score):\n",
    "        self.name = name\n",
    "        self.__score = score\n",
    "\n",
    "    # 定义打印学生信息的方法\n",
    "    @property\n",
    "    def score(self):\n",
    "        \n",
    "    def show(self):\n",
    "        print(\"Name: {}. Score: {}\".format(self.name, self.__score))\n",
    "\n",
    "# 实例化，创建对象\n",
    "student1 = Student(\"John\", 100)\n",
    "\n",
    "student1.show()  # 打印 Name: John, Score: 100\n",
    "student1.__score  # 打印出错，该属性不能从外部访问。"
   ]
  },
  {
   "cell_type": "markdown",
   "metadata": {},
   "source": [
    "@property的用法\n",
    "\n",
    "一旦给函数加上一个装饰器@property,调用函数的时候不用加括号就可以直接调用函数了 "
   ]
  },
  {
   "cell_type": "markdown",
   "metadata": {},
   "source": [
    "# Python使用技巧"
   ]
  },
  {
   "cell_type": "markdown",
   "metadata": {},
   "source": [
    "## 快速实现字频统计"
   ]
  },
  {
   "cell_type": "code",
   "execution_count": 43,
   "metadata": {
    "ExecuteTime": {
     "end_time": "2021-09-23T12:10:13.146562Z",
     "start_time": "2021-09-23T12:10:13.135353Z"
    }
   },
   "outputs": [
    {
     "data": {
      "text/plain": [
       "{'a', 'd', 'h', 'k', 's'}"
      ]
     },
     "execution_count": 43,
     "metadata": {},
     "output_type": "execute_result"
    }
   ],
   "source": [
    "s='sdddskhashkhdkassssa'\n",
    "l=set(s)\n",
    "l"
   ]
  },
  {
   "cell_type": "code",
   "execution_count": 46,
   "metadata": {
    "ExecuteTime": {
     "end_time": "2021-09-23T12:10:54.155583Z",
     "start_time": "2021-09-23T12:10:54.150581Z"
    }
   },
   "outputs": [
    {
     "name": "stdout",
     "output_type": "stream",
     "text": [
      "k 3\n",
      "s 7\n",
      "a 3\n",
      "h 3\n",
      "d 4\n"
     ]
    }
   ],
   "source": [
    "for i in l:\n",
    "    print(i,s.count(i))"
   ]
  },
  {
   "cell_type": "code",
   "execution_count": 80,
   "metadata": {
    "ExecuteTime": {
     "end_time": "2021-03-29T12:03:09.235748Z",
     "start_time": "2021-03-29T12:03:09.224635Z"
    }
   },
   "outputs": [
    {
     "data": {
      "text/plain": [
       "{'我': 3,\n",
       " '明': 2,\n",
       " '白': 2,\n",
       " '你': 4,\n",
       " '的': 4,\n",
       " '意': 8,\n",
       " '思': 8,\n",
       " '，': 3,\n",
       " '就': 1,\n",
       " '是': 3,\n",
       " '想': 1,\n",
       " '但': 1,\n",
       " '不': 2,\n",
       " '用': 1,\n",
       " '。': 1}"
      ]
     },
     "execution_count": 80,
     "metadata": {},
     "output_type": "execute_result"
    }
   ],
   "source": [
    "d={}\n",
    "for w in words:\n",
    "    d[w]=words.count(w)\n",
    "d"
   ]
  },
  {
   "cell_type": "code",
   "execution_count": 75,
   "metadata": {
    "ExecuteTime": {
     "end_time": "2021-03-29T11:56:21.594858Z",
     "start_time": "2021-03-29T11:56:21.579382Z"
    }
   },
   "outputs": [
    {
     "name": "stdout",
     "output_type": "stream",
     "text": [
      "[('意', 8), ('思', 8), ('你', 4)]\n"
     ]
    }
   ],
   "source": [
    "from collections import Counter\n",
    "\n",
    "words = '''我明白你的意思，你的意思就是想意思意思，但是你不明白我的意思，我的意思是你不用意思意思。'''\n",
    "word_counts = Counter(words) \n",
    "top_three = word_counts.most_common(3) \n",
    "print(top_three) "
   ]
  },
  {
   "cell_type": "markdown",
   "metadata": {},
   "source": [
    "## 汉字转拼音"
   ]
  },
  {
   "cell_type": "code",
   "execution_count": 368,
   "metadata": {
    "ExecuteTime": {
     "end_time": "2021-03-28T14:11:08.640272Z",
     "start_time": "2021-03-28T14:11:07.850072Z"
    }
   },
   "outputs": [
    {
     "data": {
      "text/plain": [
       "[['chuáng'], ['qián'], ['míng'], ['yuè'], ['guāng']]"
      ]
     },
     "execution_count": 368,
     "metadata": {},
     "output_type": "execute_result"
    }
   ],
   "source": [
    "import pypinyin\n",
    "words = \"床前明月光\"\n",
    "pypinyin.pinyin(words)\n",
    "\n",
    "# 输出：[['chuáng'], ['qián'], ['míng'], ['yuè'], ['guāng']]"
   ]
  },
  {
   "cell_type": "markdown",
   "metadata": {},
   "source": [
    "## 查看某个文件夹里是否有python文件（或其他格式文件）"
   ]
  },
  {
   "cell_type": "code",
   "execution_count": 367,
   "metadata": {
    "ExecuteTime": {
     "end_time": "2021-03-28T14:10:45.808278Z",
     "start_time": "2021-03-28T14:10:45.798269Z"
    }
   },
   "outputs": [
    {
     "name": "stdout",
     "output_type": "stream",
     "text": [
      "1\n"
     ]
    }
   ],
   "source": [
    "import os \n",
    "files = os.listdir(\"c:\\\\zjy\\\\db_stock\") \n",
    "if any(name.endswith('.py') for name in files):\n",
    "    print(1)"
   ]
  },
  {
   "cell_type": "markdown",
   "metadata": {},
   "source": [
    "## 快速打印字符串"
   ]
  },
  {
   "cell_type": "code",
   "execution_count": 371,
   "metadata": {
    "ExecuteTime": {
     "end_time": "2021-03-28T14:11:40.369604Z",
     "start_time": "2021-03-28T14:11:40.364620Z"
    }
   },
   "outputs": [
    {
     "name": "stdout",
     "output_type": "stream",
     "text": [
      "我爱python\n"
     ]
    }
   ],
   "source": [
    "row = [\"我\", \"爱\", \"python\"] \n",
    "print(*row,sep=\"\")"
   ]
  },
  {
   "cell_type": "markdown",
   "metadata": {},
   "source": [
    "## 计算两个日期间隔天数"
   ]
  },
  {
   "cell_type": "code",
   "execution_count": 374,
   "metadata": {
    "ExecuteTime": {
     "end_time": "2021-03-28T14:12:55.256033Z",
     "start_time": "2021-03-28T14:12:55.246061Z"
    }
   },
   "outputs": [
    {
     "data": {
      "text/plain": [
       "31"
      ]
     },
     "execution_count": 374,
     "metadata": {},
     "output_type": "execute_result"
    }
   ],
   "source": [
    "from datetime import date\n",
    "d1=date(2021,2,25)\n",
    "d2=date(2021,3,28)\n",
    "(d2-d1).days"
   ]
  },
  {
   "cell_type": "markdown",
   "metadata": {},
   "source": [
    "## 字符串拆解为键值对"
   ]
  },
  {
   "cell_type": "code",
   "execution_count": 375,
   "metadata": {
    "ExecuteTime": {
     "end_time": "2021-03-28T14:13:21.744415Z",
     "start_time": "2021-03-28T14:13:21.735439Z"
    }
   },
   "outputs": [
    {
     "data": {
      "text/plain": [
       "{'x': 11.0, 'y': 20.0}"
      ]
     },
     "execution_count": 375,
     "metadata": {},
     "output_type": "execute_result"
    }
   ],
   "source": [
    "kvp = lambda elem,t,i: t(elem.split('=')[i]) \n",
    "parse_kvp_str = lambda args : dict([(kvp(elem,str,0), kvp(elem,float,1)) for elem in args.split(',')]) \n",
    "parse_kvp_str('x=11,y=20') "
   ]
  },
  {
   "cell_type": "markdown",
   "metadata": {},
   "source": [
    "## 变量值交换"
   ]
  },
  {
   "cell_type": "code",
   "execution_count": 82,
   "metadata": {
    "ExecuteTime": {
     "end_time": "2021-03-29T12:08:38.806914Z",
     "start_time": "2021-03-29T12:08:38.791224Z"
    }
   },
   "outputs": [
    {
     "data": {
      "text/plain": [
       "[1, 1, 2, 3, 5, 8, 13, 21, 34]"
      ]
     },
     "execution_count": 82,
     "metadata": {},
     "output_type": "execute_result"
    }
   ],
   "source": [
    "def feb(n):\n",
    "    if n<=2:\n",
    "        return 1\n",
    "    else:\n",
    "        return feb(n-1)+feb(n-2)\n",
    "[feb(i) for i in range(1,10)]"
   ]
  },
  {
   "cell_type": "code",
   "execution_count": 376,
   "metadata": {
    "ExecuteTime": {
     "end_time": "2021-03-28T14:13:49.113108Z",
     "start_time": "2021-03-28T14:13:49.106127Z"
    }
   },
   "outputs": [
    {
     "name": "stdout",
     "output_type": "stream",
     "text": [
      "5 10\n"
     ]
    }
   ],
   "source": [
    "a = 10\n",
    "b = 5\n",
    "a, b = b, a\n",
    "print(a,b)"
   ]
  },
  {
   "cell_type": "markdown",
   "metadata": {},
   "source": [
    "## 将值追加到字典某个键下的列表中"
   ]
  },
  {
   "cell_type": "code",
   "execution_count": 377,
   "metadata": {
    "ExecuteTime": {
     "end_time": "2021-03-28T14:14:14.329265Z",
     "start_time": "2021-03-28T14:14:14.321286Z"
    }
   },
   "outputs": [
    {
     "data": {
      "text/plain": [
       "[23, 11]"
      ]
     },
     "execution_count": 377,
     "metadata": {},
     "output_type": "execute_result"
    }
   ],
   "source": [
    "d = {} \n",
    "d.setdefault(2, []).append(23) \n",
    "d.setdefault(2, []).append(11) \n",
    "d[2] "
   ]
  },
  {
   "cell_type": "markdown",
   "metadata": {},
   "source": [
    "## 返回列表中出现次数最多的元素"
   ]
  },
  {
   "cell_type": "code",
   "execution_count": 378,
   "metadata": {
    "ExecuteTime": {
     "end_time": "2021-03-28T14:15:09.048138Z",
     "start_time": "2021-03-28T14:15:09.041161Z"
    }
   },
   "outputs": [
    {
     "name": "stdout",
     "output_type": "stream",
     "text": [
      "2\n"
     ]
    }
   ],
   "source": [
    "test = [1, 2, 3, 5, 2, 2, 3, 1, 2, 6, 2] \n",
    "print(max(set(test), key = test.count)) "
   ]
  },
  {
   "cell_type": "code",
   "execution_count": 401,
   "metadata": {
    "ExecuteTime": {
     "end_time": "2021-03-28T14:24:28.859245Z",
     "start_time": "2021-03-28T14:24:28.850306Z"
    }
   },
   "outputs": [
    {
     "data": {
      "text/plain": [
       "2"
      ]
     },
     "execution_count": 401,
     "metadata": {},
     "output_type": "execute_result"
    }
   ],
   "source": [
    "from collections import Counter\n",
    "d=Counter(test)\n",
    "sorted(d.items(),key=lambda mydic:mydic[1],reverse=True)[0][0]"
   ]
  },
  {
   "cell_type": "markdown",
   "metadata": {},
   "source": [
    "## 查看某个变量占用内存大小"
   ]
  },
  {
   "cell_type": "code",
   "execution_count": 406,
   "metadata": {
    "ExecuteTime": {
     "end_time": "2021-03-28T14:25:42.162623Z",
     "start_time": "2021-03-28T14:25:42.155641Z"
    }
   },
   "outputs": [
    {
     "name": "stdout",
     "output_type": "stream",
     "text": [
      "28\n"
     ]
    }
   ],
   "source": [
    "import sys \n",
    "x = 1\n",
    "print(sys.getsizeof(x)) "
   ]
  },
  {
   "cell_type": "markdown",
   "metadata": {},
   "source": [
    "## 随机返回几个字母组成的单词"
   ]
  },
  {
   "cell_type": "code",
   "execution_count": 362,
   "metadata": {
    "ExecuteTime": {
     "end_time": "2021-03-28T14:07:25.072119Z",
     "start_time": "2021-03-28T14:07:25.064138Z"
    }
   },
   "outputs": [
    {
     "data": {
      "text/plain": [
       "'FTLJtaGB'"
      ]
     },
     "execution_count": 362,
     "metadata": {},
     "output_type": "execute_result"
    }
   ],
   "source": [
    "import string, random \n",
    "randword = lambda n: \"\".join([random.choice(string.ascii_letters) for i in range(n)])\n",
    "randword(8)"
   ]
  },
  {
   "cell_type": "markdown",
   "metadata": {},
   "source": [
    "## 从混乱的字符串中分解出单词"
   ]
  },
  {
   "cell_type": "code",
   "execution_count": 47,
   "metadata": {
    "ExecuteTime": {
     "end_time": "2021-10-09T12:08:56.288910Z",
     "start_time": "2021-10-09T12:08:56.268912Z"
    }
   },
   "outputs": [
    {
     "data": {
      "text/plain": [
       "['Johnny', 'Appleseed', 'is', 'a', 'good', 'farmer']"
      ]
     },
     "execution_count": 47,
     "metadata": {},
     "output_type": "execute_result"
    }
   ],
   "source": [
    "s='Johnny122.Appleseed56!is:a*good&$09farmer'\n",
    "reg='[a-zA-Z]+'\n",
    "import re\n",
    "re.findall(reg,s)"
   ]
  },
  {
   "cell_type": "code",
   "execution_count": 412,
   "metadata": {
    "ExecuteTime": {
     "end_time": "2021-03-28T14:27:57.248451Z",
     "start_time": "2021-03-28T14:27:57.242468Z"
    }
   },
   "outputs": [
    {
     "data": {
      "text/plain": [
       "['Johnny', 'Appleseed', 'is', 'a', 'good', 'farmer']"
      ]
     },
     "execution_count": 412,
     "metadata": {},
     "output_type": "execute_result"
    }
   ],
   "source": [
    "words = lambda text: ''.join(c if c.isalpha() else ' ' for c in text).split() \n",
    "words('Johnny122.Appleseed56!is:a*good&$09farmer') "
   ]
  },
  {
   "cell_type": "markdown",
   "metadata": {},
   "source": [
    "## 打印进度条"
   ]
  },
  {
   "cell_type": "code",
   "execution_count": 413,
   "metadata": {
    "ExecuteTime": {
     "end_time": "2021-03-28T14:29:27.720023Z",
     "start_time": "2021-03-28T14:29:17.528262Z"
    }
   },
   "outputs": [
    {
     "name": "stdout",
     "output_type": "stream",
     "text": [
      "Download progress: 99%   \r"
     ]
    }
   ],
   "source": [
    "import time \n",
    "import sys \n",
    "for progress in range(100): \n",
    "    time.sleep(0.1) \n",
    "    sys.stdout.write(\"Download progress: %d%%   \\r\" % (progress) )  \n",
    "    sys.stdout.flush() "
   ]
  },
  {
   "cell_type": "code",
   "execution_count": 416,
   "metadata": {
    "ExecuteTime": {
     "end_time": "2021-03-28T14:33:04.917578Z",
     "start_time": "2021-03-28T14:32:59.750881Z"
    }
   },
   "outputs": [
    {
     "name": "stderr",
     "output_type": "stream",
     "text": [
      "100%|████████████████████████████████████████████████████████████████████████████████| 100/100 [00:05<00:00, 19.40it/s]\n"
     ]
    }
   ],
   "source": [
    "import time\n",
    "from tqdm import tqdm, trange\n",
    "\n",
    "#trange(i)是tqdm(range(i))的一种简单写法\n",
    "for i in trange(100):\n",
    "    time.sleep(0.05)"
   ]
  },
  {
   "cell_type": "code",
   "execution_count": 417,
   "metadata": {
    "ExecuteTime": {
     "end_time": "2021-03-28T14:33:13.589133Z",
     "start_time": "2021-03-28T14:33:08.415465Z"
    }
   },
   "outputs": [
    {
     "name": "stderr",
     "output_type": "stream",
     "text": [
      "Processing: 100%|████████████████████████████████████████████████████████████████████| 100/100 [00:05<00:00, 19.37it/s]\n"
     ]
    }
   ],
   "source": [
    "for i in tqdm(range(100), desc='Processing'):\n",
    "    time.sleep(0.05)"
   ]
  },
  {
   "cell_type": "code",
   "execution_count": 418,
   "metadata": {
    "ExecuteTime": {
     "end_time": "2021-03-28T14:33:21.913133Z",
     "start_time": "2021-03-28T14:33:20.859644Z"
    }
   },
   "outputs": [
    {
     "name": "stderr",
     "output_type": "stream",
     "text": [
      "Processing e: 100%|██████████████████████████████████████████████████████████████████████| 5/5 [00:01<00:00,  4.85it/s]\n"
     ]
    }
   ],
   "source": [
    "dic = ['a', 'b', 'c', 'd', 'e']\n",
    "pbar = tqdm(dic)\n",
    "for i in pbar:\n",
    "    pbar.set_description('Processing '+i)\n",
    "    time.sleep(0.2)"
   ]
  },
  {
   "cell_type": "markdown",
   "metadata": {},
   "source": [
    "## 快速反转字符串"
   ]
  },
  {
   "cell_type": "code",
   "execution_count": 419,
   "metadata": {
    "ExecuteTime": {
     "end_time": "2021-03-28T14:33:58.394790Z",
     "start_time": "2021-03-28T14:33:58.389807Z"
    }
   },
   "outputs": [
    {
     "name": "stdout",
     "output_type": "stream",
     "text": [
      ".egnaugnal lufrewop a si nohtyP\n"
     ]
    }
   ],
   "source": [
    "a = 'Python is a powerful languange.'\n",
    "print(a[::-1])"
   ]
  },
  {
   "cell_type": "markdown",
   "metadata": {},
   "source": [
    "## 找出两个列表中不一样的元素"
   ]
  },
  {
   "cell_type": "code",
   "execution_count": 420,
   "metadata": {
    "ExecuteTime": {
     "end_time": "2021-03-28T14:34:47.795659Z",
     "start_time": "2021-03-28T14:34:47.787711Z"
    }
   },
   "outputs": [
    {
     "name": "stdout",
     "output_type": "stream",
     "text": [
      "['Smith', 'Emma']\n"
     ]
    }
   ],
   "source": [
    "set1 = set(list1)\n",
    "set2 = set(list2)\n",
    "\n",
    "list3 = list(set1.symmetric_difference(set2))\n",
    "print(list3)"
   ]
  },
  {
   "cell_type": "code",
   "execution_count": 421,
   "metadata": {
    "ExecuteTime": {
     "end_time": "2021-03-28T14:35:07.857717Z",
     "start_time": "2021-03-28T14:35:07.851735Z"
    }
   },
   "outputs": [
    {
     "data": {
      "text/plain": [
       "{'Emma', 'Smith'}"
      ]
     },
     "execution_count": 421,
     "metadata": {},
     "output_type": "execute_result"
    }
   ],
   "source": [
    "set1-set2"
   ]
  },
  {
   "cell_type": "markdown",
   "metadata": {},
   "source": [
    "## 将两个列表变为字典"
   ]
  },
  {
   "cell_type": "code",
   "execution_count": 423,
   "metadata": {
    "ExecuteTime": {
     "end_time": "2021-03-28T14:35:50.643573Z",
     "start_time": "2021-03-28T14:35:50.636591Z"
    }
   },
   "outputs": [
    {
     "name": "stdout",
     "output_type": "stream",
     "text": [
      "{54: 'Hard Disk', 65: 'Laptop', 76: 'RAM'}\n"
     ]
    }
   ],
   "source": [
    "ItemId = [54, 65, 76]\n",
    "names = [\"Hard Disk\", \"Laptop\", \"RAM\"]\n",
    "itemDictionary = dict(zip(ItemId, names))\n",
    "print(itemDictionary)"
   ]
  },
  {
   "cell_type": "markdown",
   "metadata": {},
   "source": [
    "## 移除字符串中的标点"
   ]
  },
  {
   "cell_type": "code",
   "execution_count": 424,
   "metadata": {
    "ExecuteTime": {
     "end_time": "2021-03-28T14:36:36.129438Z",
     "start_time": "2021-03-28T14:36:36.121459Z"
    }
   },
   "outputs": [
    {
     "name": "stdout",
     "output_type": "stream",
     "text": [
      "你好我的网名叫作：隔壁老王\n"
     ]
    }
   ],
   "source": [
    "punctuations = '''!()-[]{};:'\"\\,<>./?@#$%^&*_~，。！？'''\n",
    "my_str = \"你好，!!我的网名叫作：隔-壁-老-王。\"\n",
    "\n",
    "# 移除标点\n",
    "no_punct = \"\"\n",
    "for char in my_str:\n",
    "    if char not in punctuations:\n",
    "        no_punct = no_punct + char\n",
    "print(no_punct)"
   ]
  },
  {
   "cell_type": "markdown",
   "metadata": {},
   "source": [
    "## 创建一个文件（如果该文件不存在）"
   ]
  },
  {
   "cell_type": "code",
   "execution_count": 425,
   "metadata": {
    "ExecuteTime": {
     "end_time": "2021-03-28T14:39:00.308893Z",
     "start_time": "2021-03-28T14:39:00.297922Z"
    }
   },
   "outputs": [
    {
     "name": "stdout",
     "output_type": "stream",
     "text": [
      "C:\\Users\\zjy\n"
     ]
    }
   ],
   "source": [
    "import os  \n",
    "\n",
    "MESSAGE = '该文件已经存在.'\n",
    "TESTDIR = 'testdir'\n",
    "try:\n",
    "    home = os.path.expanduser(\"~\")  \n",
    "    print(home)  \n",
    "\n",
    "    if not os.path.exists(os.path.join(home, TESTDIR)):  \n",
    "        os.makedirs(os.path.join(home, TESTDIR))  \n",
    "    else:\n",
    "        print(MESSAGE)\n",
    "except Exception as e:\n",
    "    print(e)"
   ]
  },
  {
   "cell_type": "markdown",
   "metadata": {},
   "source": [
    "## 从函数中返回多个值"
   ]
  },
  {
   "cell_type": "code",
   "execution_count": 426,
   "metadata": {
    "ExecuteTime": {
     "end_time": "2021-03-28T14:39:40.463885Z",
     "start_time": "2021-03-28T14:39:40.456904Z"
    }
   },
   "outputs": [
    {
     "name": "stdout",
     "output_type": "stream",
     "text": [
      "1 2 3 4\n"
     ]
    }
   ],
   "source": [
    "def f():\n",
    "    return 1,2,3,4 \n",
    "\n",
    "a,b,c,d = f()\n",
    "print(a,b,c,d) "
   ]
  },
  {
   "cell_type": "code",
   "execution_count": 430,
   "metadata": {
    "ExecuteTime": {
     "end_time": "2021-03-28T14:44:27.824141Z",
     "start_time": "2021-03-28T14:44:27.818160Z"
    }
   },
   "outputs": [
    {
     "data": {
      "text/plain": [
       "{'a': 1, 'b': 2, 'c': 3}"
      ]
     },
     "execution_count": 430,
     "metadata": {},
     "output_type": "execute_result"
    }
   ],
   "source": [
    "d=dict(a=1,b=2,c=3)\n",
    "d"
   ]
  },
  {
   "cell_type": "code",
   "execution_count": 435,
   "metadata": {
    "ExecuteTime": {
     "end_time": "2021-03-28T14:45:28.111261Z",
     "start_time": "2021-03-28T14:45:28.102319Z"
    }
   },
   "outputs": [
    {
     "data": {
      "text/plain": [
       "'c'"
      ]
     },
     "execution_count": 435,
     "metadata": {},
     "output_type": "execute_result"
    }
   ],
   "source": [
    "list(d.keys())[list(d.values()).index(3)]"
   ]
  },
  {
   "cell_type": "code",
   "execution_count": null,
   "metadata": {},
   "outputs": [],
   "source": []
  }
 ],
 "metadata": {
  "hide_input": false,
  "kernelspec": {
   "display_name": "Python 3 (ipykernel)",
   "language": "python",
   "name": "python3"
  },
  "language_info": {
   "codemirror_mode": {
    "name": "ipython",
    "version": 3
   },
   "file_extension": ".py",
   "mimetype": "text/x-python",
   "name": "python",
   "nbconvert_exporter": "python",
   "pygments_lexer": "ipython3",
   "version": "3.8.5"
  },
  "toc": {
   "base_numbering": 1,
   "nav_menu": {},
   "number_sections": true,
   "sideBar": true,
   "skip_h1_title": false,
   "title_cell": "Table of Contents",
   "title_sidebar": "Contents",
   "toc_cell": false,
   "toc_position": {
    "height": "calc(100% - 180px)",
    "left": "10px",
    "top": "150px",
    "width": "256px"
   },
   "toc_section_display": true,
   "toc_window_display": true
  }
 },
 "nbformat": 4,
 "nbformat_minor": 4
}
